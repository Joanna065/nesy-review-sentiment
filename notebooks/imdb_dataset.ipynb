{
 "cells": [
  {
   "cell_type": "markdown",
   "source": [
    "# IMDB dataset"
   ],
   "metadata": {
    "collapsed": false,
    "pycharm": {
     "name": "#%% md\n"
    }
   }
  },
  {
   "cell_type": "markdown",
   "source": [
    "### Preprocess"
   ],
   "metadata": {
    "collapsed": false,
    "pycharm": {
     "name": "#%% md\n"
    }
   }
  },
  {
   "cell_type": "code",
   "execution_count": 2,
   "outputs": [],
   "source": [
    "import pandas as pd\n",
    "\n",
    "\n",
    "def clean_text(df: pd.DataFrame) -> pd.DataFrame:\n",
    "    sentences = df.sentence.values\n",
    "\n",
    "    cleaned_sentences = []\n",
    "    for sentence in sentences:\n",
    "        sentence = sentence.replace('<br /><br />', ' ')\n",
    "        cleaned_sentences.append(sentence)\n",
    "\n",
    "    df['sentence'] = cleaned_sentences\n",
    "    return df"
   ],
   "metadata": {
    "collapsed": false,
    "pycharm": {
     "name": "#%%\n"
    }
   }
  },
  {
   "cell_type": "code",
   "execution_count": 7,
   "metadata": {
    "collapsed": true
   },
   "outputs": [],
   "source": [
    "# from src import DATA_DIR\n",
    "#\n",
    "# DATA_DIR = DATA_DIR.joinpath('imdb')\n",
    "#\n",
    "# df_train = pd.read_csv(DATA_DIR.joinpath('train.tsv'), sep='\\t')\n",
    "# df_train_cleaned = clean_text(df_train)\n",
    "# df_train_cleaned.to_csv(DATA_DIR.joinpath('train.tsv'), sep='\\t', index=False)\n",
    "#\n",
    "# df_dev = pd.read_csv(DATA_DIR.joinpath('dev.tsv'), sep='\\t')\n",
    "# df_dev_cleaned = clean_text(df_dev)\n",
    "# df_dev_cleaned.to_csv(DATA_DIR.joinpath('dev.tsv'), sep='\\t', index=False)\n",
    "#\n",
    "# df_test = pd.read_csv(DATA_DIR.joinpath('test.tsv'), sep='\\t')\n",
    "# df_test_cleaned = clean_text(df_test)\n",
    "# df_test_cleaned.to_csv(DATA_DIR.joinpath('test.tsv'), sep='\\t', index=False)"
   ]
  },
  {
   "cell_type": "markdown",
   "source": [
    "## Read data"
   ],
   "metadata": {
    "collapsed": false,
    "pycharm": {
     "name": "#%% md\n"
    }
   }
  },
  {
   "cell_type": "code",
   "execution_count": 3,
   "outputs": [],
   "source": [
    "from src.settings import DATA_DIR\n",
    "\n",
    "DATA_DIR = DATA_DIR.joinpath('imdb')\n",
    "\n",
    "df_train = pd.read_csv(DATA_DIR.joinpath('train.tsv'), sep='\\t')\n",
    "df_dev = pd.read_csv(DATA_DIR.joinpath('dev.tsv'), sep='\\t')\n",
    "df_test = pd.read_csv(DATA_DIR.joinpath('test.tsv'), sep='\\t')"
   ],
   "metadata": {
    "collapsed": false,
    "pycharm": {
     "name": "#%%\n"
    }
   }
  },
  {
   "cell_type": "code",
   "execution_count": 4,
   "outputs": [
    {
     "data": {
      "text/plain": "                                            sentence  label\n0  I have nothing against religious movies. Relig...      0\n1  Unfortunately for myself - I stumbled onto thi...      1\n2  A man brings his new wife to his home where hi...      0\n3  I'm not sure that this comment contains an act...      1\n4  when i first started watching these it became ...      1",
      "text/html": "<div>\n<style scoped>\n    .dataframe tbody tr th:only-of-type {\n        vertical-align: middle;\n    }\n\n    .dataframe tbody tr th {\n        vertical-align: top;\n    }\n\n    .dataframe thead th {\n        text-align: right;\n    }\n</style>\n<table border=\"1\" class=\"dataframe\">\n  <thead>\n    <tr style=\"text-align: right;\">\n      <th></th>\n      <th>sentence</th>\n      <th>label</th>\n    </tr>\n  </thead>\n  <tbody>\n    <tr>\n      <th>0</th>\n      <td>I have nothing against religious movies. Relig...</td>\n      <td>0</td>\n    </tr>\n    <tr>\n      <th>1</th>\n      <td>Unfortunately for myself - I stumbled onto thi...</td>\n      <td>1</td>\n    </tr>\n    <tr>\n      <th>2</th>\n      <td>A man brings his new wife to his home where hi...</td>\n      <td>0</td>\n    </tr>\n    <tr>\n      <th>3</th>\n      <td>I'm not sure that this comment contains an act...</td>\n      <td>1</td>\n    </tr>\n    <tr>\n      <th>4</th>\n      <td>when i first started watching these it became ...</td>\n      <td>1</td>\n    </tr>\n  </tbody>\n</table>\n</div>"
     },
     "execution_count": 4,
     "metadata": {},
     "output_type": "execute_result"
    }
   ],
   "source": [
    "df_train.head()"
   ],
   "metadata": {
    "collapsed": false,
    "pycharm": {
     "name": "#%%\n"
    }
   }
  },
  {
   "cell_type": "code",
   "execution_count": 5,
   "outputs": [
    {
     "name": "stdout",
     "output_type": "stream",
     "text": [
      "<class 'pandas.core.frame.DataFrame'>\n",
      "RangeIndex: 22500 entries, 0 to 22499\n",
      "Data columns (total 2 columns):\n",
      " #   Column    Non-Null Count  Dtype \n",
      "---  ------    --------------  ----- \n",
      " 0   sentence  22500 non-null  object\n",
      " 1   label     22500 non-null  int64 \n",
      "dtypes: int64(1), object(1)\n",
      "memory usage: 351.7+ KB\n"
     ]
    }
   ],
   "source": [
    "df_train.info()"
   ],
   "metadata": {
    "collapsed": false,
    "pycharm": {
     "name": "#%%\n"
    }
   }
  },
  {
   "cell_type": "code",
   "execution_count": 6,
   "outputs": [
    {
     "name": "stdout",
     "output_type": "stream",
     "text": [
      "<class 'pandas.core.frame.DataFrame'>\n",
      "RangeIndex: 2500 entries, 0 to 2499\n",
      "Data columns (total 2 columns):\n",
      " #   Column    Non-Null Count  Dtype \n",
      "---  ------    --------------  ----- \n",
      " 0   sentence  2500 non-null   object\n",
      " 1   label     2500 non-null   int64 \n",
      "dtypes: int64(1), object(1)\n",
      "memory usage: 39.2+ KB\n"
     ]
    }
   ],
   "source": [
    "df_dev.info()"
   ],
   "metadata": {
    "collapsed": false,
    "pycharm": {
     "name": "#%%\n"
    }
   }
  },
  {
   "cell_type": "code",
   "execution_count": 7,
   "outputs": [
    {
     "name": "stdout",
     "output_type": "stream",
     "text": [
      "<class 'pandas.core.frame.DataFrame'>\n",
      "RangeIndex: 25000 entries, 0 to 24999\n",
      "Data columns (total 2 columns):\n",
      " #   Column    Non-Null Count  Dtype \n",
      "---  ------    --------------  ----- \n",
      " 0   sentence  25000 non-null  object\n",
      " 1   label     25000 non-null  int64 \n",
      "dtypes: int64(1), object(1)\n",
      "memory usage: 390.8+ KB\n"
     ]
    }
   ],
   "source": [
    "df_test.info()"
   ],
   "metadata": {
    "collapsed": false,
    "pycharm": {
     "name": "#%%\n"
    }
   }
  },
  {
   "cell_type": "markdown",
   "source": [
    "### Concat all splits"
   ],
   "metadata": {
    "collapsed": false,
    "pycharm": {
     "name": "#%% md\n"
    }
   }
  },
  {
   "cell_type": "code",
   "execution_count": 17,
   "outputs": [],
   "source": [
    "df_train['split'] = 'train'\n",
    "df_dev['split'] = 'val'\n",
    "df_test['split'] = 'test'\n",
    "df_all = pd.concat([df_train, df_dev, df_test], ignore_index=True)"
   ],
   "metadata": {
    "collapsed": false,
    "pycharm": {
     "name": "#%%\n"
    }
   }
  },
  {
   "cell_type": "markdown",
   "source": [
    "### Label distribution"
   ],
   "metadata": {
    "collapsed": false,
    "pycharm": {
     "name": "#%% md\n"
    }
   }
  },
  {
   "cell_type": "code",
   "execution_count": 18,
   "outputs": [
    {
     "name": "stdout",
     "output_type": "stream",
     "text": [
      "Unique labels: [0 1]\n"
     ]
    },
    {
     "data": {
      "text/plain": "<seaborn.axisgrid.FacetGrid at 0x7febb66dfaf0>"
     },
     "execution_count": 18,
     "metadata": {},
     "output_type": "execute_result"
    },
    {
     "data": {
      "text/plain": "<Figure size 648x216 with 3 Axes>",
      "image/png": "[encoded data removed]"
     },
     "metadata": {
      "needs_background": "light"
     },
     "output_type": "display_data"
    }
   ],
   "source": [
    "import seaborn as sns\n",
    "\n",
    "print(f'Unique labels: {df_all.label.unique()}')\n",
    "\n",
    "g = sns.FacetGrid(df_all, col=\"split\")\n",
    "g.map(sns.countplot, 'label', order=[0, 1])"
   ],
   "metadata": {
    "collapsed": false,
    "pycharm": {
     "name": "#%%\n"
    }
   }
  },
  {
   "cell_type": "markdown",
   "source": [
    "### Text length"
   ],
   "metadata": {
    "collapsed": false,
    "pycharm": {
     "name": "#%% md\n"
    }
   }
  },
  {
   "cell_type": "code",
   "execution_count": 19,
   "outputs": [
    {
     "data": {
      "text/plain": "<seaborn.axisgrid.FacetGrid at 0x7fec3c431460>"
     },
     "execution_count": 19,
     "metadata": {},
     "output_type": "execute_result"
    },
    {
     "data": {
      "text/plain": "<Figure size 648x216 with 3 Axes>",
      "image/png": "[encoded data removed]"
     },
     "metadata": {
      "needs_background": "light"
     },
     "output_type": "display_data"
    }
   ],
   "source": [
    "df_all['text_len'] = df_all.sentence.apply(lambda x: len(x.split(' ')))\n",
    "\n",
    "g = sns.FacetGrid(df_all, col=\"split\")\n",
    "g.map(sns.histplot, 'text_len')"
   ],
   "metadata": {
    "collapsed": false,
    "pycharm": {
     "name": "#%%\n"
    }
   }
  },
  {
   "cell_type": "code",
   "execution_count": 20,
   "outputs": [
    {
     "data": {
      "text/plain": "              label      text_len\ncount  50000.000000  50000.000000\nmean       0.500000    229.128580\nstd        0.500005    169.788943\nmin        0.000000      4.000000\n25%        0.000000    125.000000\n50%        0.500000    172.000000\n75%        1.000000    278.000000\nmax        1.000000   2460.000000",
      "text/html": "<div>\n<style scoped>\n    .dataframe tbody tr th:only-of-type {\n        vertical-align: middle;\n    }\n\n    .dataframe tbody tr th {\n        vertical-align: top;\n    }\n\n    .dataframe thead th {\n        text-align: right;\n    }\n</style>\n<table border=\"1\" class=\"dataframe\">\n  <thead>\n    <tr style=\"text-align: right;\">\n      <th></th>\n      <th>label</th>\n      <th>text_len</th>\n    </tr>\n  </thead>\n  <tbody>\n    <tr>\n      <th>count</th>\n      <td>50000.000000</td>\n      <td>50000.000000</td>\n    </tr>\n    <tr>\n      <th>mean</th>\n      <td>0.500000</td>\n      <td>229.128580</td>\n    </tr>\n    <tr>\n      <th>std</th>\n      <td>0.500005</td>\n      <td>169.788943</td>\n    </tr>\n    <tr>\n      <th>min</th>\n      <td>0.000000</td>\n      <td>4.000000</td>\n    </tr>\n    <tr>\n      <th>25%</th>\n      <td>0.000000</td>\n      <td>125.000000</td>\n    </tr>\n    <tr>\n      <th>50%</th>\n      <td>0.500000</td>\n      <td>172.000000</td>\n    </tr>\n    <tr>\n      <th>75%</th>\n      <td>1.000000</td>\n      <td>278.000000</td>\n    </tr>\n    <tr>\n      <th>max</th>\n      <td>1.000000</td>\n      <td>2460.000000</td>\n    </tr>\n  </tbody>\n</table>\n</div>"
     },
     "execution_count": 20,
     "metadata": {},
     "output_type": "execute_result"
    }
   ],
   "source": [
    "df_all.describe()"
   ],
   "metadata": {
    "collapsed": false,
    "pycharm": {
     "name": "#%%\n"
    }
   }
  },
  {
   "cell_type": "markdown",
   "source": [
    "### Tokenized text length"
   ],
   "metadata": {
    "collapsed": false,
    "pycharm": {
     "name": "#%% md\n"
    }
   }
  },
  {
   "cell_type": "code",
   "execution_count": 21,
   "outputs": [
    {
     "name": "stderr",
     "output_type": "stream",
     "text": [
      "Token indices sequence length is longer than the specified maximum sequence length for this model (521 > 512). Running this sequence through the model will result in indexing errors\n"
     ]
    },
    {
     "data": {
      "text/plain": "                                            sentence  label  split  text_len  \\\n0  I have nothing against religious movies. Relig...      0  train       183   \n1  Unfortunately for myself - I stumbled onto thi...      1  train       136   \n2  A man brings his new wife to his home where hi...      0  train       242   \n3  I'm not sure that this comment contains an act...      1  train       199   \n4  when i first started watching these it became ...      1  train       391   \n\n   tok_len  \n0      234  \n1      197  \n2      307  \n3      284  \n4      521  ",
      "text/html": "<div>\n<style scoped>\n    .dataframe tbody tr th:only-of-type {\n        vertical-align: middle;\n    }\n\n    .dataframe tbody tr th {\n        vertical-align: top;\n    }\n\n    .dataframe thead th {\n        text-align: right;\n    }\n</style>\n<table border=\"1\" class=\"dataframe\">\n  <thead>\n    <tr style=\"text-align: right;\">\n      <th></th>\n      <th>sentence</th>\n      <th>label</th>\n      <th>split</th>\n      <th>text_len</th>\n      <th>tok_len</th>\n    </tr>\n  </thead>\n  <tbody>\n    <tr>\n      <th>0</th>\n      <td>I have nothing against religious movies. Relig...</td>\n      <td>0</td>\n      <td>train</td>\n      <td>183</td>\n      <td>234</td>\n    </tr>\n    <tr>\n      <th>1</th>\n      <td>Unfortunately for myself - I stumbled onto thi...</td>\n      <td>1</td>\n      <td>train</td>\n      <td>136</td>\n      <td>197</td>\n    </tr>\n    <tr>\n      <th>2</th>\n      <td>A man brings his new wife to his home where hi...</td>\n      <td>0</td>\n      <td>train</td>\n      <td>242</td>\n      <td>307</td>\n    </tr>\n    <tr>\n      <th>3</th>\n      <td>I'm not sure that this comment contains an act...</td>\n      <td>1</td>\n      <td>train</td>\n      <td>199</td>\n      <td>284</td>\n    </tr>\n    <tr>\n      <th>4</th>\n      <td>when i first started watching these it became ...</td>\n      <td>1</td>\n      <td>train</td>\n      <td>391</td>\n      <td>521</td>\n    </tr>\n  </tbody>\n</table>\n</div>"
     },
     "execution_count": 21,
     "metadata": {},
     "output_type": "execute_result"
    }
   ],
   "source": [
    "from transformers import AutoTokenizer\n",
    "\n",
    "HUGGINGFACE_MODEL_NAME = 'bert-base-cased'\n",
    "tokenizer = AutoTokenizer.from_pretrained(HUGGINGFACE_MODEL_NAME, do_lower_case=True)\n",
    "\n",
    "texts = df_all['sentence'].values.tolist()\n",
    "\n",
    "text_tokenized = tokenizer(\n",
    "    texts,\n",
    "    add_special_tokens=True,\n",
    "    return_token_type_ids=False,\n",
    "    return_attention_mask=False,\n",
    "    truncation=False,\n",
    "    padding=False,\n",
    "    return_length=True\n",
    ")\n",
    "text_tokens = text_tokenized['input_ids']\n",
    "lengths = text_tokenized['length']\n",
    "\n",
    "df_all['tok_len'] = lengths\n",
    "df_all.head()"
   ],
   "metadata": {
    "collapsed": false,
    "pycharm": {
     "name": "#%%\n"
    }
   }
  },
  {
   "cell_type": "code",
   "execution_count": 22,
   "outputs": [
    {
     "data": {
      "text/plain": "              label      text_len       tok_len\ncount  50000.000000  50000.000000  50000.000000\nmean       0.500000    229.128580    310.427340\nstd        0.500005    169.788943    232.013278\nmin        0.000000      4.000000     10.000000\n25%        0.000000    125.000000    168.000000\n50%        0.500000    172.000000    232.000000\n75%        1.000000    278.000000    376.000000\nmax        1.000000   2460.000000   3339.000000",
      "text/html": "<div>\n<style scoped>\n    .dataframe tbody tr th:only-of-type {\n        vertical-align: middle;\n    }\n\n    .dataframe tbody tr th {\n        vertical-align: top;\n    }\n\n    .dataframe thead th {\n        text-align: right;\n    }\n</style>\n<table border=\"1\" class=\"dataframe\">\n  <thead>\n    <tr style=\"text-align: right;\">\n      <th></th>\n      <th>label</th>\n      <th>text_len</th>\n      <th>tok_len</th>\n    </tr>\n  </thead>\n  <tbody>\n    <tr>\n      <th>count</th>\n      <td>50000.000000</td>\n      <td>50000.000000</td>\n      <td>50000.000000</td>\n    </tr>\n    <tr>\n      <th>mean</th>\n      <td>0.500000</td>\n      <td>229.128580</td>\n      <td>310.427340</td>\n    </tr>\n    <tr>\n      <th>std</th>\n      <td>0.500005</td>\n      <td>169.788943</td>\n      <td>232.013278</td>\n    </tr>\n    <tr>\n      <th>min</th>\n      <td>0.000000</td>\n      <td>4.000000</td>\n      <td>10.000000</td>\n    </tr>\n    <tr>\n      <th>25%</th>\n      <td>0.000000</td>\n      <td>125.000000</td>\n      <td>168.000000</td>\n    </tr>\n    <tr>\n      <th>50%</th>\n      <td>0.500000</td>\n      <td>172.000000</td>\n      <td>232.000000</td>\n    </tr>\n    <tr>\n      <th>75%</th>\n      <td>1.000000</td>\n      <td>278.000000</td>\n      <td>376.000000</td>\n    </tr>\n    <tr>\n      <th>max</th>\n      <td>1.000000</td>\n      <td>2460.000000</td>\n      <td>3339.000000</td>\n    </tr>\n  </tbody>\n</table>\n</div>"
     },
     "execution_count": 22,
     "metadata": {},
     "output_type": "execute_result"
    }
   ],
   "source": [
    "df_all.describe()"
   ],
   "metadata": {
    "collapsed": false,
    "pycharm": {
     "name": "#%%\n"
    }
   }
  },
  {
   "cell_type": "code",
   "execution_count": 23,
   "outputs": [
    {
     "data": {
      "text/plain": "<Figure size 1152x432 with 1 Axes>",
      "image/png": "[encoded data removed]"
     },
     "metadata": {
      "needs_background": "light"
     },
     "output_type": "display_data"
    }
   ],
   "source": [
    "import matplotlib.pyplot as plt\n",
    "\n",
    "fig, ax = plt.subplots(figsize=(16, 6))\n",
    "\n",
    "sns.histplot(x='tok_len', data=df_all, ax=ax)\n",
    "max_val = max([p.get_height() for p in ax.patches])\n",
    "for q, ls in zip([0.75, 0.85, 0.95, 0.99], [(0, (5, 5)), (0, (5, 4)), (0, (5, 3)), (0, (5, 2))]):\n",
    "    qv = int(df_all['tok_len'].quantile(q))\n",
    "    ax.axvline(qv, color='red', ls=ls, lw=1.5, label=q)\n",
    "    ax.annotate(\n",
    "        qv,\n",
    "        xy=(qv, max_val * 0.8),\n",
    "        xytext=(qv + 9, max_val * 0.85),\n",
    "        arrowprops=dict(arrowstyle=\"->\", color='black'),\n",
    "    )\n",
    "\n",
    "ax.legend(title='Quantile')\n",
    "\n",
    "fig.tight_layout()"
   ],
   "metadata": {
    "collapsed": false,
    "pycharm": {
     "name": "#%%\n"
    }
   }
  }
 ],
 "metadata": {
  "kernelspec": {
   "display_name": "Python 3",
   "language": "python",
   "name": "python3"
  },
  "language_info": {
   "codemirror_mode": {
    "name": "ipython",
    "version": 2
   },
   "file_extension": ".py",
   "mimetype": "text/x-python",
   "name": "python",
   "nbconvert_exporter": "python",
   "pygments_lexer": "ipython2",
   "version": "2.7.6"
  }
 },
 "nbformat": 4,
 "nbformat_minor": 0
}