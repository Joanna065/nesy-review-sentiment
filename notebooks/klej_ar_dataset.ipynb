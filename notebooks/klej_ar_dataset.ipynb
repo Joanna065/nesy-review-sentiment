{
 "cells": [
  {
   "cell_type": "markdown",
   "source": [
    "# KLEJ Allegro reviews dataset"
   ],
   "metadata": {
    "collapsed": false,
    "pycharm": {
     "name": "#%% md\n"
    }
   }
  },
  {
   "cell_type": "code",
   "execution_count": 1,
   "outputs": [
    {
     "name": "stderr",
     "output_type": "stream",
     "text": [
      "<frozen importlib._bootstrap>:228: RuntimeWarning: scipy._lib.messagestream.MessageStream size changed, may indicate binary incompatibility. Expected 56 from C header, got 64 from PyObject\n",
      "Using custom data configuration allegro--klej-allegro-reviews-214dafb30a55202b\n",
      "Reusing dataset csv (/home/joanna/.cache/huggingface/datasets/csv/allegro--klej-allegro-reviews-214dafb30a55202b/0.0.0/433e0ccc46f9880962cc2b12065189766fbb2bee57a221866138fb9203c83519)\n"
     ]
    },
    {
     "data": {
      "text/plain": "  0%|          | 0/3 [00:00<?, ?it/s]",
      "application/vnd.jupyter.widget-view+json": {
       "version_major": 2,
       "version_minor": 0,
       "model_id": "6360d0695eaa457e84e8ac3326f16e52"
      }
     },
     "metadata": {},
     "output_type": "display_data"
    }
   ],
   "source": [
    "import datasets\n",
    "import pandas as pd\n",
    "import seaborn as sns\n",
    "\n",
    "allegro_dataset = datasets.load_dataset('allegro/klej-allegro-reviews')\n",
    "df_train = allegro_dataset['train'].to_pandas()\n",
    "df_val = allegro_dataset['validation'].to_pandas()\n",
    "df_test = allegro_dataset['test'].to_pandas()"
   ],
   "metadata": {
    "collapsed": false,
    "pycharm": {
     "name": "#%%\n"
    }
   }
  },
  {
   "cell_type": "code",
   "execution_count": 2,
   "outputs": [
    {
     "data": {
      "text/plain": "                                                text  rating\n0  Jako do ceny dobra. Przyssawka mogłaby być lep...     3.0\n1  Na słuchawkę czekałam spory czas a po zadzwoni...     1.0\n2  Czajnik na pierwszy rzut oka wygląda ok, ale n...     1.0\n3  Bardzo fajny czajnik, na pewno nie gorszy od m...     4.0\n4  Pomysł na produkt (uchwyt na kierownicę) bardz...     2.0",
      "text/html": "<div>\n<style scoped>\n    .dataframe tbody tr th:only-of-type {\n        vertical-align: middle;\n    }\n\n    .dataframe tbody tr th {\n        vertical-align: top;\n    }\n\n    .dataframe thead th {\n        text-align: right;\n    }\n</style>\n<table border=\"1\" class=\"dataframe\">\n  <thead>\n    <tr style=\"text-align: right;\">\n      <th></th>\n      <th>text</th>\n      <th>rating</th>\n    </tr>\n  </thead>\n  <tbody>\n    <tr>\n      <th>0</th>\n      <td>Jako do ceny dobra. Przyssawka mogłaby być lep...</td>\n      <td>3.0</td>\n    </tr>\n    <tr>\n      <th>1</th>\n      <td>Na słuchawkę czekałam spory czas a po zadzwoni...</td>\n      <td>1.0</td>\n    </tr>\n    <tr>\n      <th>2</th>\n      <td>Czajnik na pierwszy rzut oka wygląda ok, ale n...</td>\n      <td>1.0</td>\n    </tr>\n    <tr>\n      <th>3</th>\n      <td>Bardzo fajny czajnik, na pewno nie gorszy od m...</td>\n      <td>4.0</td>\n    </tr>\n    <tr>\n      <th>4</th>\n      <td>Pomysł na produkt (uchwyt na kierownicę) bardz...</td>\n      <td>2.0</td>\n    </tr>\n  </tbody>\n</table>\n</div>"
     },
     "execution_count": 2,
     "metadata": {},
     "output_type": "execute_result"
    }
   ],
   "source": [
    "df_train.head()"
   ],
   "metadata": {
    "collapsed": false,
    "pycharm": {
     "name": "#%%\n"
    }
   }
  },
  {
   "cell_type": "code",
   "execution_count": 3,
   "outputs": [
    {
     "name": "stdout",
     "output_type": "stream",
     "text": [
      "<class 'pandas.core.frame.DataFrame'>\n",
      "RangeIndex: 9577 entries, 0 to 9576\n",
      "Data columns (total 2 columns):\n",
      " #   Column  Non-Null Count  Dtype  \n",
      "---  ------  --------------  -----  \n",
      " 0   text    9577 non-null   object \n",
      " 1   rating  9577 non-null   float64\n",
      "dtypes: float64(1), object(1)\n",
      "memory usage: 149.8+ KB\n"
     ]
    }
   ],
   "source": [
    "df_train.info()"
   ],
   "metadata": {
    "collapsed": false,
    "pycharm": {
     "name": "#%%\n"
    }
   }
  },
  {
   "cell_type": "code",
   "execution_count": 4,
   "outputs": [
    {
     "name": "stdout",
     "output_type": "stream",
     "text": [
      "<class 'pandas.core.frame.DataFrame'>\n",
      "RangeIndex: 1002 entries, 0 to 1001\n",
      "Data columns (total 2 columns):\n",
      " #   Column  Non-Null Count  Dtype  \n",
      "---  ------  --------------  -----  \n",
      " 0   text    1002 non-null   object \n",
      " 1   rating  1002 non-null   float64\n",
      "dtypes: float64(1), object(1)\n",
      "memory usage: 15.8+ KB\n"
     ]
    }
   ],
   "source": [
    "df_val.info()"
   ],
   "metadata": {
    "collapsed": false,
    "pycharm": {
     "name": "#%%\n"
    }
   }
  },
  {
   "cell_type": "code",
   "execution_count": 5,
   "outputs": [
    {
     "data": {
      "text/plain": "                                                   text  rating\n0     1. Ładowanie bezprzewodowe działa, ale słabo. ...     4.0\n1     Uchwyt dobrze trzyma telefon. Ramiona mają spo...     4.0\n2     \"Gdyby nie problem  jeśli w pobliżu znajduje s...     2.0\n3     Wypróbowałam na 2x 5kg pomidorów i grubszym si...     5.0\n4     \"Produkt w pełni spełnia moje oczekiwania. Oba...     5.0\n...                                                 ...     ...\n1001  Super sprzęt, ale wymaga wiedzy i trochę kombi...     5.0\n1002  Nie mogę teraz stwierdzić jednoznacznie stanu ...     4.0\n1003  Zanim kupiłem tą baterie, miałem okazje przeko...     3.0\n1004  power bank porażka miał mieć 20000mah , co pow...     1.0\n1005  \"No niestety, PODRÓBA chyba. HTC od Beats brzm...     2.0\n\n[1006 rows x 2 columns]",
      "text/html": "<div>\n<style scoped>\n    .dataframe tbody tr th:only-of-type {\n        vertical-align: middle;\n    }\n\n    .dataframe tbody tr th {\n        vertical-align: top;\n    }\n\n    .dataframe thead th {\n        text-align: right;\n    }\n</style>\n<table border=\"1\" class=\"dataframe\">\n  <thead>\n    <tr style=\"text-align: right;\">\n      <th></th>\n      <th>text</th>\n      <th>rating</th>\n    </tr>\n  </thead>\n  <tbody>\n    <tr>\n      <th>0</th>\n      <td>1. Ładowanie bezprzewodowe działa, ale słabo. ...</td>\n      <td>4.0</td>\n    </tr>\n    <tr>\n      <th>1</th>\n      <td>Uchwyt dobrze trzyma telefon. Ramiona mają spo...</td>\n      <td>4.0</td>\n    </tr>\n    <tr>\n      <th>2</th>\n      <td>\"Gdyby nie problem  jeśli w pobliżu znajduje s...</td>\n      <td>2.0</td>\n    </tr>\n    <tr>\n      <th>3</th>\n      <td>Wypróbowałam na 2x 5kg pomidorów i grubszym si...</td>\n      <td>5.0</td>\n    </tr>\n    <tr>\n      <th>4</th>\n      <td>\"Produkt w pełni spełnia moje oczekiwania. Oba...</td>\n      <td>5.0</td>\n    </tr>\n    <tr>\n      <th>...</th>\n      <td>...</td>\n      <td>...</td>\n    </tr>\n    <tr>\n      <th>1001</th>\n      <td>Super sprzęt, ale wymaga wiedzy i trochę kombi...</td>\n      <td>5.0</td>\n    </tr>\n    <tr>\n      <th>1002</th>\n      <td>Nie mogę teraz stwierdzić jednoznacznie stanu ...</td>\n      <td>4.0</td>\n    </tr>\n    <tr>\n      <th>1003</th>\n      <td>Zanim kupiłem tą baterie, miałem okazje przeko...</td>\n      <td>3.0</td>\n    </tr>\n    <tr>\n      <th>1004</th>\n      <td>power bank porażka miał mieć 20000mah , co pow...</td>\n      <td>1.0</td>\n    </tr>\n    <tr>\n      <th>1005</th>\n      <td>\"No niestety, PODRÓBA chyba. HTC od Beats brzm...</td>\n      <td>2.0</td>\n    </tr>\n  </tbody>\n</table>\n<p>1006 rows × 2 columns</p>\n</div>"
     },
     "execution_count": 5,
     "metadata": {},
     "output_type": "execute_result"
    }
   ],
   "source": [
    "df_test"
   ],
   "metadata": {
    "collapsed": false,
    "pycharm": {
     "name": "#%%\n"
    }
   }
  },
  {
   "cell_type": "code",
   "execution_count": 6,
   "outputs": [
    {
     "name": "stdout",
     "output_type": "stream",
     "text": [
      "<class 'pandas.core.frame.DataFrame'>\n",
      "RangeIndex: 1006 entries, 0 to 1005\n",
      "Data columns (total 2 columns):\n",
      " #   Column  Non-Null Count  Dtype  \n",
      "---  ------  --------------  -----  \n",
      " 0   text    1006 non-null   object \n",
      " 1   rating  1006 non-null   float64\n",
      "dtypes: float64(1), object(1)\n",
      "memory usage: 15.8+ KB\n"
     ]
    }
   ],
   "source": [
    "df_test.info()"
   ],
   "metadata": {
    "collapsed": false,
    "pycharm": {
     "name": "#%%\n"
    }
   }
  },
  {
   "cell_type": "code",
   "execution_count": 11,
   "outputs": [],
   "source": [
    "# from src import DATA_DIR\n",
    "#\n",
    "# DATA_DIR = DATA_DIR.joinpath('klej_ar')\n",
    "#\n",
    "# df_train.to_csv(DATA_DIR.joinpath('train.tsv'), sep='\\t', index=False)\n",
    "# df_val.to_csv(DATA_DIR.joinpath('dev.tsv'), sep='\\t', index=False)\n",
    "# df_test.to_csv(DATA_DIR.joinpath('test.tsv'), sep='\\t', index=False)"
   ],
   "metadata": {
    "collapsed": false,
    "pycharm": {
     "name": "#%%\n"
    }
   }
  },
  {
   "cell_type": "markdown",
   "source": [
    "### Concat all splits"
   ],
   "metadata": {
    "collapsed": false,
    "pycharm": {
     "name": "#%% md\n"
    }
   }
  },
  {
   "cell_type": "code",
   "execution_count": 7,
   "outputs": [],
   "source": [
    "df_train['split'] = 'train'\n",
    "df_val['split'] = 'val'\n",
    "df_test['split'] = 'test'\n",
    "df_all = pd.concat([df_train, df_val, df_test], ignore_index=True)"
   ],
   "metadata": {
    "collapsed": false,
    "pycharm": {
     "name": "#%%\n"
    }
   }
  },
  {
   "cell_type": "markdown",
   "source": [
    "### Label distribution"
   ],
   "metadata": {
    "collapsed": false,
    "pycharm": {
     "name": "#%% md\n"
    }
   }
  },
  {
   "cell_type": "code",
   "execution_count": 8,
   "outputs": [
    {
     "name": "stdout",
     "output_type": "stream",
     "text": [
      "Rating labels: [3. 1. 4. 2. 5.]\n"
     ]
    },
    {
     "data": {
      "text/plain": "<seaborn.axisgrid.FacetGrid at 0x7f1ac8993790>"
     },
     "execution_count": 8,
     "metadata": {},
     "output_type": "execute_result"
    },
    {
     "data": {
      "text/plain": "<Figure size 648x216 with 3 Axes>",
      "image/png": "[encoded data removed]"
     },
     "metadata": {
      "needs_background": "light"
     },
     "output_type": "display_data"
    }
   ],
   "source": [
    "print(f'Rating labels: {df_all.rating.unique()}')\n",
    "\n",
    "g = sns.FacetGrid(df_all, col=\"split\")\n",
    "g.map(sns.countplot, 'rating', order=[1, 2, 3, 4, 5])"
   ],
   "metadata": {
    "collapsed": false,
    "pycharm": {
     "name": "#%%\n"
    }
   }
  },
  {
   "cell_type": "markdown",
   "source": [
    "### Text length distribution"
   ],
   "metadata": {
    "collapsed": false,
    "pycharm": {
     "name": "#%% md\n"
    }
   }
  },
  {
   "cell_type": "code",
   "execution_count": 9,
   "outputs": [
    {
     "data": {
      "text/plain": "<seaborn.axisgrid.FacetGrid at 0x7f1ac875eca0>"
     },
     "execution_count": 9,
     "metadata": {},
     "output_type": "execute_result"
    },
    {
     "data": {
      "text/plain": "<Figure size 648x216 with 3 Axes>",
      "image/png": "[encoded data removed]"
     },
     "metadata": {
      "needs_background": "light"
     },
     "output_type": "display_data"
    }
   ],
   "source": [
    "df_all['text_len'] = df_all.text.apply(lambda x: len(x.split(' ')))\n",
    "\n",
    "g = sns.FacetGrid(df_all, col=\"split\")\n",
    "g.map(sns.histplot, 'text_len')"
   ],
   "metadata": {
    "collapsed": false,
    "pycharm": {
     "name": "#%%\n"
    }
   }
  },
  {
   "cell_type": "code",
   "execution_count": 10,
   "outputs": [
    {
     "data": {
      "text/plain": "             rating      text_len\ncount  11585.000000  11585.000000\nmean       3.489167     79.544411\nstd        1.544989     42.450812\nmin        1.000000     51.000000\n25%        2.000000     57.000000\n50%        4.000000     67.000000\n75%        5.000000     86.000000\nmax        5.000000   1667.000000",
      "text/html": "<div>\n<style scoped>\n    .dataframe tbody tr th:only-of-type {\n        vertical-align: middle;\n    }\n\n    .dataframe tbody tr th {\n        vertical-align: top;\n    }\n\n    .dataframe thead th {\n        text-align: right;\n    }\n</style>\n<table border=\"1\" class=\"dataframe\">\n  <thead>\n    <tr style=\"text-align: right;\">\n      <th></th>\n      <th>rating</th>\n      <th>text_len</th>\n    </tr>\n  </thead>\n  <tbody>\n    <tr>\n      <th>count</th>\n      <td>11585.000000</td>\n      <td>11585.000000</td>\n    </tr>\n    <tr>\n      <th>mean</th>\n      <td>3.489167</td>\n      <td>79.544411</td>\n    </tr>\n    <tr>\n      <th>std</th>\n      <td>1.544989</td>\n      <td>42.450812</td>\n    </tr>\n    <tr>\n      <th>min</th>\n      <td>1.000000</td>\n      <td>51.000000</td>\n    </tr>\n    <tr>\n      <th>25%</th>\n      <td>2.000000</td>\n      <td>57.000000</td>\n    </tr>\n    <tr>\n      <th>50%</th>\n      <td>4.000000</td>\n      <td>67.000000</td>\n    </tr>\n    <tr>\n      <th>75%</th>\n      <td>5.000000</td>\n      <td>86.000000</td>\n    </tr>\n    <tr>\n      <th>max</th>\n      <td>5.000000</td>\n      <td>1667.000000</td>\n    </tr>\n  </tbody>\n</table>\n</div>"
     },
     "execution_count": 10,
     "metadata": {},
     "output_type": "execute_result"
    }
   ],
   "source": [
    "df_all.describe()"
   ],
   "metadata": {
    "collapsed": false,
    "pycharm": {
     "name": "#%%\n"
    }
   }
  },
  {
   "cell_type": "markdown",
   "source": [
    "### Tokenized texts length"
   ],
   "metadata": {
    "collapsed": false,
    "pycharm": {
     "name": "#%% md\n"
    }
   }
  },
  {
   "cell_type": "code",
   "execution_count": 12,
   "outputs": [
    {
     "name": "stderr",
     "output_type": "stream",
     "text": [
      "Token indices sequence length is longer than the specified maximum sequence length for this model (1669 > 512). Running this sequence through the model will result in indexing errors\n"
     ]
    },
    {
     "data": {
      "text/plain": "                                                text  rating  split  text_len  \\\n0  Jako do ceny dobra. Przyssawka mogłaby być lep...     3.0  train        52   \n1  Na słuchawkę czekałam spory czas a po zadzwoni...     1.0  train       113   \n2  Czajnik na pierwszy rzut oka wygląda ok, ale n...     1.0  train        69   \n3  Bardzo fajny czajnik, na pewno nie gorszy od m...     4.0  train        62   \n4  Pomysł na produkt (uchwyt na kierownicę) bardz...     2.0  train        76   \n\n   tok_len  \n0       80  \n1      143  \n2      105  \n3       94  \n4      108  ",
      "text/html": "<div>\n<style scoped>\n    .dataframe tbody tr th:only-of-type {\n        vertical-align: middle;\n    }\n\n    .dataframe tbody tr th {\n        vertical-align: top;\n    }\n\n    .dataframe thead th {\n        text-align: right;\n    }\n</style>\n<table border=\"1\" class=\"dataframe\">\n  <thead>\n    <tr style=\"text-align: right;\">\n      <th></th>\n      <th>text</th>\n      <th>rating</th>\n      <th>split</th>\n      <th>text_len</th>\n      <th>tok_len</th>\n    </tr>\n  </thead>\n  <tbody>\n    <tr>\n      <th>0</th>\n      <td>Jako do ceny dobra. Przyssawka mogłaby być lep...</td>\n      <td>3.0</td>\n      <td>train</td>\n      <td>52</td>\n      <td>80</td>\n    </tr>\n    <tr>\n      <th>1</th>\n      <td>Na słuchawkę czekałam spory czas a po zadzwoni...</td>\n      <td>1.0</td>\n      <td>train</td>\n      <td>113</td>\n      <td>143</td>\n    </tr>\n    <tr>\n      <th>2</th>\n      <td>Czajnik na pierwszy rzut oka wygląda ok, ale n...</td>\n      <td>1.0</td>\n      <td>train</td>\n      <td>69</td>\n      <td>105</td>\n    </tr>\n    <tr>\n      <th>3</th>\n      <td>Bardzo fajny czajnik, na pewno nie gorszy od m...</td>\n      <td>4.0</td>\n      <td>train</td>\n      <td>62</td>\n      <td>94</td>\n    </tr>\n    <tr>\n      <th>4</th>\n      <td>Pomysł na produkt (uchwyt na kierownicę) bardz...</td>\n      <td>2.0</td>\n      <td>train</td>\n      <td>76</td>\n      <td>108</td>\n    </tr>\n  </tbody>\n</table>\n</div>"
     },
     "execution_count": 12,
     "metadata": {},
     "output_type": "execute_result"
    }
   ],
   "source": [
    "from transformers import AutoTokenizer\n",
    "\n",
    "HUGGINGFACE_MODEL_NAME = 'allegro/herbert-base-cased'\n",
    "tokenizer = AutoTokenizer.from_pretrained(HUGGINGFACE_MODEL_NAME, do_lower_case=True)\n",
    "\n",
    "texts = df_all['text'].values.tolist()\n",
    "\n",
    "text_tokenized = tokenizer(\n",
    "    texts,\n",
    "    add_special_tokens=True,\n",
    "    return_token_type_ids=False,\n",
    "    return_attention_mask=False,\n",
    "    truncation=False,\n",
    "    padding=False,\n",
    "    return_length=True\n",
    ")\n",
    "text_tokens = text_tokenized['input_ids']\n",
    "lengths = text_tokenized['length']\n",
    "\n",
    "df_all['tok_len'] = lengths\n",
    "df_all.head()"
   ],
   "metadata": {
    "collapsed": false,
    "pycharm": {
     "name": "#%%\n"
    }
   }
  },
  {
   "cell_type": "code",
   "execution_count": 13,
   "outputs": [
    {
     "data": {
      "text/plain": "             rating      text_len       tok_len\ncount  11585.000000  11585.000000  11585.000000\nmean       3.489167     79.544411    111.564350\nstd        1.544989     42.450812     88.486718\nmin        1.000000     51.000000      2.000000\n25%        2.000000     57.000000     83.000000\n50%        4.000000     67.000000     99.000000\n75%        5.000000     86.000000    127.000000\nmax        5.000000   1667.000000   4202.000000",
      "text/html": "<div>\n<style scoped>\n    .dataframe tbody tr th:only-of-type {\n        vertical-align: middle;\n    }\n\n    .dataframe tbody tr th {\n        vertical-align: top;\n    }\n\n    .dataframe thead th {\n        text-align: right;\n    }\n</style>\n<table border=\"1\" class=\"dataframe\">\n  <thead>\n    <tr style=\"text-align: right;\">\n      <th></th>\n      <th>rating</th>\n      <th>text_len</th>\n      <th>tok_len</th>\n    </tr>\n  </thead>\n  <tbody>\n    <tr>\n      <th>count</th>\n      <td>11585.000000</td>\n      <td>11585.000000</td>\n      <td>11585.000000</td>\n    </tr>\n    <tr>\n      <th>mean</th>\n      <td>3.489167</td>\n      <td>79.544411</td>\n      <td>111.564350</td>\n    </tr>\n    <tr>\n      <th>std</th>\n      <td>1.544989</td>\n      <td>42.450812</td>\n      <td>88.486718</td>\n    </tr>\n    <tr>\n      <th>min</th>\n      <td>1.000000</td>\n      <td>51.000000</td>\n      <td>2.000000</td>\n    </tr>\n    <tr>\n      <th>25%</th>\n      <td>2.000000</td>\n      <td>57.000000</td>\n      <td>83.000000</td>\n    </tr>\n    <tr>\n      <th>50%</th>\n      <td>4.000000</td>\n      <td>67.000000</td>\n      <td>99.000000</td>\n    </tr>\n    <tr>\n      <th>75%</th>\n      <td>5.000000</td>\n      <td>86.000000</td>\n      <td>127.000000</td>\n    </tr>\n    <tr>\n      <th>max</th>\n      <td>5.000000</td>\n      <td>1667.000000</td>\n      <td>4202.000000</td>\n    </tr>\n  </tbody>\n</table>\n</div>"
     },
     "execution_count": 13,
     "metadata": {},
     "output_type": "execute_result"
    }
   ],
   "source": [
    "df_all.describe()"
   ],
   "metadata": {
    "collapsed": false,
    "pycharm": {
     "name": "#%%\n"
    }
   }
  },
  {
   "cell_type": "code",
   "execution_count": 14,
   "outputs": [
    {
     "data": {
      "text/plain": "<Figure size 1152x432 with 1 Axes>",
      "image/png": "[encoded data removed]"
     },
     "metadata": {
      "needs_background": "light"
     },
     "output_type": "display_data"
    }
   ],
   "source": [
    "import matplotlib.pyplot as plt\n",
    "\n",
    "fig, ax = plt.subplots(figsize=(16, 6))\n",
    "\n",
    "sns.histplot(x='tok_len', data=df_all, ax=ax)\n",
    "max_val = max([p.get_height() for p in ax.patches])\n",
    "for q, ls in zip([0.75, 0.85, 0.95, 0.99], [(0, (5, 5)), (0, (5, 4)), (0, (5, 3)), (0, (5, 2))]):\n",
    "    qv = int(df_all['tok_len'].quantile(q))\n",
    "    ax.axvline(qv, color='red', ls=ls, lw=1.5, label=q)\n",
    "    ax.annotate(\n",
    "        qv,\n",
    "        xy=(qv, max_val * 0.8),\n",
    "        xytext=(qv + 9, max_val * 0.85),\n",
    "        arrowprops=dict(arrowstyle=\"->\", color='black'),\n",
    "    )\n",
    "\n",
    "ax.legend(title='Quantile')\n",
    "\n",
    "fig.tight_layout()"
   ],
   "metadata": {
    "collapsed": false,
    "pycharm": {
     "name": "#%%\n"
    }
   }
  },
  {
   "cell_type": "markdown",
   "source": [
    "## Convert to texts for Morfodita tagger"
   ],
   "metadata": {
    "collapsed": false,
    "pycharm": {
     "name": "#%% md\n"
    }
   }
  },
  {
   "cell_type": "code",
   "execution_count": 7,
   "outputs": [],
   "source": [
    "from src.settings import DATA_DIR\n",
    "\n",
    "ALLEGRO_REVIEWS_DIR = DATA_DIR.joinpath('klej_ar')"
   ],
   "metadata": {
    "collapsed": false,
    "pycharm": {
     "name": "#%%\n"
    }
   }
  },
  {
   "cell_type": "code",
   "execution_count": 8,
   "outputs": [],
   "source": [
    "def split_texts_to_folder(df: pd.DataFrame, split: str):\n",
    "    dir = ALLEGRO_REVIEWS_DIR.joinpath(f'{split}')\n",
    "    dir.mkdir(exist_ok=True, parents=True)\n",
    "\n",
    "    texts = df['text'].values\n",
    "\n",
    "    for idx, text in enumerate(texts):\n",
    "        path = dir.joinpath(f'{idx}.txt')\n",
    "        with path.open(mode='w') as f:\n",
    "            f.write(text)"
   ],
   "metadata": {
    "collapsed": false,
    "pycharm": {
     "name": "#%%\n"
    }
   }
  },
  {
   "cell_type": "code",
   "execution_count": 9,
   "outputs": [],
   "source": [
    "split_texts_to_folder(df_train, split='train')"
   ],
   "metadata": {
    "collapsed": false,
    "pycharm": {
     "name": "#%%\n"
    }
   }
  },
  {
   "cell_type": "code",
   "execution_count": 10,
   "outputs": [],
   "source": [
    "split_texts_to_folder(df_val, split='dev')\n",
    "split_texts_to_folder(df_test, split='test')"
   ],
   "metadata": {
    "collapsed": false,
    "pycharm": {
     "name": "#%%\n"
    }
   }
  }
 ],
 "metadata": {
  "kernelspec": {
   "display_name": "Python 3",
   "language": "python",
   "name": "python3"
  },
  "language_info": {
   "codemirror_mode": {
    "name": "ipython",
    "version": 2
   },
   "file_extension": ".py",
   "mimetype": "text/x-python",
   "name": "python",
   "nbconvert_exporter": "python",
   "pygments_lexer": "ipython2",
   "version": "2.7.6"
  }
 },
 "nbformat": 4,
 "nbformat_minor": 0
}