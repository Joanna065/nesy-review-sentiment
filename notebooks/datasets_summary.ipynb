{
 "cells": [
  {
   "cell_type": "markdown",
   "metadata": {
    "collapsed": true,
    "pycharm": {
     "name": "#%% md\n"
    }
   },
   "source": [
    "# All used datasets - summary"
   ]
  },
  {
   "cell_type": "code",
   "execution_count": 2,
   "outputs": [
    {
     "name": "stderr",
     "output_type": "stream",
     "text": [
      "<frozen importlib._bootstrap>:228: RuntimeWarning: scipy._lib.messagestream.MessageStream size changed, may indicate binary incompatibility. Expected 56 from C header, got 64 from PyObject\n"
     ]
    }
   ],
   "source": [
    "import matplotlib.pyplot as plt\n",
    "import pandas as pd\n",
    "import seaborn as sns"
   ],
   "metadata": {
    "collapsed": false,
    "pycharm": {
     "name": "#%%\n"
    }
   }
  },
  {
   "cell_type": "code",
   "execution_count": 8,
   "outputs": [],
   "source": [
    "from src.settings import DATA_DIR, FIGURE_DIR\n",
    "\n",
    "GOEMOTIONS_DIR = DATA_DIR.joinpath('goemotions')\n",
    "MOVIE_REVIEWS_DIR = DATA_DIR.joinpath('movie_reviews')\n",
    "IMDB_DIR = DATA_DIR.joinpath('imdb')\n",
    "KLEJ_AR_DIR = DATA_DIR.joinpath('klej_ar')\n",
    "SST_DIR = DATA_DIR.joinpath('stanford_treebank')\n",
    "POLEMO_DIR = DATA_DIR.joinpath('polemo2')\n",
    "MULTIEMO_DIR = DATA_DIR.joinpath('multiemo')"
   ],
   "metadata": {
    "collapsed": false,
    "pycharm": {
     "name": "#%%\n"
    }
   }
  },
  {
   "cell_type": "code",
   "execution_count": 27,
   "outputs": [],
   "source": [
    "from pathlib import Path\n",
    "\n",
    "\n",
    "def get_all_frame_polemo(path: Path, domain: str, mode: str, split: str, text_col: str, label_col: str):\n",
    "    path = path.joinpath('origin', f'{domain}.{mode}.{split}.txt')\n",
    "    with path.open() as f:\n",
    "        lines = f.readlines()\n",
    "\n",
    "    texts = []\n",
    "    labels = []\n",
    "\n",
    "    for line in lines:\n",
    "        text, label = line.split('__label__meta_')\n",
    "        labels.append(label.rstrip('\\n'))\n",
    "        texts.append(text.strip())\n",
    "\n",
    "    return pd.DataFrame(list(zip(texts, labels)), columns=[text_col, label_col])\n",
    "\n",
    "\n",
    "def get_all_frame(path: Path, text_col: str, label_col: str) -> pd.DataFrame:\n",
    "    if 'polemo2' in path.__str__():\n",
    "        df_train = get_all_frame_polemo(\n",
    "            path=path, domain='all', mode='text', split='train', text_col=text_col, label_col=label_col,\n",
    "        )\n",
    "        df_val = get_all_frame_polemo(\n",
    "            path=path, domain='all', mode='text', split='dev', text_col=text_col, label_col=label_col,\n",
    "        )\n",
    "        df_test = get_all_frame_polemo(\n",
    "            path=path, domain='all', mode='text', split='test', text_col=text_col, label_col=label_col,\n",
    "        )\n",
    "    else:\n",
    "        df_train = pd.read_csv(path.joinpath('train.tsv'), sep='\\t')\n",
    "        df_val = pd.read_csv(path.joinpath('dev.tsv'), sep='\\t')\n",
    "        df_test = pd.read_csv(path.joinpath('test.tsv'), sep='\\t')\n",
    "\n",
    "    df_train = df_train[[text_col, label_col]]\n",
    "    df_val = df_val[[text_col, label_col]]\n",
    "    df_test = df_test[[text_col, label_col]]\n",
    "\n",
    "    df_train['split'] = 'train'\n",
    "    df_val['split'] = 'val'\n",
    "    df_test['split'] = 'test'\n",
    "\n",
    "    df_all = pd.concat([df_train, df_val, df_test], ignore_index=True)\n",
    "    df_all = df_all.rename(columns={\n",
    "        text_col: 'text',\n",
    "        label_col: 'label',\n",
    "    })\n",
    "\n",
    "    return df_all"
   ],
   "metadata": {
    "collapsed": false,
    "pycharm": {
     "name": "#%%\n"
    }
   }
  },
  {
   "cell_type": "code",
   "execution_count": 28,
   "outputs": [],
   "source": [
    "#binary, evenly distributed labels\n",
    "df_imdb = get_all_frame(\n",
    "    path=IMDB_DIR,\n",
    "    text_col='sentence',\n",
    "    label_col='label',\n",
    ")\n",
    "df_imdb['dataset'] = 'IMDB'\n",
    "df_movie = get_all_frame(\n",
    "    path=MOVIE_REVIEWS_DIR,\n",
    "    text_col='sentence',\n",
    "    label_col='label',\n",
    ")\n",
    "df_movie['dataset'] = 'Movie Reviews'\n",
    "\n",
    "# multi-class\n",
    "df_sst = get_all_frame(\n",
    "    path=SST_DIR,\n",
    "    text_col='sentence',\n",
    "    label_col='label',\n",
    ")\n",
    "df_sst['dataset'] = 'Stanford Treebank'\n",
    "df_polemo = get_all_frame(\n",
    "    path=POLEMO_DIR,\n",
    "    text_col='text',\n",
    "    label_col='label',\n",
    ")\n",
    "df_polemo['dataset'] = 'Polemo2.0 / Multiemo'\n",
    "df_klej = get_all_frame(\n",
    "    path=KLEJ_AR_DIR,\n",
    "    text_col='text',\n",
    "    label_col='rating',\n",
    ")\n",
    "df_klej['dataset'] = 'Allegro Reviews'\n",
    "\n",
    "# multi-label\n",
    "df_goemo = get_all_frame(\n",
    "    path=GOEMOTIONS_DIR,\n",
    "    text_col='text',\n",
    "    label_col='labels',\n",
    ")\n",
    "df_goemo['dataset'] = 'GoEmotions'\n",
    "df_goemo_sent = get_all_frame(\n",
    "    path=GOEMOTIONS_DIR,\n",
    "    text_col='text',\n",
    "    label_col='sent_labels',\n",
    ")\n",
    "df_goemo_sent['dataset'] = 'GoEmotions Sentiment'"
   ],
   "metadata": {
    "collapsed": false,
    "pycharm": {
     "name": "#%%\n"
    }
   }
  },
  {
   "cell_type": "markdown",
   "source": [
    "## Class distribution"
   ],
   "metadata": {
    "collapsed": false,
    "pycharm": {
     "name": "#%% md\n"
    }
   }
  },
  {
   "cell_type": "code",
   "execution_count": 32,
   "outputs": [],
   "source": [
    "sst_map = {\n",
    "    1: 'negative',\n",
    "    2: 'somewhat negative',\n",
    "    3: 'neutral',\n",
    "    4: 'somewhat positive',\n",
    "    5: 'positive',\n",
    "}\n",
    "goemo_sent_map = {\n",
    "    0: 'positive',\n",
    "    1: 'negative',\n",
    "    2: 'ambigous',\n",
    "    3: 'neutral',\n",
    "}"
   ],
   "metadata": {
    "collapsed": false,
    "pycharm": {
     "name": "#%%\n"
    }
   }
  },
  {
   "cell_type": "code",
   "execution_count": 52,
   "outputs": [],
   "source": [
    "df_goemo_class = df_goemo.copy()\n",
    "df_goemo_class['label'] = df_goemo_class['label'].apply(lambda x: x.split(','))\n",
    "df_goemo_class = df_goemo_class.explode('label')\n",
    "df_goemo_class = df_goemo_class.astype({'label': 'int'})\n",
    "\n",
    "df_goemo_sent_class = df_goemo_sent.copy()\n",
    "df_goemo_sent_class['label'] = df_goemo_sent_class['label'].apply(lambda x: x.split(','))\n",
    "df_goemo_sent_class = df_goemo_sent_class.explode('label')\n",
    "df_goemo_sent_class = df_goemo_sent_class.astype({'label': 'int'})\n",
    "df_goemo_sent_class['label'] = df_goemo_sent_class['label'].apply(lambda x: goemo_sent_map[x])\n",
    "\n",
    "df_sst_class = df_sst.copy()\n",
    "df_sst_class['label'] = df_sst_class['label'].apply(lambda x: sst_map[x])\n",
    "\n",
    "df_class_grid = pd.concat([\n",
    "    df_sst_class,\n",
    "    df_polemo,\n",
    "    df_klej,\n",
    "    df_goemo_sent_class,\n",
    "    # df_goemo_class,\n",
    "],\n",
    "    ignore_index=True,\n",
    ")\n",
    "df_class_grid = df_class_grid.rename(columns={'label': 'class'})"
   ],
   "metadata": {
    "collapsed": false,
    "pycharm": {
     "name": "#%%\n"
    }
   }
  },
  {
   "cell_type": "code",
   "execution_count": 61,
   "outputs": [
    {
     "name": "stderr",
     "output_type": "stream",
     "text": [
      "/home/joanna/anaconda3/envs/neuro/lib/python3.9/site-packages/seaborn/axisgrid.py:670: UserWarning: Using the countplot function without specifying `order` is likely to produce an incorrect plot.\n",
      "  warnings.warn(warning)\n"
     ]
    },
    {
     "data": {
      "text/plain": "<Figure size 864x432 with 0 Axes>"
     },
     "metadata": {},
     "output_type": "display_data"
    },
    {
     "data": {
      "text/plain": "<Figure size 1152x576 with 4 Axes>",
      "image/png": "[encoded data removed]"
     },
     "metadata": {},
     "output_type": "display_data"
    }
   ],
   "source": [
    "plt.figure(figsize=(12, 6))\n",
    "sns.set_style(\"whitegrid\")\n",
    "\n",
    "with sns.plotting_context(\"notebook\", font_scale=1.35):\n",
    "    g = sns.FacetGrid(\n",
    "        df_class_grid,\n",
    "        col=\"dataset\",\n",
    "        col_wrap=2,\n",
    "        sharey=False,\n",
    "        sharex=False,\n",
    "        height=4,\n",
    "        aspect=2,\n",
    "    )\n",
    "    g.map(sns.countplot, 'class')\n",
    "\n",
    "sns.despine()"
   ],
   "metadata": {
    "collapsed": false,
    "pycharm": {
     "name": "#%%\n"
    }
   }
  },
  {
   "cell_type": "code",
   "execution_count": 62,
   "outputs": [],
   "source": [
    "g.savefig(FIGURE_DIR.joinpath('sentiment_data_class_distribution.png'), dpi=300)"
   ],
   "metadata": {
    "collapsed": false,
    "pycharm": {
     "name": "#%%\n"
    }
   }
  },
  {
   "cell_type": "markdown",
   "source": [
    "## Token amount distribution"
   ],
   "metadata": {
    "collapsed": false,
    "pycharm": {
     "name": "#%% md\n"
    }
   }
  },
  {
   "cell_type": "code",
   "execution_count": 3,
   "outputs": [],
   "source": [
    "from transformers import AutoTokenizer\n",
    "\n",
    "\n",
    "def get_tokens_len(df: pd.DataFrame, tokenizer_name: str) -> pd.DataFrame:\n",
    "    tokenizer = AutoTokenizer.from_pretrained(tokenizer_name, do_lower_case=True)\n",
    "    texts = df['text'].values.tolist()\n",
    "\n",
    "    text_tokenized = tokenizer(\n",
    "        texts,\n",
    "        add_special_tokens=True,\n",
    "        return_token_type_ids=False,\n",
    "        return_attention_mask=False,\n",
    "        truncation=False,\n",
    "        padding=False,\n",
    "        return_length=True\n",
    "    )\n",
    "    lengths = text_tokenized['length']\n",
    "\n",
    "    df['tok_length'] = lengths\n",
    "    return df"
   ],
   "metadata": {
    "collapsed": false,
    "pycharm": {
     "name": "#%%\n"
    }
   }
  },
  {
   "cell_type": "code",
   "execution_count": 106,
   "outputs": [
    {
     "name": "stderr",
     "output_type": "stream",
     "text": [
      "Token indices sequence length is longer than the specified maximum sequence length for this model (521 > 512). Running this sequence through the model will result in indexing errors\n",
      "Token indices sequence length is longer than the specified maximum sequence length for this model (571 > 512). Running this sequence through the model will result in indexing errors\n",
      "Token indices sequence length is longer than the specified maximum sequence length for this model (1669 > 512). Running this sequence through the model will result in indexing errors\n"
     ]
    }
   ],
   "source": [
    "df_imdb = get_tokens_len(df=df_imdb, tokenizer_name='bert-base-cased')\n",
    "df_movie = get_tokens_len(df=df_movie, tokenizer_name='bert-base-cased')\n",
    "df_sst = get_tokens_len(df=df_sst, tokenizer_name='bert-base-cased')\n",
    "df_polemo = get_tokens_len(df=df_polemo, tokenizer_name='allegro/herbert-base-cased')\n",
    "df_klej = get_tokens_len(df=df_klej, tokenizer_name='allegro/herbert-base-cased')\n",
    "df_goemo_sent = get_tokens_len(df=df_goemo_sent, tokenizer_name='bert-base-cased')\n",
    "df_goemo = get_tokens_len(df=df_goemo, tokenizer_name='bert-base-cased')"
   ],
   "metadata": {
    "collapsed": false,
    "pycharm": {
     "name": "#%%\n"
    }
   }
  },
  {
   "cell_type": "code",
   "execution_count": 107,
   "outputs": [
    {
     "data": {
      "text/plain": "<Figure size 924.44x360 with 1 Axes>",
      "image/png": "[encoded data removed]"
     },
     "metadata": {},
     "output_type": "display_data"
    }
   ],
   "source": [
    "sns.set_style(\"whitegrid\")\n",
    "df_tokens_line = pd.concat([\n",
    "    df_imdb,\n",
    "    df_movie,\n",
    "    df_sst,\n",
    "    df_polemo,\n",
    "    df_klej,\n",
    "    df_goemo,\n",
    "],\n",
    "    ignore_index=True,\n",
    ")\n",
    "with sns.plotting_context(\"notebook\", font_scale=1.4):\n",
    "    fig = sns.displot(\n",
    "        df_tokens_line,\n",
    "        x=\"tok_length\",\n",
    "        hue=\"dataset\",\n",
    "        log_scale=True,\n",
    "        common_norm=False,\n",
    "        kind=\"kde\",\n",
    "        fill=True,\n",
    "        height=5,\n",
    "        aspect=2,\n",
    "    )\n",
    "    sns.despine()\n",
    "    fig.set(xlabel='token length', ylabel='density')\n",
    "fig.savefig(FIGURE_DIR.joinpath('data_token_len_distplot.png'), dpi=300)"
   ],
   "metadata": {
    "collapsed": false,
    "pycharm": {
     "name": "#%%\n"
    }
   }
  },
  {
   "cell_type": "markdown",
   "source": [
    "## Annotations coverage"
   ],
   "metadata": {
    "collapsed": false,
    "pycharm": {
     "name": "#%% md\n"
    }
   }
  },
  {
   "cell_type": "code",
   "execution_count": 9,
   "outputs": [],
   "source": [
    "from typing import Optional\n",
    "from collections import defaultdict\n",
    "from tqdm.auto import tqdm\n",
    "from pathlib import Path\n",
    "import json\n",
    "\n",
    "\n",
    "def load_json_data(path: Path, split: str, lang: str) -> dict:\n",
    "    json_path = path.joinpath(\n",
    "        f'wsd_amuse_{lang.upper()}', f'{split}.amuse_wsd.json'\n",
    "    )\n",
    "\n",
    "    with json_path.open(mode='r') as f:\n",
    "        return json.load(f)\n",
    "\n",
    "\n",
    "def load_polemo_json_data(path: Path, split: str, lang: str, domain: str = 'all', mode: str = 'text') -> dict:\n",
    "    json_path = path.joinpath(\n",
    "        f'wsd_amuse_{lang.upper()}',\n",
    "        f'{domain}_{mode}.{split}.amuse_wsd.json',\n",
    "    )\n",
    "\n",
    "    with json_path.open(mode='r') as f:\n",
    "        return json.load(f)\n",
    "\n",
    "\n",
    "def calculate_ann_stats(data: dict, stats_dict: Optional[dict] = None) -> dict:\n",
    "    if not stats_dict:\n",
    "        stats_dict = defaultdict(int)\n",
    "\n",
    "    for sample_id in tqdm(data.keys(), total=len(data.keys())):\n",
    "        sample = data[sample_id]\n",
    "        tokens = sample['tokens']\n",
    "\n",
    "        stats_dict['all_tokens'] += len(tokens)\n",
    "\n",
    "        for token in tokens:\n",
    "            # sentiment annotation\n",
    "            if 'sentiwordnetScore' in token:\n",
    "                stats_dict['sentiPWN_annotated'] += 1\n",
    "                sent_score = float(token['sentiwordnetScore'])\n",
    "                if sent_score > 0.0:\n",
    "                    stats_dict['sentiPWN_pos_annotated'] += 1\n",
    "                if sent_score < 0.0:\n",
    "                    stats_dict['sentiPWN_neg_annotated'] += 1\n",
    "\n",
    "            if 'plwnSentimentScore' in token:\n",
    "                stats_dict['sentiPL_annotated'] += 1\n",
    "                sent_score = float(token['plwnSentimentScore'])\n",
    "                if sent_score > 0.0:\n",
    "                    stats_dict['sentiPL_pos_annotated'] += 1\n",
    "                if sent_score < 0.0:\n",
    "                    stats_dict['sentiPL_neg_annotated'] += 1\n",
    "\n",
    "            # basic emotions\n",
    "            if 'plwnEmotionNames' in token:\n",
    "                stats_dict['basic_emo_annotated'] += 1\n",
    "\n",
    "            if 'plwnEmotionValuations' in token:\n",
    "                stats_dict['emo_valuations_annotated'] += 1\n",
    "\n",
    "    return stats_dict\n",
    "\n",
    "\n",
    "def get_total_splits_stats(path: Path, lang: str) -> dict:\n",
    "    splits = ['train', 'dev', 'test']\n",
    "    stats_dict = defaultdict(int)\n",
    "\n",
    "    if 'polemo2' in path.__str__():\n",
    "        for split_name in splits:\n",
    "            data = load_polemo_json_data(path=path, split=split_name, lang=lang, mode='text', domain='all')\n",
    "            stats_dict = calculate_ann_stats(data, stats_dict=stats_dict)\n",
    "    else:\n",
    "        for split_name in splits:\n",
    "            data = load_json_data(path=path, split=split_name, lang=lang)\n",
    "            stats_dict = calculate_ann_stats(data, stats_dict=stats_dict)\n",
    "\n",
    "    # get percentage\n",
    "    all_tokens = stats_dict.pop('all_tokens')\n",
    "    for key in stats_dict.keys():\n",
    "        stats_dict[key] = stats_dict[key] / all_tokens * 100\n",
    "\n",
    "    return dict(stats_dict)"
   ],
   "metadata": {
    "collapsed": false,
    "pycharm": {
     "name": "#%%\n"
    }
   }
  },
  {
   "cell_type": "code",
   "execution_count": 10,
   "outputs": [
    {
     "data": {
      "text/plain": "  0%|          | 0/22500 [00:00<?, ?it/s]",
      "application/vnd.jupyter.widget-view+json": {
       "version_major": 2,
       "version_minor": 0,
       "model_id": "dfd31f83f4774dffb3116f4027d1f456"
      }
     },
     "metadata": {},
     "output_type": "display_data"
    },
    {
     "data": {
      "text/plain": "  0%|          | 0/2500 [00:00<?, ?it/s]",
      "application/vnd.jupyter.widget-view+json": {
       "version_major": 2,
       "version_minor": 0,
       "model_id": "6e12bf33377040dd9d3281ec4d7db0e5"
      }
     },
     "metadata": {},
     "output_type": "display_data"
    },
    {
     "data": {
      "text/plain": "  0%|          | 0/25000 [00:00<?, ?it/s]",
      "application/vnd.jupyter.widget-view+json": {
       "version_major": 2,
       "version_minor": 0,
       "model_id": "4497b784fe37421994ded809990eb914"
      }
     },
     "metadata": {},
     "output_type": "display_data"
    },
    {
     "data": {
      "text/plain": "  0%|          | 0/8534 [00:00<?, ?it/s]",
      "application/vnd.jupyter.widget-view+json": {
       "version_major": 2,
       "version_minor": 0,
       "model_id": "d9c553302f2b410d9dc5cba328f5ed06"
      }
     },
     "metadata": {},
     "output_type": "display_data"
    },
    {
     "data": {
      "text/plain": "  0%|          | 0/1078 [00:00<?, ?it/s]",
      "application/vnd.jupyter.widget-view+json": {
       "version_major": 2,
       "version_minor": 0,
       "model_id": "8117c857fad24c8eb6010a20c22c5a42"
      }
     },
     "metadata": {},
     "output_type": "display_data"
    },
    {
     "data": {
      "text/plain": "  0%|          | 0/1050 [00:00<?, ?it/s]",
      "application/vnd.jupyter.widget-view+json": {
       "version_major": 2,
       "version_minor": 0,
       "model_id": "e001a9c886114922ab1869174f7fa2a1"
      }
     },
     "metadata": {},
     "output_type": "display_data"
    },
    {
     "data": {
      "text/plain": "  0%|          | 0/8544 [00:00<?, ?it/s]",
      "application/vnd.jupyter.widget-view+json": {
       "version_major": 2,
       "version_minor": 0,
       "model_id": "086ba2e27b474d0081603747ccf65a09"
      }
     },
     "metadata": {},
     "output_type": "display_data"
    },
    {
     "data": {
      "text/plain": "  0%|          | 0/1101 [00:00<?, ?it/s]",
      "application/vnd.jupyter.widget-view+json": {
       "version_major": 2,
       "version_minor": 0,
       "model_id": "e676bafea61841c9b2af9696e84da26d"
      }
     },
     "metadata": {},
     "output_type": "display_data"
    },
    {
     "data": {
      "text/plain": "  0%|          | 0/2210 [00:00<?, ?it/s]",
      "application/vnd.jupyter.widget-view+json": {
       "version_major": 2,
       "version_minor": 0,
       "model_id": "f496f34d184b4222a1613c280edd2eb0"
      }
     },
     "metadata": {},
     "output_type": "display_data"
    },
    {
     "data": {
      "text/plain": "  0%|          | 0/6573 [00:00<?, ?it/s]",
      "application/vnd.jupyter.widget-view+json": {
       "version_major": 2,
       "version_minor": 0,
       "model_id": "a4e64c26055c47f7bc8dbf27e8eb30e2"
      }
     },
     "metadata": {},
     "output_type": "display_data"
    },
    {
     "data": {
      "text/plain": "  0%|          | 0/823 [00:00<?, ?it/s]",
      "application/vnd.jupyter.widget-view+json": {
       "version_major": 2,
       "version_minor": 0,
       "model_id": "badce86879a447ecaa8c0b99bba13cc1"
      }
     },
     "metadata": {},
     "output_type": "display_data"
    },
    {
     "data": {
      "text/plain": "  0%|          | 0/820 [00:00<?, ?it/s]",
      "application/vnd.jupyter.widget-view+json": {
       "version_major": 2,
       "version_minor": 0,
       "model_id": "54bc2359a82d4b068a57274fd8c1c47c"
      }
     },
     "metadata": {},
     "output_type": "display_data"
    },
    {
     "data": {
      "text/plain": "  0%|          | 0/6571 [00:00<?, ?it/s]",
      "application/vnd.jupyter.widget-view+json": {
       "version_major": 2,
       "version_minor": 0,
       "model_id": "5b45bf3d20c54afdb4edd1b325df35a3"
      }
     },
     "metadata": {},
     "output_type": "display_data"
    },
    {
     "data": {
      "text/plain": "  0%|          | 0/823 [00:00<?, ?it/s]",
      "application/vnd.jupyter.widget-view+json": {
       "version_major": 2,
       "version_minor": 0,
       "model_id": "033b96025e45401bae46f1ad07f659c2"
      }
     },
     "metadata": {},
     "output_type": "display_data"
    },
    {
     "data": {
      "text/plain": "  0%|          | 0/820 [00:00<?, ?it/s]",
      "application/vnd.jupyter.widget-view+json": {
       "version_major": 2,
       "version_minor": 0,
       "model_id": "d69f87a8cb4a495c81fadd7f8ec06853"
      }
     },
     "metadata": {},
     "output_type": "display_data"
    },
    {
     "data": {
      "text/plain": "  0%|          | 0/9180 [00:00<?, ?it/s]",
      "application/vnd.jupyter.widget-view+json": {
       "version_major": 2,
       "version_minor": 0,
       "model_id": "3a47ddd459ed4f3a9b29699505750e96"
      }
     },
     "metadata": {},
     "output_type": "display_data"
    },
    {
     "data": {
      "text/plain": "  0%|          | 0/977 [00:00<?, ?it/s]",
      "application/vnd.jupyter.widget-view+json": {
       "version_major": 2,
       "version_minor": 0,
       "model_id": "cad2fbea33354117a80965067301c86f"
      }
     },
     "metadata": {},
     "output_type": "display_data"
    },
    {
     "data": {
      "text/plain": "  0%|          | 0/992 [00:00<?, ?it/s]",
      "application/vnd.jupyter.widget-view+json": {
       "version_major": 2,
       "version_minor": 0,
       "model_id": "222fbdc986de4c9ab52134a63afeefe2"
      }
     },
     "metadata": {},
     "output_type": "display_data"
    },
    {
     "data": {
      "text/plain": "  0%|          | 0/43410 [00:00<?, ?it/s]",
      "application/vnd.jupyter.widget-view+json": {
       "version_major": 2,
       "version_minor": 0,
       "model_id": "2164cc124ee04c15831e8f65aa199882"
      }
     },
     "metadata": {},
     "output_type": "display_data"
    },
    {
     "data": {
      "text/plain": "  0%|          | 0/5426 [00:00<?, ?it/s]",
      "application/vnd.jupyter.widget-view+json": {
       "version_major": 2,
       "version_minor": 0,
       "model_id": "1fe071bb398e4b38aa9fc269ac94a2d5"
      }
     },
     "metadata": {},
     "output_type": "display_data"
    },
    {
     "data": {
      "text/plain": "  0%|          | 0/5427 [00:00<?, ?it/s]",
      "application/vnd.jupyter.widget-view+json": {
       "version_major": 2,
       "version_minor": 0,
       "model_id": "4ce609cd0cea47f18cce9f868c3601ab"
      }
     },
     "metadata": {},
     "output_type": "display_data"
    }
   ],
   "source": [
    "imdb_stats = get_total_splits_stats(path=IMDB_DIR, lang='en')\n",
    "imdb_stats['dataset'] = 'IMDB'\n",
    "\n",
    "mr_stats = get_total_splits_stats(path=MOVIE_REVIEWS_DIR, lang='en')\n",
    "mr_stats['dataset'] = 'Movie Reviews'\n",
    "\n",
    "sst_stats = get_total_splits_stats(path=SST_DIR, lang='en')\n",
    "sst_stats['dataset'] = 'Stanford Treebank'\n",
    "\n",
    "polemo_stats = get_total_splits_stats(path=POLEMO_DIR, lang='pl')\n",
    "polemo_stats['dataset'] = 'Polemo2.0'\n",
    "\n",
    "multiemo_stats = get_total_splits_stats(path=MULTIEMO_DIR, lang='en')\n",
    "multiemo_stats['dataset'] = 'Multiemo'\n",
    "\n",
    "klej_stats = get_total_splits_stats(path=KLEJ_AR_DIR, lang='pl')\n",
    "klej_stats['dataset'] = 'Allegro Reviews'\n",
    "\n",
    "goemo_stats = get_total_splits_stats(path=GOEMOTIONS_DIR, lang='en')\n",
    "goemo_stats['dataset'] = 'GoEmotions'"
   ],
   "metadata": {
    "collapsed": false,
    "pycharm": {
     "name": "#%%\n"
    }
   }
  },
  {
   "cell_type": "code",
   "execution_count": 11,
   "outputs": [
    {
     "data": {
      "text/plain": "   sentiPWN_annotated  sentiPWN_pos_annotated  sentiPL_annotated  \\\n0           44.903903               12.029989          27.495093   \n1           52.304502               14.386236          32.052682   \n2           47.981078               13.927566          29.270012   \n3           48.114186                8.278033          31.511766   \n4           45.037088               10.500268          28.632181   \n5           47.896060                8.323963          28.178008   \n6           45.762315               12.485521          25.895597   \n\n   basic_emo_annotated  emo_valuations_annotated  sentiPL_neg_annotated  \\\n0            22.999473                 23.348909               3.491029   \n1            26.494000                 26.781171               4.965447   \n2            24.842779                 25.169323               4.479463   \n3            24.547738                 25.093988               2.927840   \n4            22.753029                 23.162679               2.276114   \n5            22.421987                 22.708705               2.817179   \n6            24.935463                 25.242309               3.530498   \n\n   sentiPWN_neg_annotated  sentiPL_pos_annotated            dataset  \n0                5.410353               3.890759               IMDB  \n1                7.153653               5.604863      Movie Reviews  \n2                6.790320               5.281171  Stanford Treebank  \n3                5.871436               3.759811          Polemo2.0  \n4                5.042859               3.324809           Multiemo  \n5                5.995238               3.717823    Allegro Reviews  \n6                5.939874               3.794082         GoEmotions  ",
      "text/html": "<div>\n<style scoped>\n    .dataframe tbody tr th:only-of-type {\n        vertical-align: middle;\n    }\n\n    .dataframe tbody tr th {\n        vertical-align: top;\n    }\n\n    .dataframe thead th {\n        text-align: right;\n    }\n</style>\n<table border=\"1\" class=\"dataframe\">\n  <thead>\n    <tr style=\"text-align: right;\">\n      <th></th>\n      <th>sentiPWN_annotated</th>\n      <th>sentiPWN_pos_annotated</th>\n      <th>sentiPL_annotated</th>\n      <th>basic_emo_annotated</th>\n      <th>emo_valuations_annotated</th>\n      <th>sentiPL_neg_annotated</th>\n      <th>sentiPWN_neg_annotated</th>\n      <th>sentiPL_pos_annotated</th>\n      <th>dataset</th>\n    </tr>\n  </thead>\n  <tbody>\n    <tr>\n      <th>0</th>\n      <td>44.903903</td>\n      <td>12.029989</td>\n      <td>27.495093</td>\n      <td>22.999473</td>\n      <td>23.348909</td>\n      <td>3.491029</td>\n      <td>5.410353</td>\n      <td>3.890759</td>\n      <td>IMDB</td>\n    </tr>\n    <tr>\n      <th>1</th>\n      <td>52.304502</td>\n      <td>14.386236</td>\n      <td>32.052682</td>\n      <td>26.494000</td>\n      <td>26.781171</td>\n      <td>4.965447</td>\n      <td>7.153653</td>\n      <td>5.604863</td>\n      <td>Movie Reviews</td>\n    </tr>\n    <tr>\n      <th>2</th>\n      <td>47.981078</td>\n      <td>13.927566</td>\n      <td>29.270012</td>\n      <td>24.842779</td>\n      <td>25.169323</td>\n      <td>4.479463</td>\n      <td>6.790320</td>\n      <td>5.281171</td>\n      <td>Stanford Treebank</td>\n    </tr>\n    <tr>\n      <th>3</th>\n      <td>48.114186</td>\n      <td>8.278033</td>\n      <td>31.511766</td>\n      <td>24.547738</td>\n      <td>25.093988</td>\n      <td>2.927840</td>\n      <td>5.871436</td>\n      <td>3.759811</td>\n      <td>Polemo2.0</td>\n    </tr>\n    <tr>\n      <th>4</th>\n      <td>45.037088</td>\n      <td>10.500268</td>\n      <td>28.632181</td>\n      <td>22.753029</td>\n      <td>23.162679</td>\n      <td>2.276114</td>\n      <td>5.042859</td>\n      <td>3.324809</td>\n      <td>Multiemo</td>\n    </tr>\n    <tr>\n      <th>5</th>\n      <td>47.896060</td>\n      <td>8.323963</td>\n      <td>28.178008</td>\n      <td>22.421987</td>\n      <td>22.708705</td>\n      <td>2.817179</td>\n      <td>5.995238</td>\n      <td>3.717823</td>\n      <td>Allegro Reviews</td>\n    </tr>\n    <tr>\n      <th>6</th>\n      <td>45.762315</td>\n      <td>12.485521</td>\n      <td>25.895597</td>\n      <td>24.935463</td>\n      <td>25.242309</td>\n      <td>3.530498</td>\n      <td>5.939874</td>\n      <td>3.794082</td>\n      <td>GoEmotions</td>\n    </tr>\n  </tbody>\n</table>\n</div>"
     },
     "execution_count": 11,
     "metadata": {},
     "output_type": "execute_result"
    }
   ],
   "source": [
    "records = [\n",
    "    imdb_stats,\n",
    "    mr_stats,\n",
    "    sst_stats,\n",
    "    polemo_stats,\n",
    "    multiemo_stats,\n",
    "    klej_stats,\n",
    "    goemo_stats,\n",
    "]\n",
    "\n",
    "df_annotation = pd.DataFrame.from_records(records)\n",
    "\n",
    "df_annotation"
   ],
   "metadata": {
    "collapsed": false,
    "pycharm": {
     "name": "#%%\n"
    }
   }
  }
 ],
 "metadata": {
  "kernelspec": {
   "display_name": "Python 3",
   "language": "python",
   "name": "python3"
  },
  "language_info": {
   "codemirror_mode": {
    "name": "ipython",
    "version": 2
   },
   "file_extension": ".py",
   "mimetype": "text/x-python",
   "name": "python",
   "nbconvert_exporter": "python",
   "pygments_lexer": "ipython2",
   "version": "2.7.6"
  }
 },
 "nbformat": 4,
 "nbformat_minor": 0
}