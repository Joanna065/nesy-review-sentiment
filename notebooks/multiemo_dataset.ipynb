{
 "cells": [
  {
   "cell_type": "markdown",
   "metadata": {
    "collapsed": true,
    "pycharm": {
     "name": "#%% md\n"
    }
   },
   "source": [
    "# MultiEmo - english translated Polemo2.0"
   ]
  },
  {
   "cell_type": "code",
   "execution_count": 1,
   "outputs": [
    {
     "name": "stderr",
     "output_type": "stream",
     "text": [
      "<frozen importlib._bootstrap>:228: RuntimeWarning: scipy._lib.messagestream.MessageStream size changed, may indicate binary incompatibility. Expected 56 from C header, got 64 from PyObject\n"
     ]
    }
   ],
   "source": [
    "from pathlib import Path\n",
    "\n",
    "import pandas as pd\n",
    "import seaborn as sns\n",
    "\n",
    "from src.settings import DATA_DIR"
   ],
   "metadata": {
    "collapsed": false,
    "pycharm": {
     "name": "#%%\n"
    }
   }
  },
  {
   "cell_type": "code",
   "execution_count": 2,
   "outputs": [],
   "source": [
    "MULTIEMO_DIR = DATA_DIR.joinpath('multiemo_en')\n",
    "\n",
    "\n",
    "def get_frame(path: Path, split: str, label_prefix: str = '__label__meta_') -> pd.DataFrame:\n",
    "    with path.open() as f:\n",
    "        lines = f.readlines()\n",
    "\n",
    "    texts = []\n",
    "    labels = []\n",
    "\n",
    "    for line in lines:\n",
    "        text, label = line.split(label_prefix)\n",
    "        labels.append(label.rstrip('\\n'))\n",
    "        texts.append(text.strip())\n",
    "\n",
    "    df = pd.DataFrame(list(zip(texts, labels)), columns=['text', 'label'])\n",
    "    df['split'] = split\n",
    "    return df\n",
    "\n",
    "\n",
    "def get_stats(mode: str, domain: str):\n",
    "    train_path = MULTIEMO_DIR.joinpath(f'{domain}.{mode}.train.txt')\n",
    "    val_path = MULTIEMO_DIR.joinpath(f'{domain}.{mode}.dev.txt')\n",
    "    test_path = MULTIEMO_DIR.joinpath(f'{domain}.{mode}.test.txt')\n",
    "\n",
    "    df_train = get_frame(train_path, split='train')\n",
    "    df_val = get_frame(val_path, split='val')\n",
    "    df_test = get_frame(test_path, split='test')\n",
    "\n",
    "    print(f'Len train: {len(df_train)}')\n",
    "    print(f'Len val: {len(df_val)}')\n",
    "    print(f'Len test: {len(df_test)}')\n",
    "\n",
    "    df_all = pd.concat([df_train, df_val, df_test], ignore_index=True)\n",
    "\n",
    "    print(f'Sentiment labels: {df_all.label.unique()}')\n",
    "\n",
    "    g = sns.FacetGrid(df_all, col=\"split\")\n",
    "    g.map(sns.countplot, 'label', order=[\n",
    "        'minus_m',\n",
    "        'zero',\n",
    "        'amb',\n",
    "        'plus_m',\n",
    "    ])\n",
    "\n",
    "    # Annotate a value into each bar in each plot\n",
    "    for ax in g.axes.ravel():\n",
    "        for p in ax.patches:\n",
    "            ax.annotate(\n",
    "                format(p.get_height(), '.0f'), (p.get_x() + p.get_width() / 2., p.get_height()),\n",
    "                ha='center',\n",
    "                va='center',\n",
    "                xytext=(0, 10),\n",
    "                textcoords='offset points',\n",
    "            )\n",
    "    return g, df_all"
   ],
   "metadata": {
    "collapsed": false,
    "pycharm": {
     "name": "#%%\n"
    }
   }
  },
  {
   "cell_type": "markdown",
   "source": [
    "### Class distribution"
   ],
   "metadata": {
    "collapsed": false,
    "pycharm": {
     "name": "#%% md\n"
    }
   }
  },
  {
   "cell_type": "code",
   "execution_count": 3,
   "outputs": [
    {
     "name": "stdout",
     "output_type": "stream",
     "text": [
      "Len train: 6572\n",
      "Len val: 823\n",
      "Len test: 820\n",
      "Sentiment labels: ['minus_m' 'plus_m' 'zero' 'amb']\n"
     ]
    },
    {
     "data": {
      "text/plain": "<Figure size 648x216 with 3 Axes>",
      "image/png": "[encoded data removed]"
     },
     "metadata": {
      "needs_background": "light"
     },
     "output_type": "display_data"
    }
   ],
   "source": [
    "mode = 'text'\n",
    "domain = 'all'\n",
    "\n",
    "g, df_all = get_stats(mode=mode, domain=domain)"
   ],
   "metadata": {
    "collapsed": false,
    "pycharm": {
     "name": "#%%\n"
    }
   }
  },
  {
   "cell_type": "markdown",
   "source": [
    "### text length"
   ],
   "metadata": {
    "collapsed": false,
    "pycharm": {
     "name": "#%% md\n"
    }
   }
  },
  {
   "cell_type": "code",
   "execution_count": 4,
   "outputs": [
    {
     "data": {
      "text/plain": "<seaborn.axisgrid.FacetGrid at 0x7f9dcbd1f610>"
     },
     "execution_count": 4,
     "metadata": {},
     "output_type": "execute_result"
    },
    {
     "data": {
      "text/plain": "<Figure size 648x216 with 3 Axes>",
      "image/png": "[encoded data removed]"
     },
     "metadata": {
      "needs_background": "light"
     },
     "output_type": "display_data"
    }
   ],
   "source": [
    "df_all['text_len'] = df_all.text.apply(lambda x: len(x.split(' ')))\n",
    "\n",
    "g = sns.FacetGrid(df_all, col=\"split\")\n",
    "g.map(sns.histplot, 'text_len')"
   ],
   "metadata": {
    "collapsed": false,
    "pycharm": {
     "name": "#%%\n"
    }
   }
  },
  {
   "cell_type": "markdown",
   "source": [
    "### Tokenized text lengths"
   ],
   "metadata": {
    "collapsed": false
   }
  },
  {
   "cell_type": "code",
   "execution_count": 7,
   "outputs": [
    {
     "name": "stderr",
     "output_type": "stream",
     "text": [
      "Token indices sequence length is longer than the specified maximum sequence length for this model (524 > 512). Running this sequence through the model will result in indexing errors\n"
     ]
    },
    {
     "data": {
      "text/plain": "                                                text    label  split  \\\n0  At the very entrance, the hotel stinks. There ...  minus_m  train   \n1  With my children (10 years old and 2 years old...   plus_m  train   \n2  I wanted to get 'em a set for basic work somet...  minus_m  train   \n3  Dear Mom. I have the same opinion about this b...  minus_m  train   \n4  Actually, I didn't find out anything to em, du...  minus_m  train   \n\n   text_len  tok_len  \n0        65       81  \n1       114      148  \n2       136      162  \n3       139      177  \n4       106      144  ",
      "text/html": "<div>\n<style scoped>\n    .dataframe tbody tr th:only-of-type {\n        vertical-align: middle;\n    }\n\n    .dataframe tbody tr th {\n        vertical-align: top;\n    }\n\n    .dataframe thead th {\n        text-align: right;\n    }\n</style>\n<table border=\"1\" class=\"dataframe\">\n  <thead>\n    <tr style=\"text-align: right;\">\n      <th></th>\n      <th>text</th>\n      <th>label</th>\n      <th>split</th>\n      <th>text_len</th>\n      <th>tok_len</th>\n    </tr>\n  </thead>\n  <tbody>\n    <tr>\n      <th>0</th>\n      <td>At the very entrance, the hotel stinks. There ...</td>\n      <td>minus_m</td>\n      <td>train</td>\n      <td>65</td>\n      <td>81</td>\n    </tr>\n    <tr>\n      <th>1</th>\n      <td>With my children (10 years old and 2 years old...</td>\n      <td>plus_m</td>\n      <td>train</td>\n      <td>114</td>\n      <td>148</td>\n    </tr>\n    <tr>\n      <th>2</th>\n      <td>I wanted to get 'em a set for basic work somet...</td>\n      <td>minus_m</td>\n      <td>train</td>\n      <td>136</td>\n      <td>162</td>\n    </tr>\n    <tr>\n      <th>3</th>\n      <td>Dear Mom. I have the same opinion about this b...</td>\n      <td>minus_m</td>\n      <td>train</td>\n      <td>139</td>\n      <td>177</td>\n    </tr>\n    <tr>\n      <th>4</th>\n      <td>Actually, I didn't find out anything to em, du...</td>\n      <td>minus_m</td>\n      <td>train</td>\n      <td>106</td>\n      <td>144</td>\n    </tr>\n  </tbody>\n</table>\n</div>"
     },
     "execution_count": 7,
     "metadata": {},
     "output_type": "execute_result"
    }
   ],
   "source": [
    "from transformers import AutoTokenizer\n",
    "\n",
    "HUGGINGFACE_MODEL_NAME = 'bert-base-cased'\n",
    "tokenizer = AutoTokenizer.from_pretrained(HUGGINGFACE_MODEL_NAME, do_lower_case=True)\n",
    "\n",
    "texts = df_all['text'].values.tolist()\n",
    "\n",
    "text_tokenized = tokenizer(\n",
    "    texts,\n",
    "    add_special_tokens=True,\n",
    "    return_token_type_ids=False,\n",
    "    return_attention_mask=False,\n",
    "    truncation=False,\n",
    "    padding=False,\n",
    "    return_length=True\n",
    ")\n",
    "text_tokens = text_tokenized['input_ids']\n",
    "lengths = text_tokenized['length']\n",
    "\n",
    "df_all['tok_len'] = lengths\n",
    "df_all.head()"
   ],
   "metadata": {
    "collapsed": false,
    "pycharm": {
     "name": "#%%\n"
    }
   }
  },
  {
   "cell_type": "code",
   "execution_count": 8,
   "outputs": [
    {
     "data": {
      "text/plain": "          text_len      tok_len\ncount  8215.000000  8215.000000\nmean    140.179063   176.633232\nstd      79.587290    98.419258\nmin       1.000000     2.000000\n25%      88.000000   111.000000\n50%     125.000000   158.000000\n75%     168.000000   212.500000\nmax     951.000000  1202.000000",
      "text/html": "<div>\n<style scoped>\n    .dataframe tbody tr th:only-of-type {\n        vertical-align: middle;\n    }\n\n    .dataframe tbody tr th {\n        vertical-align: top;\n    }\n\n    .dataframe thead th {\n        text-align: right;\n    }\n</style>\n<table border=\"1\" class=\"dataframe\">\n  <thead>\n    <tr style=\"text-align: right;\">\n      <th></th>\n      <th>text_len</th>\n      <th>tok_len</th>\n    </tr>\n  </thead>\n  <tbody>\n    <tr>\n      <th>count</th>\n      <td>8215.000000</td>\n      <td>8215.000000</td>\n    </tr>\n    <tr>\n      <th>mean</th>\n      <td>140.179063</td>\n      <td>176.633232</td>\n    </tr>\n    <tr>\n      <th>std</th>\n      <td>79.587290</td>\n      <td>98.419258</td>\n    </tr>\n    <tr>\n      <th>min</th>\n      <td>1.000000</td>\n      <td>2.000000</td>\n    </tr>\n    <tr>\n      <th>25%</th>\n      <td>88.000000</td>\n      <td>111.000000</td>\n    </tr>\n    <tr>\n      <th>50%</th>\n      <td>125.000000</td>\n      <td>158.000000</td>\n    </tr>\n    <tr>\n      <th>75%</th>\n      <td>168.000000</td>\n      <td>212.500000</td>\n    </tr>\n    <tr>\n      <th>max</th>\n      <td>951.000000</td>\n      <td>1202.000000</td>\n    </tr>\n  </tbody>\n</table>\n</div>"
     },
     "execution_count": 8,
     "metadata": {},
     "output_type": "execute_result"
    }
   ],
   "source": [
    "df_all.describe()"
   ],
   "metadata": {
    "collapsed": false,
    "pycharm": {
     "name": "#%%\n"
    }
   }
  },
  {
   "cell_type": "code",
   "execution_count": 9,
   "outputs": [
    {
     "data": {
      "text/plain": "<Figure size 1152x432 with 1 Axes>",
      "image/png": "[encoded data removed]"
     },
     "metadata": {
      "needs_background": "light"
     },
     "output_type": "display_data"
    }
   ],
   "source": [
    "import matplotlib.pyplot as plt\n",
    "\n",
    "fig, ax = plt.subplots(figsize=(16, 6))\n",
    "\n",
    "sns.histplot(x='tok_len', data=df_all, ax=ax)\n",
    "max_val = max([p.get_height() for p in ax.patches])\n",
    "for q, ls in zip([0.75, 0.85, 0.95, 0.99], [(0, (5, 5)), (0, (5, 4)), (0, (5, 3)), (0, (5, 2))]):\n",
    "    qv = int(df_all['tok_len'].quantile(q))\n",
    "    ax.axvline(qv, color='red', ls=ls, lw=1.5, label=q)\n",
    "    ax.annotate(\n",
    "        qv,\n",
    "        xy=(qv, max_val * 0.8),\n",
    "        xytext=(qv + 9, max_val * 0.85),\n",
    "        arrowprops=dict(arrowstyle=\"->\", color='black'),\n",
    "    )\n",
    "\n",
    "ax.legend(title='Quantile')\n",
    "\n",
    "fig.tight_layout()"
   ],
   "metadata": {
    "collapsed": false,
    "pycharm": {
     "name": "#%%\n"
    }
   }
  }
 ],
 "metadata": {
  "kernelspec": {
   "display_name": "Python 3",
   "language": "python",
   "name": "python3"
  },
  "language_info": {
   "codemirror_mode": {
    "name": "ipython",
    "version": 2
   },
   "file_extension": ".py",
   "mimetype": "text/x-python",
   "name": "python",
   "nbconvert_exporter": "python",
   "pygments_lexer": "ipython2",
   "version": "2.7.6"
  }
 },
 "nbformat": 4,
 "nbformat_minor": 0
}