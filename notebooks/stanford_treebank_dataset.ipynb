{
 "cells": [
  {
   "cell_type": "markdown",
   "metadata": {
    "collapsed": true,
    "pycharm": {
     "name": "#%% md\n"
    }
   },
   "source": [
    "# Stanford Treebank dataset"
   ]
  },
  {
   "cell_type": "code",
   "execution_count": 1,
   "outputs": [],
   "source": [
    "import pandas as pd\n",
    "import seaborn as sns"
   ],
   "metadata": {
    "collapsed": false,
    "pycharm": {
     "name": "#%%\n"
    }
   }
  },
  {
   "cell_type": "code",
   "execution_count": 2,
   "outputs": [],
   "source": [
    "from src.settings import DATA_DIR\n",
    "\n",
    "DATA_DIR = DATA_DIR.joinpath('stanford_treebank')\n",
    "\n",
    "df_train = pd.read_csv(DATA_DIR.joinpath('train.tsv'), sep='\\t')\n",
    "df_dev = pd.read_csv(DATA_DIR.joinpath('dev.tsv'), sep='\\t')\n",
    "df_test = pd.read_csv(DATA_DIR.joinpath('test.tsv'), sep='\\t')"
   ],
   "metadata": {
    "collapsed": false,
    "pycharm": {
     "name": "#%%\n"
    }
   }
  },
  {
   "cell_type": "code",
   "execution_count": 3,
   "outputs": [
    {
     "data": {
      "text/plain": "                                            sentence  label\n0  The Rock is destined to be the 21st Century 's...      4\n1  The gorgeously elaborate continuation of `` Th...      5\n2  Singer/composer Bryan Adams contributes a slew...      4\n3  You 'd think by now America would have had eno...      3\n4               Yet the act is still charming here .      4",
      "text/html": "<div>\n<style scoped>\n    .dataframe tbody tr th:only-of-type {\n        vertical-align: middle;\n    }\n\n    .dataframe tbody tr th {\n        vertical-align: top;\n    }\n\n    .dataframe thead th {\n        text-align: right;\n    }\n</style>\n<table border=\"1\" class=\"dataframe\">\n  <thead>\n    <tr style=\"text-align: right;\">\n      <th></th>\n      <th>sentence</th>\n      <th>label</th>\n    </tr>\n  </thead>\n  <tbody>\n    <tr>\n      <th>0</th>\n      <td>The Rock is destined to be the 21st Century 's...</td>\n      <td>4</td>\n    </tr>\n    <tr>\n      <th>1</th>\n      <td>The gorgeously elaborate continuation of `` Th...</td>\n      <td>5</td>\n    </tr>\n    <tr>\n      <th>2</th>\n      <td>Singer/composer Bryan Adams contributes a slew...</td>\n      <td>4</td>\n    </tr>\n    <tr>\n      <th>3</th>\n      <td>You 'd think by now America would have had eno...</td>\n      <td>3</td>\n    </tr>\n    <tr>\n      <th>4</th>\n      <td>Yet the act is still charming here .</td>\n      <td>4</td>\n    </tr>\n  </tbody>\n</table>\n</div>"
     },
     "execution_count": 3,
     "metadata": {},
     "output_type": "execute_result"
    }
   ],
   "source": [
    "df_train.head()"
   ],
   "metadata": {
    "collapsed": false,
    "pycharm": {
     "name": "#%%\n"
    }
   }
  },
  {
   "cell_type": "code",
   "execution_count": 4,
   "outputs": [
    {
     "name": "stdout",
     "output_type": "stream",
     "text": [
      "<class 'pandas.core.frame.DataFrame'>\n",
      "RangeIndex: 8544 entries, 0 to 8543\n",
      "Data columns (total 2 columns):\n",
      " #   Column    Non-Null Count  Dtype \n",
      "---  ------    --------------  ----- \n",
      " 0   sentence  8544 non-null   object\n",
      " 1   label     8544 non-null   int64 \n",
      "dtypes: int64(1), object(1)\n",
      "memory usage: 133.6+ KB\n"
     ]
    }
   ],
   "source": [
    "df_train.info()"
   ],
   "metadata": {
    "collapsed": false,
    "pycharm": {
     "name": "#%%\n"
    }
   }
  },
  {
   "cell_type": "code",
   "execution_count": 5,
   "outputs": [
    {
     "name": "stdout",
     "output_type": "stream",
     "text": [
      "<class 'pandas.core.frame.DataFrame'>\n",
      "RangeIndex: 1101 entries, 0 to 1100\n",
      "Data columns (total 2 columns):\n",
      " #   Column    Non-Null Count  Dtype \n",
      "---  ------    --------------  ----- \n",
      " 0   sentence  1101 non-null   object\n",
      " 1   label     1101 non-null   int64 \n",
      "dtypes: int64(1), object(1)\n",
      "memory usage: 17.3+ KB\n"
     ]
    }
   ],
   "source": [
    "df_dev.info()"
   ],
   "metadata": {
    "collapsed": false,
    "pycharm": {
     "name": "#%%\n"
    }
   }
  },
  {
   "cell_type": "code",
   "execution_count": 6,
   "outputs": [
    {
     "name": "stdout",
     "output_type": "stream",
     "text": [
      "<class 'pandas.core.frame.DataFrame'>\n",
      "RangeIndex: 2210 entries, 0 to 2209\n",
      "Data columns (total 2 columns):\n",
      " #   Column    Non-Null Count  Dtype \n",
      "---  ------    --------------  ----- \n",
      " 0   sentence  2210 non-null   object\n",
      " 1   label     2210 non-null   int64 \n",
      "dtypes: int64(1), object(1)\n",
      "memory usage: 34.7+ KB\n"
     ]
    }
   ],
   "source": [
    "df_test.info()"
   ],
   "metadata": {
    "collapsed": false,
    "pycharm": {
     "name": "#%%\n"
    }
   }
  },
  {
   "cell_type": "markdown",
   "source": [
    "### Concat all splits"
   ],
   "metadata": {
    "collapsed": false,
    "pycharm": {
     "name": "#%% md\n"
    }
   }
  },
  {
   "cell_type": "code",
   "execution_count": 7,
   "outputs": [],
   "source": [
    "df_train['split'] = 'train'\n",
    "df_dev['split'] = 'val'\n",
    "df_test['split'] = 'test'\n",
    "\n",
    "df_all = pd.concat([df_train, df_dev, df_test], ignore_index=True)"
   ],
   "metadata": {
    "collapsed": false,
    "pycharm": {
     "name": "#%%\n"
    }
   }
  },
  {
   "cell_type": "markdown",
   "source": [
    "### Label distribution"
   ],
   "metadata": {
    "collapsed": false
   }
  },
  {
   "cell_type": "code",
   "execution_count": 8,
   "outputs": [
    {
     "name": "stdout",
     "output_type": "stream",
     "text": [
      "Unique labels: [4 5 3 2 1]\n"
     ]
    },
    {
     "data": {
      "text/plain": "<seaborn.axisgrid.FacetGrid at 0x7f9f1883ebe0>"
     },
     "execution_count": 8,
     "metadata": {},
     "output_type": "execute_result"
    },
    {
     "data": {
      "text/plain": "<Figure size 648x216 with 3 Axes>",
      "image/png": "[encoded data removed]"
     },
     "metadata": {
      "needs_background": "light"
     },
     "output_type": "display_data"
    }
   ],
   "source": [
    "print(f'Unique labels: {df_all.label.unique()}')\n",
    "\n",
    "g = sns.FacetGrid(df_all, col=\"split\")\n",
    "g.map(sns.countplot, 'label', order=[1, 2, 3, 4, 5])"
   ],
   "metadata": {
    "collapsed": false,
    "pycharm": {
     "name": "#%%\n"
    }
   }
  },
  {
   "cell_type": "markdown",
   "source": [
    "### Text length"
   ],
   "metadata": {
    "collapsed": false
   }
  },
  {
   "cell_type": "code",
   "execution_count": 9,
   "outputs": [
    {
     "data": {
      "text/plain": "<seaborn.axisgrid.FacetGrid at 0x7f9f187da9a0>"
     },
     "execution_count": 9,
     "metadata": {},
     "output_type": "execute_result"
    },
    {
     "data": {
      "text/plain": "<Figure size 648x216 with 3 Axes>",
      "image/png": "[encoded data removed]"
     },
     "metadata": {
      "needs_background": "light"
     },
     "output_type": "display_data"
    }
   ],
   "source": [
    "df_all['text_len'] = df_all.sentence.apply(lambda x: len(x.split(' ')))\n",
    "\n",
    "g = sns.FacetGrid(df_all, col=\"split\")\n",
    "g.map(sns.histplot, 'text_len')"
   ],
   "metadata": {
    "collapsed": false,
    "pycharm": {
     "name": "#%%\n"
    }
   }
  },
  {
   "cell_type": "code",
   "execution_count": 10,
   "outputs": [
    {
     "data": {
      "text/plain": "              label      text_len\ncount  11855.000000  11855.000000\nmean       3.055251     19.168705\nstd        1.287924      9.206627\nmin        1.000000      2.000000\n25%        2.000000     12.000000\n50%        3.000000     18.000000\n75%        4.000000     25.000000\nmax        5.000000     56.000000",
      "text/html": "<div>\n<style scoped>\n    .dataframe tbody tr th:only-of-type {\n        vertical-align: middle;\n    }\n\n    .dataframe tbody tr th {\n        vertical-align: top;\n    }\n\n    .dataframe thead th {\n        text-align: right;\n    }\n</style>\n<table border=\"1\" class=\"dataframe\">\n  <thead>\n    <tr style=\"text-align: right;\">\n      <th></th>\n      <th>label</th>\n      <th>text_len</th>\n    </tr>\n  </thead>\n  <tbody>\n    <tr>\n      <th>count</th>\n      <td>11855.000000</td>\n      <td>11855.000000</td>\n    </tr>\n    <tr>\n      <th>mean</th>\n      <td>3.055251</td>\n      <td>19.168705</td>\n    </tr>\n    <tr>\n      <th>std</th>\n      <td>1.287924</td>\n      <td>9.206627</td>\n    </tr>\n    <tr>\n      <th>min</th>\n      <td>1.000000</td>\n      <td>2.000000</td>\n    </tr>\n    <tr>\n      <th>25%</th>\n      <td>2.000000</td>\n      <td>12.000000</td>\n    </tr>\n    <tr>\n      <th>50%</th>\n      <td>3.000000</td>\n      <td>18.000000</td>\n    </tr>\n    <tr>\n      <th>75%</th>\n      <td>4.000000</td>\n      <td>25.000000</td>\n    </tr>\n    <tr>\n      <th>max</th>\n      <td>5.000000</td>\n      <td>56.000000</td>\n    </tr>\n  </tbody>\n</table>\n</div>"
     },
     "execution_count": 10,
     "metadata": {},
     "output_type": "execute_result"
    }
   ],
   "source": [
    "df_all.describe()"
   ],
   "metadata": {
    "collapsed": false,
    "pycharm": {
     "name": "#%%\n"
    }
   }
  },
  {
   "cell_type": "markdown",
   "source": [
    "### Tokenized text lengths"
   ],
   "metadata": {
    "collapsed": false,
    "pycharm": {
     "name": "#%% md\n"
    }
   }
  },
  {
   "cell_type": "code",
   "execution_count": 11,
   "outputs": [
    {
     "data": {
      "text/plain": "                                            sentence  label  split  text_len  \\\n0  The Rock is destined to be the 21st Century 's...      4  train        36   \n1  The gorgeously elaborate continuation of `` Th...      5  train        37   \n2  Singer/composer Bryan Adams contributes a slew...      4  train        39   \n3  You 'd think by now America would have had eno...      3  train        19   \n4               Yet the act is still charming here .      4  train         8   \n\n   tok_len  \n0       59  \n1       59  \n2       50  \n3       29  \n4       10  ",
      "text/html": "<div>\n<style scoped>\n    .dataframe tbody tr th:only-of-type {\n        vertical-align: middle;\n    }\n\n    .dataframe tbody tr th {\n        vertical-align: top;\n    }\n\n    .dataframe thead th {\n        text-align: right;\n    }\n</style>\n<table border=\"1\" class=\"dataframe\">\n  <thead>\n    <tr style=\"text-align: right;\">\n      <th></th>\n      <th>sentence</th>\n      <th>label</th>\n      <th>split</th>\n      <th>text_len</th>\n      <th>tok_len</th>\n    </tr>\n  </thead>\n  <tbody>\n    <tr>\n      <th>0</th>\n      <td>The Rock is destined to be the 21st Century 's...</td>\n      <td>4</td>\n      <td>train</td>\n      <td>36</td>\n      <td>59</td>\n    </tr>\n    <tr>\n      <th>1</th>\n      <td>The gorgeously elaborate continuation of `` Th...</td>\n      <td>5</td>\n      <td>train</td>\n      <td>37</td>\n      <td>59</td>\n    </tr>\n    <tr>\n      <th>2</th>\n      <td>Singer/composer Bryan Adams contributes a slew...</td>\n      <td>4</td>\n      <td>train</td>\n      <td>39</td>\n      <td>50</td>\n    </tr>\n    <tr>\n      <th>3</th>\n      <td>You 'd think by now America would have had eno...</td>\n      <td>3</td>\n      <td>train</td>\n      <td>19</td>\n      <td>29</td>\n    </tr>\n    <tr>\n      <th>4</th>\n      <td>Yet the act is still charming here .</td>\n      <td>4</td>\n      <td>train</td>\n      <td>8</td>\n      <td>10</td>\n    </tr>\n  </tbody>\n</table>\n</div>"
     },
     "execution_count": 11,
     "metadata": {},
     "output_type": "execute_result"
    }
   ],
   "source": [
    "from transformers import AutoTokenizer\n",
    "\n",
    "HUGGINGFACE_MODEL_NAME = 'bert-base-cased'\n",
    "tokenizer = AutoTokenizer.from_pretrained(HUGGINGFACE_MODEL_NAME, do_lower_case=True)\n",
    "\n",
    "texts = df_all['sentence'].values.tolist()\n",
    "\n",
    "text_tokenized = tokenizer(\n",
    "    texts,\n",
    "    add_special_tokens=True,\n",
    "    return_token_type_ids=False,\n",
    "    return_attention_mask=False,\n",
    "    truncation=False,\n",
    "    padding=False,\n",
    "    return_length=True\n",
    ")\n",
    "text_tokens = text_tokenized['input_ids']\n",
    "lengths = text_tokenized['length']\n",
    "\n",
    "df_all['tok_len'] = lengths\n",
    "df_all.head()"
   ],
   "metadata": {
    "collapsed": false,
    "pycharm": {
     "name": "#%%\n"
    }
   }
  },
  {
   "cell_type": "code",
   "execution_count": 12,
   "outputs": [
    {
     "data": {
      "text/plain": "              label      text_len       tok_len\ncount  11855.000000  11855.000000  11855.000000\nmean       3.055251     19.168705     26.071615\nstd        1.287924      9.206627     11.751634\nmin        1.000000      2.000000      4.000000\n25%        2.000000     12.000000     17.000000\n50%        3.000000     18.000000     25.000000\n75%        4.000000     25.000000     34.000000\nmax        5.000000     56.000000     72.000000",
      "text/html": "<div>\n<style scoped>\n    .dataframe tbody tr th:only-of-type {\n        vertical-align: middle;\n    }\n\n    .dataframe tbody tr th {\n        vertical-align: top;\n    }\n\n    .dataframe thead th {\n        text-align: right;\n    }\n</style>\n<table border=\"1\" class=\"dataframe\">\n  <thead>\n    <tr style=\"text-align: right;\">\n      <th></th>\n      <th>label</th>\n      <th>text_len</th>\n      <th>tok_len</th>\n    </tr>\n  </thead>\n  <tbody>\n    <tr>\n      <th>count</th>\n      <td>11855.000000</td>\n      <td>11855.000000</td>\n      <td>11855.000000</td>\n    </tr>\n    <tr>\n      <th>mean</th>\n      <td>3.055251</td>\n      <td>19.168705</td>\n      <td>26.071615</td>\n    </tr>\n    <tr>\n      <th>std</th>\n      <td>1.287924</td>\n      <td>9.206627</td>\n      <td>11.751634</td>\n    </tr>\n    <tr>\n      <th>min</th>\n      <td>1.000000</td>\n      <td>2.000000</td>\n      <td>4.000000</td>\n    </tr>\n    <tr>\n      <th>25%</th>\n      <td>2.000000</td>\n      <td>12.000000</td>\n      <td>17.000000</td>\n    </tr>\n    <tr>\n      <th>50%</th>\n      <td>3.000000</td>\n      <td>18.000000</td>\n      <td>25.000000</td>\n    </tr>\n    <tr>\n      <th>75%</th>\n      <td>4.000000</td>\n      <td>25.000000</td>\n      <td>34.000000</td>\n    </tr>\n    <tr>\n      <th>max</th>\n      <td>5.000000</td>\n      <td>56.000000</td>\n      <td>72.000000</td>\n    </tr>\n  </tbody>\n</table>\n</div>"
     },
     "execution_count": 12,
     "metadata": {},
     "output_type": "execute_result"
    }
   ],
   "source": [
    "df_all.describe()"
   ],
   "metadata": {
    "collapsed": false,
    "pycharm": {
     "name": "#%%\n"
    }
   }
  },
  {
   "cell_type": "code",
   "execution_count": 13,
   "outputs": [
    {
     "data": {
      "text/plain": "<Figure size 1152x432 with 1 Axes>",
      "image/png": "[encoded data removed]"
     },
     "metadata": {
      "needs_background": "light"
     },
     "output_type": "display_data"
    }
   ],
   "source": [
    "import matplotlib.pyplot as plt\n",
    "\n",
    "fig, ax = plt.subplots(figsize=(16, 6))\n",
    "\n",
    "sns.histplot(x='tok_len', data=df_all, ax=ax)\n",
    "max_val = max([p.get_height() for p in ax.patches])\n",
    "for q, ls in zip([0.75, 0.85, 0.95, 0.99], [(0, (5, 5)), (0, (5, 4)), (0, (5, 3)), (0, (5, 2))]):\n",
    "    qv = int(df_all['tok_len'].quantile(q))\n",
    "    ax.axvline(qv, color='red', ls=ls, lw=1.5, label=q)\n",
    "    ax.annotate(\n",
    "        qv,\n",
    "        xy=(qv, max_val * 0.8),\n",
    "        xytext=(qv + 9, max_val * 0.85),\n",
    "        arrowprops=dict(arrowstyle=\"->\", color='black'),\n",
    "    )\n",
    "\n",
    "ax.legend(title='Quantile')\n",
    "\n",
    "fig.tight_layout()"
   ],
   "metadata": {
    "collapsed": false,
    "pycharm": {
     "name": "#%%\n"
    }
   }
  }
 ],
 "metadata": {
  "kernelspec": {
   "display_name": "Python 3",
   "language": "python",
   "name": "python3"
  },
  "language_info": {
   "codemirror_mode": {
    "name": "ipython",
    "version": 2
   },
   "file_extension": ".py",
   "mimetype": "text/x-python",
   "name": "python",
   "nbconvert_exporter": "python",
   "pygments_lexer": "ipython2",
   "version": "2.7.6"
  }
 },
 "nbformat": 4,
 "nbformat_minor": 0
}