{
 "cells": [
  {
   "cell_type": "markdown",
   "source": [
    "# Polemo2.0 dataset"
   ],
   "metadata": {
    "collapsed": false
   }
  },
  {
   "cell_type": "code",
   "execution_count": 1,
   "outputs": [
    {
     "name": "stderr",
     "output_type": "stream",
     "text": [
      "<frozen importlib._bootstrap>:228: RuntimeWarning: scipy._lib.messagestream.MessageStream size changed, may indicate binary incompatibility. Expected 56 from C header, got 64 from PyObject\n"
     ]
    }
   ],
   "source": [
    "from pathlib import Path\n",
    "\n",
    "import pandas as pd\n",
    "import seaborn as sns\n",
    "\n",
    "from src.settings import DATA_DIR"
   ],
   "metadata": {
    "collapsed": false,
    "pycharm": {
     "name": "#%%\n"
    }
   }
  },
  {
   "cell_type": "code",
   "execution_count": 2,
   "outputs": [],
   "source": [
    "POLEMO_DIR = DATA_DIR.joinpath('polemo2', 'origin')\n",
    "\n",
    "\n",
    "def get_frame(path: Path, split: str, label_prefix: str = '__label__meta_') -> pd.DataFrame:\n",
    "    with path.open() as f:\n",
    "        lines = f.readlines()\n",
    "\n",
    "    texts = []\n",
    "    labels = []\n",
    "\n",
    "    for line in lines:\n",
    "        text, label = line.split(label_prefix)\n",
    "        labels.append(label.rstrip('\\n'))\n",
    "        texts.append(text.strip())\n",
    "\n",
    "    df = pd.DataFrame(list(zip(texts, labels)), columns=['text', 'label'])\n",
    "    df['split'] = split\n",
    "    return df\n",
    "\n",
    "\n",
    "def get_stats(mode: str, domain: str):\n",
    "    train_path = POLEMO_DIR.joinpath(f'{domain}.{mode}.train.txt')\n",
    "    val_path = POLEMO_DIR.joinpath(f'{domain}.{mode}.dev.txt')\n",
    "    test_path = POLEMO_DIR.joinpath(f'{domain}.{mode}.test.txt')\n",
    "\n",
    "    df_train = get_frame(train_path, split='train')\n",
    "    df_val = get_frame(val_path, split='val')\n",
    "    df_test = get_frame(test_path, split='test')\n",
    "\n",
    "    print(f'Len train: {len(df_train)}')\n",
    "    print(f'Len val: {len(df_val)}')\n",
    "    print(f'Len test: {len(df_test)}')\n",
    "\n",
    "    df_all = pd.concat([df_train, df_val, df_test], ignore_index=True)\n",
    "\n",
    "    print(f'Sentiment labels: {df_all.label.unique()}')\n",
    "\n",
    "    g = sns.FacetGrid(df_all, col=\"split\")\n",
    "    g.map(sns.countplot, 'label', order=[\n",
    "        'minus_m',\n",
    "        'zero',\n",
    "        'amb',\n",
    "        'plus_m',\n",
    "    ])\n",
    "\n",
    "    # Annotate a value into each bar in each plot\n",
    "    for ax in g.axes.ravel():\n",
    "        for p in ax.patches:\n",
    "            ax.annotate(\n",
    "                format(p.get_height(), '.0f'), (p.get_x() + p.get_width() / 2., p.get_height()),\n",
    "                ha='center',\n",
    "                va='center',\n",
    "                xytext=(0, 10),\n",
    "                textcoords='offset points',\n",
    "            )\n",
    "    return g, df_all"
   ],
   "metadata": {
    "collapsed": false,
    "pycharm": {
     "name": "#%%\n"
    }
   }
  },
  {
   "cell_type": "code",
   "execution_count": 13,
   "outputs": [],
   "source": [
    "def split_texts_to_folder(mode: str, domain: str, split: str, label_prefix: str = '__label__meta_'):\n",
    "    path = POLEMO_DIR.joinpath(f'{domain}.{mode}.{split}.txt')\n",
    "\n",
    "    dir = POLEMO_DIR.joinpath(f'{domain}_{mode}_{split}', 'txt')\n",
    "    dir.mkdir(exist_ok=True, parents=True)\n",
    "\n",
    "    df = get_frame(path, split=split, label_prefix=label_prefix)\n",
    "    texts = df['text'].values\n",
    "\n",
    "    for idx, text in enumerate(texts):\n",
    "        path = dir.joinpath(f'{idx}.txt')\n",
    "        with path.open(mode='w') as f:\n",
    "            f.write(text)"
   ],
   "metadata": {
    "collapsed": false,
    "pycharm": {
     "name": "#%%\n"
    }
   }
  },
  {
   "cell_type": "code",
   "execution_count": 14,
   "outputs": [],
   "source": [
    "split_texts_to_folder(mode='text', domain='all', split='train')\n",
    "split_texts_to_folder(mode='text', domain='all', split='dev')\n",
    "split_texts_to_folder(mode='text', domain='all', split='test')"
   ],
   "metadata": {
    "collapsed": false,
    "pycharm": {
     "name": "#%%\n"
    }
   }
  },
  {
   "cell_type": "code",
   "execution_count": 15,
   "outputs": [],
   "source": [
    "split_texts_to_folder(mode='sentence', domain='all', split='train', label_prefix='__label__z_')\n",
    "split_texts_to_folder(mode='sentence', domain='all', split='dev', label_prefix='__label__z_')\n",
    "split_texts_to_folder(mode='sentence', domain='all', split='test', label_prefix='__label__z_')"
   ],
   "metadata": {
    "collapsed": false,
    "pycharm": {
     "name": "#%%\n"
    }
   }
  },
  {
   "cell_type": "markdown",
   "source": [
    "## All texts"
   ],
   "metadata": {
    "collapsed": false,
    "pycharm": {
     "name": "#%% md\n"
    }
   }
  },
  {
   "cell_type": "code",
   "execution_count": 16,
   "outputs": [
    {
     "name": "stdout",
     "output_type": "stream",
     "text": [
      "Len train: 6573\n",
      "Len val: 823\n",
      "Len test: 820\n",
      "Sentiment labels: ['minus_m' 'plus_m' 'zero' 'amb']\n"
     ]
    },
    {
     "data": {
      "text/plain": "<Figure size 648x216 with 3 Axes>",
      "image/png": "[encoded data removed]"
     },
     "metadata": {
      "needs_background": "light"
     },
     "output_type": "display_data"
    }
   ],
   "source": [
    "mode = 'text'\n",
    "domain = 'all'\n",
    "\n",
    "g, df_all = get_stats(mode=mode, domain=domain)"
   ],
   "metadata": {
    "collapsed": false,
    "pycharm": {
     "name": "#%%\n"
    }
   }
  },
  {
   "cell_type": "code",
   "execution_count": 17,
   "outputs": [
    {
     "data": {
      "text/plain": "<seaborn.axisgrid.FacetGrid at 0x7f09ba7c34c0>"
     },
     "execution_count": 17,
     "metadata": {},
     "output_type": "execute_result"
    },
    {
     "data": {
      "text/plain": "<Figure size 648x216 with 3 Axes>",
      "image/png": "[encoded data removed]"
     },
     "metadata": {
      "needs_background": "light"
     },
     "output_type": "display_data"
    }
   ],
   "source": [
    "df_all['text_len'] = df_all.text.apply(lambda x: len(x.split(' ')))\n",
    "\n",
    "g = sns.FacetGrid(df_all, col=\"split\")\n",
    "g.map(sns.histplot, 'text_len')"
   ],
   "metadata": {
    "collapsed": false,
    "pycharm": {
     "name": "#%%\n"
    }
   }
  },
  {
   "cell_type": "markdown",
   "source": [
    "### Tokenized text lengths"
   ],
   "metadata": {
    "collapsed": false,
    "pycharm": {
     "name": "#%% md\n"
    }
   }
  },
  {
   "cell_type": "code",
   "execution_count": 18,
   "outputs": [
    {
     "name": "stderr",
     "output_type": "stream",
     "text": [
      "Token indices sequence length is longer than the specified maximum sequence length for this model (571 > 512). Running this sequence through the model will result in indexing errors\n"
     ]
    },
    {
     "data": {
      "text/plain": "                                                text    label  split  \\\n0  Na samym wejściu hotel śmierdzi . W pokojach j...  minus_m  train   \n1  Ze swoimi dziećmi ( 10 lat i 2 latka ) chodzę ...   plus_m  train   \n2  Chciał em zestaw do podstawowych prac coś przy...  minus_m  train   \n3  Drogie Mamy . Mam o tym laktatorze takie same ...  minus_m  train   \n4  własciwie nic się nie dowidział em , podczas b...  minus_m  train   \n\n   text_len  tok_len  \n0        60       75  \n1       116      126  \n2       117      149  \n3       136      179  \n4       100      118  ",
      "text/html": "<div>\n<style scoped>\n    .dataframe tbody tr th:only-of-type {\n        vertical-align: middle;\n    }\n\n    .dataframe tbody tr th {\n        vertical-align: top;\n    }\n\n    .dataframe thead th {\n        text-align: right;\n    }\n</style>\n<table border=\"1\" class=\"dataframe\">\n  <thead>\n    <tr style=\"text-align: right;\">\n      <th></th>\n      <th>text</th>\n      <th>label</th>\n      <th>split</th>\n      <th>text_len</th>\n      <th>tok_len</th>\n    </tr>\n  </thead>\n  <tbody>\n    <tr>\n      <th>0</th>\n      <td>Na samym wejściu hotel śmierdzi . W pokojach j...</td>\n      <td>minus_m</td>\n      <td>train</td>\n      <td>60</td>\n      <td>75</td>\n    </tr>\n    <tr>\n      <th>1</th>\n      <td>Ze swoimi dziećmi ( 10 lat i 2 latka ) chodzę ...</td>\n      <td>plus_m</td>\n      <td>train</td>\n      <td>116</td>\n      <td>126</td>\n    </tr>\n    <tr>\n      <th>2</th>\n      <td>Chciał em zestaw do podstawowych prac coś przy...</td>\n      <td>minus_m</td>\n      <td>train</td>\n      <td>117</td>\n      <td>149</td>\n    </tr>\n    <tr>\n      <th>3</th>\n      <td>Drogie Mamy . Mam o tym laktatorze takie same ...</td>\n      <td>minus_m</td>\n      <td>train</td>\n      <td>136</td>\n      <td>179</td>\n    </tr>\n    <tr>\n      <th>4</th>\n      <td>własciwie nic się nie dowidział em , podczas b...</td>\n      <td>minus_m</td>\n      <td>train</td>\n      <td>100</td>\n      <td>118</td>\n    </tr>\n  </tbody>\n</table>\n</div>"
     },
     "execution_count": 18,
     "metadata": {},
     "output_type": "execute_result"
    }
   ],
   "source": [
    "from transformers import AutoTokenizer\n",
    "\n",
    "HUGGINGFACE_MODEL_NAME = 'allegro/herbert-base-cased'\n",
    "tokenizer = AutoTokenizer.from_pretrained(HUGGINGFACE_MODEL_NAME, do_lower_case=True)\n",
    "\n",
    "texts = df_all['text'].values.tolist()\n",
    "\n",
    "text_tokenized = tokenizer(\n",
    "    texts,\n",
    "    add_special_tokens=True,\n",
    "    return_token_type_ids=False,\n",
    "    return_attention_mask=False,\n",
    "    truncation=False,\n",
    "    padding=False,\n",
    "    return_length=True\n",
    ")\n",
    "text_tokens = text_tokenized['input_ids']\n",
    "lengths = text_tokenized['length']\n",
    "\n",
    "df_all['tok_len'] = lengths\n",
    "df_all.head()"
   ],
   "metadata": {
    "collapsed": false,
    "pycharm": {
     "name": "#%%\n"
    }
   }
  },
  {
   "cell_type": "code",
   "execution_count": 19,
   "outputs": [
    {
     "data": {
      "text/plain": "          text_len      tok_len\ncount  8216.000000  8216.000000\nmean    132.763145   164.085686\nstd      75.228173    92.670358\nmin       1.000000     3.000000\n25%      83.000000   103.000000\n50%     119.000000   146.000000\n75%     158.250000   196.250000\nmax     987.000000  1213.000000",
      "text/html": "<div>\n<style scoped>\n    .dataframe tbody tr th:only-of-type {\n        vertical-align: middle;\n    }\n\n    .dataframe tbody tr th {\n        vertical-align: top;\n    }\n\n    .dataframe thead th {\n        text-align: right;\n    }\n</style>\n<table border=\"1\" class=\"dataframe\">\n  <thead>\n    <tr style=\"text-align: right;\">\n      <th></th>\n      <th>text_len</th>\n      <th>tok_len</th>\n    </tr>\n  </thead>\n  <tbody>\n    <tr>\n      <th>count</th>\n      <td>8216.000000</td>\n      <td>8216.000000</td>\n    </tr>\n    <tr>\n      <th>mean</th>\n      <td>132.763145</td>\n      <td>164.085686</td>\n    </tr>\n    <tr>\n      <th>std</th>\n      <td>75.228173</td>\n      <td>92.670358</td>\n    </tr>\n    <tr>\n      <th>min</th>\n      <td>1.000000</td>\n      <td>3.000000</td>\n    </tr>\n    <tr>\n      <th>25%</th>\n      <td>83.000000</td>\n      <td>103.000000</td>\n    </tr>\n    <tr>\n      <th>50%</th>\n      <td>119.000000</td>\n      <td>146.000000</td>\n    </tr>\n    <tr>\n      <th>75%</th>\n      <td>158.250000</td>\n      <td>196.250000</td>\n    </tr>\n    <tr>\n      <th>max</th>\n      <td>987.000000</td>\n      <td>1213.000000</td>\n    </tr>\n  </tbody>\n</table>\n</div>"
     },
     "execution_count": 19,
     "metadata": {},
     "output_type": "execute_result"
    }
   ],
   "source": [
    "df_all.describe()"
   ],
   "metadata": {
    "collapsed": false,
    "pycharm": {
     "name": "#%%\n"
    }
   }
  },
  {
   "cell_type": "code",
   "execution_count": 20,
   "outputs": [
    {
     "data": {
      "text/plain": "<Figure size 1152x432 with 1 Axes>",
      "image/png": "[encoded data removed]"
     },
     "metadata": {
      "needs_background": "light"
     },
     "output_type": "display_data"
    }
   ],
   "source": [
    "import matplotlib.pyplot as plt\n",
    "\n",
    "fig, ax = plt.subplots(figsize=(16, 6))\n",
    "\n",
    "sns.histplot(x='tok_len', data=df_all, ax=ax)\n",
    "max_val = max([p.get_height() for p in ax.patches])\n",
    "for q, ls in zip([0.75, 0.85, 0.95, 0.99], [(0, (5, 5)), (0, (5, 4)), (0, (5, 3)), (0, (5, 2))]):\n",
    "    qv = int(df_all['tok_len'].quantile(q))\n",
    "    ax.axvline(qv, color='red', ls=ls, lw=1.5, label=q)\n",
    "    ax.annotate(\n",
    "        qv,\n",
    "        xy=(qv, max_val * 0.8),\n",
    "        xytext=(qv + 9, max_val * 0.85),\n",
    "        arrowprops=dict(arrowstyle=\"->\", color='black'),\n",
    "    )\n",
    "\n",
    "ax.legend(title='Quantile')\n",
    "\n",
    "fig.tight_layout()"
   ],
   "metadata": {
    "collapsed": false,
    "pycharm": {
     "name": "#%%\n"
    }
   }
  },
  {
   "cell_type": "markdown",
   "source": [
    "## Hotels texts"
   ],
   "metadata": {
    "collapsed": false,
    "pycharm": {
     "name": "#%% md\n"
    }
   }
  },
  {
   "cell_type": "code",
   "execution_count": 51,
   "outputs": [
    {
     "name": "stdout",
     "output_type": "stream",
     "text": [
      "Len train: 3165\n",
      "Len val: 396\n",
      "Len test: 395\n",
      "Sentiment labels: ['minus_m' 'plus_m' 'zero' 'amb']\n"
     ]
    },
    {
     "data": {
      "text/plain": "<seaborn.axisgrid.FacetGrid at 0x7f2620a5af70>"
     },
     "execution_count": 51,
     "metadata": {},
     "output_type": "execute_result"
    },
    {
     "data": {
      "text/plain": "<Figure size 648x216 with 3 Axes>",
      "image/png": "[encoded data removed]"
     },
     "metadata": {
      "needs_background": "light"
     },
     "output_type": "display_data"
    }
   ],
   "source": [
    "mode = 'text'\n",
    "domain = 'hotels'\n",
    "\n",
    "get_stats(mode=mode, domain=domain)"
   ],
   "metadata": {
    "collapsed": false,
    "pycharm": {
     "name": "#%%\n"
    }
   }
  },
  {
   "cell_type": "code",
   "execution_count": 52,
   "outputs": [
    {
     "name": "stdout",
     "output_type": "stream",
     "text": [
      "Len train: 403\n",
      "Len val: 51\n",
      "Len test: 50\n",
      "Sentiment labels: ['plus_m' 'minus_m' 'amb']\n"
     ]
    },
    {
     "data": {
      "text/plain": "<seaborn.axisgrid.FacetGrid at 0x7f262066e790>"
     },
     "execution_count": 52,
     "metadata": {},
     "output_type": "execute_result"
    },
    {
     "data": {
      "text/plain": "<Figure size 648x216 with 3 Axes>",
      "image/png": "[encoded data removed]"
     },
     "metadata": {
      "needs_background": "light"
     },
     "output_type": "display_data"
    }
   ],
   "source": [
    "mode = 'text'\n",
    "domain = 'reviews'\n",
    "\n",
    "get_stats(mode=mode, domain=domain)"
   ],
   "metadata": {
    "collapsed": false,
    "pycharm": {
     "name": "#%%\n"
    }
   }
  },
  {
   "cell_type": "code",
   "execution_count": 53,
   "outputs": [
    {
     "name": "stdout",
     "output_type": "stream",
     "text": [
      "Len train: 2618\n",
      "Len val: 327\n",
      "Len test: 327\n",
      "Sentiment labels: ['plus_m' 'minus_m' 'amb' 'zero']\n"
     ]
    },
    {
     "data": {
      "text/plain": "<seaborn.axisgrid.FacetGrid at 0x7f26203ecc40>"
     },
     "execution_count": 53,
     "metadata": {},
     "output_type": "execute_result"
    },
    {
     "data": {
      "text/plain": "<Figure size 648x216 with 3 Axes>",
      "image/png": "[encoded data removed]"
     },
     "metadata": {
      "needs_background": "light"
     },
     "output_type": "display_data"
    }
   ],
   "source": [
    "mode = 'text'\n",
    "domain = 'medicine'\n",
    "\n",
    "get_stats(mode=mode, domain=domain)"
   ],
   "metadata": {
    "collapsed": false,
    "pycharm": {
     "name": "#%%\n"
    }
   }
  },
  {
   "cell_type": "code",
   "execution_count": 54,
   "outputs": [
    {
     "name": "stdout",
     "output_type": "stream",
     "text": [
      "Len train: 387\n",
      "Len val: 49\n",
      "Len test: 48\n",
      "Sentiment labels: ['minus_m' 'amb' 'plus_m' 'zero']\n"
     ]
    },
    {
     "data": {
      "text/plain": "<seaborn.axisgrid.FacetGrid at 0x7f26203ee880>"
     },
     "execution_count": 54,
     "metadata": {},
     "output_type": "execute_result"
    },
    {
     "data": {
      "text/plain": "<Figure size 648x216 with 3 Axes>",
      "image/png": "[encoded data removed]"
     },
     "metadata": {
      "needs_background": "light"
     },
     "output_type": "display_data"
    }
   ],
   "source": [
    "mode = 'text'\n",
    "domain = 'products'\n",
    "\n",
    "get_stats(mode=mode, domain=domain)"
   ],
   "metadata": {
    "collapsed": false,
    "pycharm": {
     "name": "#%%\n"
    }
   }
  },
  {
   "cell_type": "code",
   "execution_count": 54,
   "outputs": [],
   "source": [],
   "metadata": {
    "collapsed": false,
    "pycharm": {
     "name": "#%%\n"
    }
   }
  },
  {
   "cell_type": "code",
   "execution_count": null,
   "outputs": [],
   "source": [],
   "metadata": {
    "collapsed": false,
    "pycharm": {
     "name": "#%%\n"
    }
   }
  }
 ],
 "metadata": {
  "kernelspec": {
   "display_name": "Python 3",
   "language": "python",
   "name": "python3"
  },
  "language_info": {
   "codemirror_mode": {
    "name": "ipython",
    "version": 2
   },
   "file_extension": ".py",
   "mimetype": "text/x-python",
   "name": "python",
   "nbconvert_exporter": "python",
   "pygments_lexer": "ipython2",
   "version": "2.7.6"
  }
 },
 "nbformat": 4,
 "nbformat_minor": 0
}