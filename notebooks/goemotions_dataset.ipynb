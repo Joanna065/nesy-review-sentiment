{
 "cells": [
  {
   "cell_type": "markdown",
   "source": [
    "# GoEmotions dataset"
   ],
   "metadata": {
    "collapsed": false,
    "pycharm": {
     "name": "#%% md\n"
    }
   }
  },
  {
   "cell_type": "code",
   "execution_count": 1,
   "outputs": [
    {
     "name": "stderr",
     "output_type": "stream",
     "text": [
      "<frozen importlib._bootstrap>:228: RuntimeWarning: scipy._lib.messagestream.MessageStream size changed, may indicate binary incompatibility. Expected 56 from C header, got 64 from PyObject\n"
     ]
    }
   ],
   "source": [
    "import pandas as pd\n",
    "import seaborn as sns"
   ],
   "metadata": {
    "collapsed": false,
    "pycharm": {
     "name": "#%%\n"
    }
   }
  },
  {
   "cell_type": "code",
   "execution_count": 2,
   "metadata": {
    "collapsed": true
   },
   "outputs": [],
   "source": [
    "from src.settings import DATA_DIR\n",
    "\n",
    "DATA_DIR = DATA_DIR.joinpath('goemotions')\n",
    "\n",
    "df_train = pd.read_csv(DATA_DIR.joinpath('train.tsv'), sep='\\t')\n",
    "df_dev = pd.read_csv(DATA_DIR.joinpath('dev.tsv'), sep='\\t')\n",
    "df_test = pd.read_csv(DATA_DIR.joinpath('test.tsv'), sep='\\t')"
   ]
  },
  {
   "cell_type": "code",
   "execution_count": 3,
   "outputs": [
    {
     "data": {
      "text/plain": "                                                text labels comment_id\n0  My favourite food is anything I didn't have to...     27    eebbqej\n1  Now if he does off himself, everyone will thin...     27    ed00q6i\n2                     WHY THE FUCK IS BAYLESS ISOING      2    eezlygj\n3                        To make her feel threatened     14    ed7ypvh\n4                             Dirty Southern Wankers      3    ed0bdzj",
      "text/html": "<div>\n<style scoped>\n    .dataframe tbody tr th:only-of-type {\n        vertical-align: middle;\n    }\n\n    .dataframe tbody tr th {\n        vertical-align: top;\n    }\n\n    .dataframe thead th {\n        text-align: right;\n    }\n</style>\n<table border=\"1\" class=\"dataframe\">\n  <thead>\n    <tr style=\"text-align: right;\">\n      <th></th>\n      <th>text</th>\n      <th>labels</th>\n      <th>comment_id</th>\n    </tr>\n  </thead>\n  <tbody>\n    <tr>\n      <th>0</th>\n      <td>My favourite food is anything I didn't have to...</td>\n      <td>27</td>\n      <td>eebbqej</td>\n    </tr>\n    <tr>\n      <th>1</th>\n      <td>Now if he does off himself, everyone will thin...</td>\n      <td>27</td>\n      <td>ed00q6i</td>\n    </tr>\n    <tr>\n      <th>2</th>\n      <td>WHY THE FUCK IS BAYLESS ISOING</td>\n      <td>2</td>\n      <td>eezlygj</td>\n    </tr>\n    <tr>\n      <th>3</th>\n      <td>To make her feel threatened</td>\n      <td>14</td>\n      <td>ed7ypvh</td>\n    </tr>\n    <tr>\n      <th>4</th>\n      <td>Dirty Southern Wankers</td>\n      <td>3</td>\n      <td>ed0bdzj</td>\n    </tr>\n  </tbody>\n</table>\n</div>"
     },
     "execution_count": 3,
     "metadata": {},
     "output_type": "execute_result"
    }
   ],
   "source": [
    "df_train.head()"
   ],
   "metadata": {
    "collapsed": false,
    "pycharm": {
     "name": "#%%\n"
    }
   }
  },
  {
   "cell_type": "code",
   "execution_count": 4,
   "outputs": [
    {
     "name": "stdout",
     "output_type": "stream",
     "text": [
      "<class 'pandas.core.frame.DataFrame'>\n",
      "RangeIndex: 43410 entries, 0 to 43409\n",
      "Data columns (total 3 columns):\n",
      " #   Column      Non-Null Count  Dtype \n",
      "---  ------      --------------  ----- \n",
      " 0   text        43410 non-null  object\n",
      " 1   labels      43410 non-null  object\n",
      " 2   comment_id  43410 non-null  object\n",
      "dtypes: object(3)\n",
      "memory usage: 1017.5+ KB\n"
     ]
    }
   ],
   "source": [
    "df_train.info()"
   ],
   "metadata": {
    "collapsed": false,
    "pycharm": {
     "name": "#%%\n"
    }
   }
  },
  {
   "cell_type": "code",
   "execution_count": 5,
   "outputs": [
    {
     "name": "stdout",
     "output_type": "stream",
     "text": [
      "<class 'pandas.core.frame.DataFrame'>\n",
      "RangeIndex: 5426 entries, 0 to 5425\n",
      "Data columns (total 3 columns):\n",
      " #   Column      Non-Null Count  Dtype \n",
      "---  ------      --------------  ----- \n",
      " 0   text        5426 non-null   object\n",
      " 1   labels      5426 non-null   object\n",
      " 2   comment_id  5426 non-null   object\n",
      "dtypes: object(3)\n",
      "memory usage: 127.3+ KB\n"
     ]
    }
   ],
   "source": [
    "df_dev.info()"
   ],
   "metadata": {
    "collapsed": false,
    "pycharm": {
     "name": "#%%\n"
    }
   }
  },
  {
   "cell_type": "code",
   "execution_count": 6,
   "outputs": [
    {
     "name": "stdout",
     "output_type": "stream",
     "text": [
      "<class 'pandas.core.frame.DataFrame'>\n",
      "RangeIndex: 5427 entries, 0 to 5426\n",
      "Data columns (total 3 columns):\n",
      " #   Column      Non-Null Count  Dtype \n",
      "---  ------      --------------  ----- \n",
      " 0   text        5427 non-null   object\n",
      " 1   labels      5427 non-null   object\n",
      " 2   comment_id  5427 non-null   object\n",
      "dtypes: object(3)\n",
      "memory usage: 127.3+ KB\n"
     ]
    }
   ],
   "source": [
    "df_test.info()"
   ],
   "metadata": {
    "collapsed": false,
    "pycharm": {
     "name": "#%%\n"
    }
   }
  },
  {
   "cell_type": "markdown",
   "source": [
    "### Concat splits"
   ],
   "metadata": {
    "collapsed": false,
    "pycharm": {
     "name": "#%% md\n"
    }
   }
  },
  {
   "cell_type": "code",
   "execution_count": 48,
   "outputs": [],
   "source": [
    "df_train['split'] = 'train'\n",
    "df_dev['split'] = 'val'\n",
    "df_test['split'] = 'test'\n",
    "df_all = pd.concat([df_train, df_dev, df_test], ignore_index=True)"
   ],
   "metadata": {
    "collapsed": false,
    "pycharm": {
     "name": "#%%\n"
    }
   }
  },
  {
   "cell_type": "markdown",
   "source": [
    "### Text length"
   ],
   "metadata": {
    "collapsed": false
   }
  },
  {
   "cell_type": "code",
   "execution_count": 49,
   "outputs": [
    {
     "data": {
      "text/plain": "<seaborn.axisgrid.FacetGrid at 0x7f9121887ac0>"
     },
     "execution_count": 49,
     "metadata": {},
     "output_type": "execute_result"
    },
    {
     "data": {
      "text/plain": "<Figure size 648x216 with 3 Axes>",
      "image/png": "[encoded data removed]"
     },
     "metadata": {
      "needs_background": "light"
     },
     "output_type": "display_data"
    }
   ],
   "source": [
    "df_all['text_len'] = df_all.text.apply(lambda x: len(x.split(' ')))\n",
    "\n",
    "g = sns.FacetGrid(df_all, col=\"split\")\n",
    "g.map(sns.histplot, 'text_len')"
   ],
   "metadata": {
    "collapsed": false,
    "pycharm": {
     "name": "#%%\n"
    }
   }
  },
  {
   "cell_type": "code",
   "execution_count": 50,
   "outputs": [
    {
     "data": {
      "text/plain": "           text_len\ncount  54263.000000\nmean      12.886295\nstd        6.734256\nmin        1.000000\n25%        7.000000\n50%       12.000000\n75%       18.000000\nmax       33.000000",
      "text/html": "<div>\n<style scoped>\n    .dataframe tbody tr th:only-of-type {\n        vertical-align: middle;\n    }\n\n    .dataframe tbody tr th {\n        vertical-align: top;\n    }\n\n    .dataframe thead th {\n        text-align: right;\n    }\n</style>\n<table border=\"1\" class=\"dataframe\">\n  <thead>\n    <tr style=\"text-align: right;\">\n      <th></th>\n      <th>text_len</th>\n    </tr>\n  </thead>\n  <tbody>\n    <tr>\n      <th>count</th>\n      <td>54263.000000</td>\n    </tr>\n    <tr>\n      <th>mean</th>\n      <td>12.886295</td>\n    </tr>\n    <tr>\n      <th>std</th>\n      <td>6.734256</td>\n    </tr>\n    <tr>\n      <th>min</th>\n      <td>1.000000</td>\n    </tr>\n    <tr>\n      <th>25%</th>\n      <td>7.000000</td>\n    </tr>\n    <tr>\n      <th>50%</th>\n      <td>12.000000</td>\n    </tr>\n    <tr>\n      <th>75%</th>\n      <td>18.000000</td>\n    </tr>\n    <tr>\n      <th>max</th>\n      <td>33.000000</td>\n    </tr>\n  </tbody>\n</table>\n</div>"
     },
     "execution_count": 50,
     "metadata": {},
     "output_type": "execute_result"
    }
   ],
   "source": [
    "df_all.describe()"
   ],
   "metadata": {
    "collapsed": false,
    "pycharm": {
     "name": "#%%\n"
    }
   }
  },
  {
   "cell_type": "markdown",
   "source": [
    "### Tokenized texts len"
   ],
   "metadata": {
    "collapsed": false,
    "pycharm": {
     "name": "#%% md\n"
    }
   }
  },
  {
   "cell_type": "code",
   "execution_count": 51,
   "outputs": [
    {
     "data": {
      "text/plain": "                                                text labels comment_id  split  \\\n0  My favourite food is anything I didn't have to...     27    eebbqej  train   \n1  Now if he does off himself, everyone will thin...     27    ed00q6i  train   \n2                     WHY THE FUCK IS BAYLESS ISOING      2    eezlygj  train   \n3                        To make her feel threatened     14    ed7ypvh  train   \n4                             Dirty Southern Wankers      3    ed0bdzj  train   \n\n   text_len  tok_len  \n0        11       16  \n1        20       25  \n2         6       10  \n3         5        7  \n4         3        7  ",
      "text/html": "<div>\n<style scoped>\n    .dataframe tbody tr th:only-of-type {\n        vertical-align: middle;\n    }\n\n    .dataframe tbody tr th {\n        vertical-align: top;\n    }\n\n    .dataframe thead th {\n        text-align: right;\n    }\n</style>\n<table border=\"1\" class=\"dataframe\">\n  <thead>\n    <tr style=\"text-align: right;\">\n      <th></th>\n      <th>text</th>\n      <th>labels</th>\n      <th>comment_id</th>\n      <th>split</th>\n      <th>text_len</th>\n      <th>tok_len</th>\n    </tr>\n  </thead>\n  <tbody>\n    <tr>\n      <th>0</th>\n      <td>My favourite food is anything I didn't have to...</td>\n      <td>27</td>\n      <td>eebbqej</td>\n      <td>train</td>\n      <td>11</td>\n      <td>16</td>\n    </tr>\n    <tr>\n      <th>1</th>\n      <td>Now if he does off himself, everyone will thin...</td>\n      <td>27</td>\n      <td>ed00q6i</td>\n      <td>train</td>\n      <td>20</td>\n      <td>25</td>\n    </tr>\n    <tr>\n      <th>2</th>\n      <td>WHY THE FUCK IS BAYLESS ISOING</td>\n      <td>2</td>\n      <td>eezlygj</td>\n      <td>train</td>\n      <td>6</td>\n      <td>10</td>\n    </tr>\n    <tr>\n      <th>3</th>\n      <td>To make her feel threatened</td>\n      <td>14</td>\n      <td>ed7ypvh</td>\n      <td>train</td>\n      <td>5</td>\n      <td>7</td>\n    </tr>\n    <tr>\n      <th>4</th>\n      <td>Dirty Southern Wankers</td>\n      <td>3</td>\n      <td>ed0bdzj</td>\n      <td>train</td>\n      <td>3</td>\n      <td>7</td>\n    </tr>\n  </tbody>\n</table>\n</div>"
     },
     "execution_count": 51,
     "metadata": {},
     "output_type": "execute_result"
    }
   ],
   "source": [
    "from transformers import AutoTokenizer\n",
    "\n",
    "HUGGINGFACE_MODEL_NAME = 'bert-base-cased'\n",
    "tokenizer = AutoTokenizer.from_pretrained(HUGGINGFACE_MODEL_NAME, do_lower_case=True)\n",
    "\n",
    "texts = df_all['text'].values.tolist()\n",
    "\n",
    "text_tokenized = tokenizer(\n",
    "    texts,\n",
    "    add_special_tokens=True,\n",
    "    return_token_type_ids=False,\n",
    "    return_attention_mask=False,\n",
    "    truncation=False,\n",
    "    padding=False,\n",
    "    return_length=True\n",
    ")\n",
    "text_tokens = text_tokenized['input_ids']\n",
    "lengths = text_tokenized['length']\n",
    "\n",
    "df_all['tok_len'] = lengths\n",
    "df_all.head()"
   ],
   "metadata": {
    "collapsed": false,
    "pycharm": {
     "name": "#%%\n"
    }
   }
  },
  {
   "cell_type": "code",
   "execution_count": 53,
   "outputs": [
    {
     "data": {
      "text/plain": "           text_len       tok_len\ncount  54263.000000  54263.000000\nmean      12.886295     19.630724\nstd        6.734256      8.923450\nmin        1.000000      3.000000\n25%        7.000000     12.000000\n50%       12.000000     19.000000\n75%       18.000000     26.000000\nmax       33.000000    359.000000",
      "text/html": "<div>\n<style scoped>\n    .dataframe tbody tr th:only-of-type {\n        vertical-align: middle;\n    }\n\n    .dataframe tbody tr th {\n        vertical-align: top;\n    }\n\n    .dataframe thead th {\n        text-align: right;\n    }\n</style>\n<table border=\"1\" class=\"dataframe\">\n  <thead>\n    <tr style=\"text-align: right;\">\n      <th></th>\n      <th>text_len</th>\n      <th>tok_len</th>\n    </tr>\n  </thead>\n  <tbody>\n    <tr>\n      <th>count</th>\n      <td>54263.000000</td>\n      <td>54263.000000</td>\n    </tr>\n    <tr>\n      <th>mean</th>\n      <td>12.886295</td>\n      <td>19.630724</td>\n    </tr>\n    <tr>\n      <th>std</th>\n      <td>6.734256</td>\n      <td>8.923450</td>\n    </tr>\n    <tr>\n      <th>min</th>\n      <td>1.000000</td>\n      <td>3.000000</td>\n    </tr>\n    <tr>\n      <th>25%</th>\n      <td>7.000000</td>\n      <td>12.000000</td>\n    </tr>\n    <tr>\n      <th>50%</th>\n      <td>12.000000</td>\n      <td>19.000000</td>\n    </tr>\n    <tr>\n      <th>75%</th>\n      <td>18.000000</td>\n      <td>26.000000</td>\n    </tr>\n    <tr>\n      <th>max</th>\n      <td>33.000000</td>\n      <td>359.000000</td>\n    </tr>\n  </tbody>\n</table>\n</div>"
     },
     "execution_count": 53,
     "metadata": {},
     "output_type": "execute_result"
    }
   ],
   "source": [
    "df_all.describe()"
   ],
   "metadata": {
    "collapsed": false,
    "pycharm": {
     "name": "#%%\n"
    }
   }
  },
  {
   "cell_type": "code",
   "execution_count": 58,
   "outputs": [
    {
     "data": {
      "text/plain": "<Figure size 1152x432 with 1 Axes>",
      "image/png": "[encoded data removed]"
     },
     "metadata": {
      "needs_background": "light"
     },
     "output_type": "display_data"
    }
   ],
   "source": [
    "import matplotlib.pyplot as plt\n",
    "\n",
    "fig, ax = plt.subplots(figsize=(16, 6))\n",
    "\n",
    "sns.histplot(x='tok_len', data=df_all, ax=ax)\n",
    "max_val = max([p.get_height() for p in ax.patches])\n",
    "for q, ls in zip([0.75, 0.85, 0.95, 0.99], [(0, (5, 5)), (0, (5, 4)), (0, (5, 3)), (0, (5, 2))]):\n",
    "    qv = int(df_all['tok_len'].quantile(q))\n",
    "    ax.axvline(qv, color='red', ls=ls, lw=1.5, label=q)\n",
    "    ax.annotate(\n",
    "        qv,\n",
    "        xy=(qv, max_val * 0.8),\n",
    "        xytext=(qv + 9, max_val * 0.85),\n",
    "        arrowprops=dict(arrowstyle=\"->\", color='black'),\n",
    "    )\n",
    "\n",
    "ax.legend(title='Quantile')\n",
    "\n",
    "fig.tight_layout()"
   ],
   "metadata": {
    "collapsed": false,
    "pycharm": {
     "name": "#%%\n"
    }
   }
  },
  {
   "cell_type": "markdown",
   "source": [
    "### Label distribution"
   ],
   "metadata": {
    "collapsed": false
   }
  },
  {
   "cell_type": "code",
   "execution_count": 59,
   "outputs": [
    {
     "data": {
      "text/plain": "                                                text  labels comment_id  \\\n0  My favourite food is anything I didn't have to...      27    eebbqej   \n1  Now if he does off himself, everyone will thin...      27    ed00q6i   \n2                     WHY THE FUCK IS BAYLESS ISOING       2    eezlygj   \n3                        To make her feel threatened      14    ed7ypvh   \n4                             Dirty Southern Wankers       3    ed0bdzj   \n\n   split  text_len  tok_len  \n0  train        11       16  \n1  train        20       25  \n2  train         6       10  \n3  train         5        7  \n4  train         3        7  ",
      "text/html": "<div>\n<style scoped>\n    .dataframe tbody tr th:only-of-type {\n        vertical-align: middle;\n    }\n\n    .dataframe tbody tr th {\n        vertical-align: top;\n    }\n\n    .dataframe thead th {\n        text-align: right;\n    }\n</style>\n<table border=\"1\" class=\"dataframe\">\n  <thead>\n    <tr style=\"text-align: right;\">\n      <th></th>\n      <th>text</th>\n      <th>labels</th>\n      <th>comment_id</th>\n      <th>split</th>\n      <th>text_len</th>\n      <th>tok_len</th>\n    </tr>\n  </thead>\n  <tbody>\n    <tr>\n      <th>0</th>\n      <td>My favourite food is anything I didn't have to...</td>\n      <td>27</td>\n      <td>eebbqej</td>\n      <td>train</td>\n      <td>11</td>\n      <td>16</td>\n    </tr>\n    <tr>\n      <th>1</th>\n      <td>Now if he does off himself, everyone will thin...</td>\n      <td>27</td>\n      <td>ed00q6i</td>\n      <td>train</td>\n      <td>20</td>\n      <td>25</td>\n    </tr>\n    <tr>\n      <th>2</th>\n      <td>WHY THE FUCK IS BAYLESS ISOING</td>\n      <td>2</td>\n      <td>eezlygj</td>\n      <td>train</td>\n      <td>6</td>\n      <td>10</td>\n    </tr>\n    <tr>\n      <th>3</th>\n      <td>To make her feel threatened</td>\n      <td>14</td>\n      <td>ed7ypvh</td>\n      <td>train</td>\n      <td>5</td>\n      <td>7</td>\n    </tr>\n    <tr>\n      <th>4</th>\n      <td>Dirty Southern Wankers</td>\n      <td>3</td>\n      <td>ed0bdzj</td>\n      <td>train</td>\n      <td>3</td>\n      <td>7</td>\n    </tr>\n  </tbody>\n</table>\n</div>"
     },
     "execution_count": 59,
     "metadata": {},
     "output_type": "execute_result"
    }
   ],
   "source": [
    "import seaborn as sns\n",
    "\n",
    "df_all['labels'] = df_all['labels'].apply(lambda x: x.split(','))\n",
    "df_all = df_all.explode('labels')\n",
    "df_all = df_all.astype({'labels': 'int'})\n",
    "df_all.head()"
   ],
   "metadata": {
    "collapsed": false,
    "pycharm": {
     "name": "#%%\n"
    }
   }
  },
  {
   "cell_type": "code",
   "execution_count": 60,
   "outputs": [
    {
     "name": "stdout",
     "output_type": "stream",
     "text": [
      "<class 'pandas.core.frame.DataFrame'>\n",
      "Int64Index: 63812 entries, 0 to 54262\n",
      "Data columns (total 6 columns):\n",
      " #   Column      Non-Null Count  Dtype \n",
      "---  ------      --------------  ----- \n",
      " 0   text        63812 non-null  object\n",
      " 1   labels      63812 non-null  int64 \n",
      " 2   comment_id  63812 non-null  object\n",
      " 3   split       63812 non-null  object\n",
      " 4   text_len    63812 non-null  int64 \n",
      " 5   tok_len     63812 non-null  int64 \n",
      "dtypes: int64(3), object(3)\n",
      "memory usage: 3.4+ MB\n"
     ]
    }
   ],
   "source": [
    "df_all.info()"
   ],
   "metadata": {
    "collapsed": false,
    "pycharm": {
     "name": "#%%\n"
    }
   }
  },
  {
   "cell_type": "code",
   "execution_count": 61,
   "outputs": [
    {
     "name": "stdout",
     "output_type": "stream",
     "text": [
      "Unique labels: [27  2 14  3 26 15  8 20  0  6  1  4  5 12 22  9 16 25  7 17 18 13 10 24\n",
      " 11 23 21 19]\n"
     ]
    },
    {
     "data": {
      "text/plain": "<seaborn.axisgrid.FacetGrid at 0x7f911a54a9a0>"
     },
     "execution_count": 61,
     "metadata": {},
     "output_type": "execute_result"
    },
    {
     "data": {
      "text/plain": "<Figure size 1101.6x216 with 3 Axes>",
      "image/png": "[encoded data removed]"
     },
     "metadata": {
      "needs_background": "light"
     },
     "output_type": "display_data"
    }
   ],
   "source": [
    "print(f'Unique labels: {df_all.labels.unique()}')\n",
    "\n",
    "g = sns.FacetGrid(df_all, col=\"split\", aspect=1.7, sharey=False)\n",
    "g.map(sns.countplot, 'labels', order=range(0, 28))"
   ],
   "metadata": {
    "collapsed": false,
    "pycharm": {
     "name": "#%%\n"
    }
   }
  },
  {
   "cell_type": "markdown",
   "source": [
    "# GoEmotions - sentiment grouped"
   ],
   "metadata": {
    "collapsed": false,
    "pycharm": {
     "name": "#%% md\n"
    }
   }
  },
  {
   "cell_type": "code",
   "execution_count": 9,
   "outputs": [],
   "source": [
    "from src.settings import DATA_DIR\n",
    "\n",
    "DATA_DIR = DATA_DIR.joinpath('goemotions')\n",
    "\n",
    "df_train = pd.read_csv(DATA_DIR.joinpath('train.tsv'), sep='\\t')\n",
    "df_dev = pd.read_csv(DATA_DIR.joinpath('dev.tsv'), sep='\\t')\n",
    "df_test = pd.read_csv(DATA_DIR.joinpath('test.tsv'), sep='\\t')"
   ],
   "metadata": {
    "collapsed": false,
    "pycharm": {
     "name": "#%%\n"
    }
   }
  },
  {
   "cell_type": "code",
   "execution_count": 10,
   "outputs": [
    {
     "data": {
      "text/plain": "                                                text labels comment_id\n0  Is this in New Orleans?? I really feel like th...     27    edgurhb\n1  You know the answer man, you are programmed to...   4,27    ee84bjg\n2               I've never been this sad in my life!     25    edcu99z\n3  The economy is heavily controlled and subsidiz...   4,27    edc32e2\n4  He could have easily taken a real camera from ...     20    eepig6r",
      "text/html": "<div>\n<style scoped>\n    .dataframe tbody tr th:only-of-type {\n        vertical-align: middle;\n    }\n\n    .dataframe tbody tr th {\n        vertical-align: top;\n    }\n\n    .dataframe thead th {\n        text-align: right;\n    }\n</style>\n<table border=\"1\" class=\"dataframe\">\n  <thead>\n    <tr style=\"text-align: right;\">\n      <th></th>\n      <th>text</th>\n      <th>labels</th>\n      <th>comment_id</th>\n    </tr>\n  </thead>\n  <tbody>\n    <tr>\n      <th>0</th>\n      <td>Is this in New Orleans?? I really feel like th...</td>\n      <td>27</td>\n      <td>edgurhb</td>\n    </tr>\n    <tr>\n      <th>1</th>\n      <td>You know the answer man, you are programmed to...</td>\n      <td>4,27</td>\n      <td>ee84bjg</td>\n    </tr>\n    <tr>\n      <th>2</th>\n      <td>I've never been this sad in my life!</td>\n      <td>25</td>\n      <td>edcu99z</td>\n    </tr>\n    <tr>\n      <th>3</th>\n      <td>The economy is heavily controlled and subsidiz...</td>\n      <td>4,27</td>\n      <td>edc32e2</td>\n    </tr>\n    <tr>\n      <th>4</th>\n      <td>He could have easily taken a real camera from ...</td>\n      <td>20</td>\n      <td>eepig6r</td>\n    </tr>\n  </tbody>\n</table>\n</div>"
     },
     "execution_count": 10,
     "metadata": {},
     "output_type": "execute_result"
    }
   ],
   "source": [
    "df_dev.head()"
   ],
   "metadata": {
    "collapsed": false,
    "pycharm": {
     "name": "#%%\n"
    }
   }
  },
  {
   "cell_type": "code",
   "execution_count": 7,
   "outputs": [
    {
     "data": {
      "text/plain": "['admiration',\n 'amusement',\n 'anger',\n 'annoyance',\n 'approval',\n 'caring',\n 'confusion',\n 'curiosity',\n 'desire',\n 'disappointment',\n 'disapproval',\n 'disgust',\n 'embarrassment',\n 'excitement',\n 'fear',\n 'gratitude',\n 'grief',\n 'joy',\n 'love',\n 'nervousness',\n 'optimism',\n 'pride',\n 'realization',\n 'relief',\n 'remorse',\n 'sadness',\n 'surprise',\n 'neutral']"
     },
     "execution_count": 7,
     "metadata": {},
     "output_type": "execute_result"
    }
   ],
   "source": [
    "emotions_path = DATA_DIR.joinpath('emotions.txt')\n",
    "\n",
    "with emotions_path.open(mode='r') as f:\n",
    "    emotions_list = [line.rstrip('\\n') for line in f.readlines()]\n",
    "\n",
    "emotions_list"
   ],
   "metadata": {
    "collapsed": false,
    "pycharm": {
     "name": "#%%\n"
    }
   }
  },
  {
   "cell_type": "code",
   "execution_count": 8,
   "outputs": [
    {
     "data": {
      "text/plain": "{'positive': ['amusement',\n  'excitement',\n  'joy',\n  'love',\n  'desire',\n  'optimism',\n  'caring',\n  'pride',\n  'admiration',\n  'gratitude',\n  'relief',\n  'approval'],\n 'negative': ['fear',\n  'nervousness',\n  'remorse',\n  'embarrassment',\n  'disappointment',\n  'sadness',\n  'grief',\n  'disgust',\n  'anger',\n  'annoyance',\n  'disapproval'],\n 'ambiguous': ['realization', 'surprise', 'curiosity', 'confusion'],\n 'neutral': ['neutral']}"
     },
     "execution_count": 8,
     "metadata": {},
     "output_type": "execute_result"
    }
   ],
   "source": [
    "import json\n",
    "\n",
    "sentiment_map_path = DATA_DIR.joinpath('sentiment_mapping.json')\n",
    "\n",
    "with sentiment_map_path.open(mode='r') as f:\n",
    "    sentiment_mapper = json.load(f)\n",
    "\n",
    "sentiment_mapper"
   ],
   "metadata": {
    "collapsed": false,
    "pycharm": {
     "name": "#%%\n"
    }
   }
  },
  {
   "cell_type": "code",
   "execution_count": 19,
   "outputs": [],
   "source": [
    "def map_emo_to_sentiment_label(labels: list[str]) -> list[str]:\n",
    "    sentiment_labels_ids = set()\n",
    "    for label_id in labels:\n",
    "        label_str = emotions_list[int(label_id)]\n",
    "        for idx, (sentiment, emotions) in enumerate(sentiment_mapper.items()):\n",
    "            if label_str in emotions:\n",
    "                sentiment_labels_ids.add(idx)   # add sentiment label id\n",
    "\n",
    "    return [str(label) for label in sentiment_labels_ids]"
   ],
   "metadata": {
    "collapsed": false,
    "pycharm": {
     "name": "#%%\n"
    }
   }
  },
  {
   "cell_type": "code",
   "execution_count": 22,
   "outputs": [],
   "source": [
    "df_dev['sent_labels'] = df_dev['labels'].apply(lambda x: ','.join(map_emo_to_sentiment_label(list(x.split(',')))))\n",
    "df_train['sent_labels'] = df_train['labels'].apply(lambda x: ','.join(map_emo_to_sentiment_label(list(x.split(',')))))\n",
    "df_test['sent_labels'] = df_test['labels'].apply(lambda x: ','.join(map_emo_to_sentiment_label(list(x.split(',')))))"
   ],
   "metadata": {
    "collapsed": false,
    "pycharm": {
     "name": "#%%\n"
    }
   }
  },
  {
   "cell_type": "code",
   "execution_count": 24,
   "outputs": [
    {
     "data": {
      "text/plain": "                                                   text labels comment_id  \\\n0     I’m really sorry about your situation :( Altho...     25    eecwqtt   \n1       It's wonderful because it's awful. At not with.      0    ed5f85d   \n2     Kings fan here, good luck to you guys! Will be...     13    een27c3   \n3     I didn't know that, thank you for teaching me ...     15    eelgwd1   \n4     They got bored from haunting earth for thousan...     27    eem5uti   \n...                                                 ...    ...        ...   \n5422  Thanks. I was diagnosed with BP 1 after the ho...     15    efeeasc   \n5423                             Well that makes sense.      4    ef9c7s3   \n5424                                Daddy issues [NAME]     27    efbiugo   \n5425  So glad I discovered that subreddit a couple m...      0    efbvgp9   \n5426  Had to watch \"Elmo in Grouchland\" one time too...     27    edtjpv6   \n\n     sent_labels  \n0              1  \n1              0  \n2              0  \n3              0  \n4              3  \n...          ...  \n5422           0  \n5423           0  \n5424           3  \n5425           0  \n5426           3  \n\n[5427 rows x 4 columns]",
      "text/html": "<div>\n<style scoped>\n    .dataframe tbody tr th:only-of-type {\n        vertical-align: middle;\n    }\n\n    .dataframe tbody tr th {\n        vertical-align: top;\n    }\n\n    .dataframe thead th {\n        text-align: right;\n    }\n</style>\n<table border=\"1\" class=\"dataframe\">\n  <thead>\n    <tr style=\"text-align: right;\">\n      <th></th>\n      <th>text</th>\n      <th>labels</th>\n      <th>comment_id</th>\n      <th>sent_labels</th>\n    </tr>\n  </thead>\n  <tbody>\n    <tr>\n      <th>0</th>\n      <td>I’m really sorry about your situation :( Altho...</td>\n      <td>25</td>\n      <td>eecwqtt</td>\n      <td>1</td>\n    </tr>\n    <tr>\n      <th>1</th>\n      <td>It's wonderful because it's awful. At not with.</td>\n      <td>0</td>\n      <td>ed5f85d</td>\n      <td>0</td>\n    </tr>\n    <tr>\n      <th>2</th>\n      <td>Kings fan here, good luck to you guys! Will be...</td>\n      <td>13</td>\n      <td>een27c3</td>\n      <td>0</td>\n    </tr>\n    <tr>\n      <th>3</th>\n      <td>I didn't know that, thank you for teaching me ...</td>\n      <td>15</td>\n      <td>eelgwd1</td>\n      <td>0</td>\n    </tr>\n    <tr>\n      <th>4</th>\n      <td>They got bored from haunting earth for thousan...</td>\n      <td>27</td>\n      <td>eem5uti</td>\n      <td>3</td>\n    </tr>\n    <tr>\n      <th>...</th>\n      <td>...</td>\n      <td>...</td>\n      <td>...</td>\n      <td>...</td>\n    </tr>\n    <tr>\n      <th>5422</th>\n      <td>Thanks. I was diagnosed with BP 1 after the ho...</td>\n      <td>15</td>\n      <td>efeeasc</td>\n      <td>0</td>\n    </tr>\n    <tr>\n      <th>5423</th>\n      <td>Well that makes sense.</td>\n      <td>4</td>\n      <td>ef9c7s3</td>\n      <td>0</td>\n    </tr>\n    <tr>\n      <th>5424</th>\n      <td>Daddy issues [NAME]</td>\n      <td>27</td>\n      <td>efbiugo</td>\n      <td>3</td>\n    </tr>\n    <tr>\n      <th>5425</th>\n      <td>So glad I discovered that subreddit a couple m...</td>\n      <td>0</td>\n      <td>efbvgp9</td>\n      <td>0</td>\n    </tr>\n    <tr>\n      <th>5426</th>\n      <td>Had to watch \"Elmo in Grouchland\" one time too...</td>\n      <td>27</td>\n      <td>edtjpv6</td>\n      <td>3</td>\n    </tr>\n  </tbody>\n</table>\n<p>5427 rows × 4 columns</p>\n</div>"
     },
     "execution_count": 24,
     "metadata": {},
     "output_type": "execute_result"
    }
   ],
   "source": [
    "df_test"
   ],
   "metadata": {
    "collapsed": false,
    "pycharm": {
     "name": "#%%\n"
    }
   }
  },
  {
   "cell_type": "code",
   "execution_count": 25,
   "outputs": [],
   "source": [
    "df_train.to_csv(DATA_DIR.joinpath('train.tsv'), sep='\\t', index=False)\n",
    "df_dev.to_csv(DATA_DIR.joinpath('dev.tsv'), sep='\\t', index=False)\n",
    "df_test.to_csv(DATA_DIR.joinpath('test.tsv'), sep='\\t', index=False)"
   ],
   "metadata": {
    "collapsed": false,
    "pycharm": {
     "name": "#%%\n"
    }
   }
  }
 ],
 "metadata": {
  "kernelspec": {
   "display_name": "Python 3",
   "language": "python",
   "name": "python3"
  },
  "language_info": {
   "codemirror_mode": {
    "name": "ipython",
    "version": 2
   },
   "file_extension": ".py",
   "mimetype": "text/x-python",
   "name": "python",
   "nbconvert_exporter": "python",
   "pygments_lexer": "ipython2",
   "version": "2.7.6"
  }
 },
 "nbformat": 4,
 "nbformat_minor": 0
}