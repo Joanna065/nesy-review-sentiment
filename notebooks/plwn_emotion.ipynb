{
 "cells": [
  {
   "cell_type": "markdown",
   "source": [
    "# Polish Wordnet - emotion annotated"
   ],
   "metadata": {
    "collapsed": false,
    "pycharm": {
     "name": "#%% md\n"
    }
   }
  },
  {
   "cell_type": "code",
   "execution_count": 2,
   "metadata": {
    "collapsed": true
   },
   "outputs": [],
   "source": [
    "import pandas as pd\n",
    "\n",
    "from src.settings import SENTIMENT_RES_DIR"
   ]
  },
  {
   "cell_type": "code",
   "execution_count": 3,
   "outputs": [
    {
     "data": {
      "text/plain": "            id  lexicalunit_id                                  emotions  \\\n0            7           22103                                       NaN   \n1         6362          378876                                       NaN   \n2         6363           28635                                       NaN   \n3            9           32394                       smutek,złość,strach   \n4           10           54232  radość,cieszenie się na coś oczekiwanego   \n...        ...             ...                                       ...   \n189853  190897           52911                                       NaN   \n189854  190898           52918                                       NaN   \n189855  190899           52921                                       NaN   \n189856  190900           52938                              smutek,złość   \n189857  190901           52952                                  zaufanie   \n\n                                 valuations markedness  unitStatus  \\\n0                                       NaN        NaN           0   \n1                                       NaN        NaN           0   \n2                                       NaN        NaN           0   \n3       nieużyteczność,krzywda,nieszczęście        - m           1   \n4               użyteczność,dobro,szczęście        + s           1   \n...                                     ...        ...         ...   \n189853                                  NaN        NaN           0   \n189854                                  NaN        NaN           0   \n189855                                  NaN        NaN           0   \n189856               nieużyteczność,krzywda        - s           1   \n189857                   użyteczność,wiedza        + s           1   \n\n                                                 example1 example2  \\\n0                                                     NaN      NaN   \n1                                                     NaN      NaN   \n2                                                     NaN      NaN   \n3       Za swoje winy został skazany przez sąd na doży...      NaN   \n4       W moim czasie wolnym lubię odpoczywać na dział...      NaN   \n...                                                   ...      ...   \n189853                                                NaN      NaN   \n189854                                                NaN      NaN   \n189855                                                NaN      NaN   \n189856  Sprawczyni tego ohydnego czynu pozostała bezka...      NaN   \n189857  Dzięki weryfikatorowi możemy mieć pewność, że ...      NaN   \n\n                   owner        creation_date  super_anotation  \n0         Jan.Brzeziński  2017-03-29 18:04:09                0  \n1         Jan.Brzeziński  2017-03-29 18:40:50                0  \n2         Jan.Brzeziński  2017-03-29 18:40:59                0  \n3       Ada.Zajączkowska  2017-03-08 13:51:28                0  \n4       Ada.Zajączkowska  2017-03-08 14:06:52                0  \n...                  ...                  ...              ...  \n189853  Ada.Zajączkowska  2020-05-27 12:03:28                0  \n189854  Ada.Zajączkowska  2020-05-27 12:03:43                0  \n189855  Ada.Zajączkowska  2020-05-27 12:03:59                0  \n189856  Ada.Zajączkowska  2020-05-27 12:04:30                0  \n189857  Ada.Zajączkowska  2020-05-27 12:05:33                0  \n\n[189858 rows x 11 columns]",
      "text/html": "<div>\n<style scoped>\n    .dataframe tbody tr th:only-of-type {\n        vertical-align: middle;\n    }\n\n    .dataframe tbody tr th {\n        vertical-align: top;\n    }\n\n    .dataframe thead th {\n        text-align: right;\n    }\n</style>\n<table border=\"1\" class=\"dataframe\">\n  <thead>\n    <tr style=\"text-align: right;\">\n      <th></th>\n      <th>id</th>\n      <th>lexicalunit_id</th>\n      <th>emotions</th>\n      <th>valuations</th>\n      <th>markedness</th>\n      <th>unitStatus</th>\n      <th>example1</th>\n      <th>example2</th>\n      <th>owner</th>\n      <th>creation_date</th>\n      <th>super_anotation</th>\n    </tr>\n  </thead>\n  <tbody>\n    <tr>\n      <th>0</th>\n      <td>7</td>\n      <td>22103</td>\n      <td>NaN</td>\n      <td>NaN</td>\n      <td>NaN</td>\n      <td>0</td>\n      <td>NaN</td>\n      <td>NaN</td>\n      <td>Jan.Brzeziński</td>\n      <td>2017-03-29 18:04:09</td>\n      <td>0</td>\n    </tr>\n    <tr>\n      <th>1</th>\n      <td>6362</td>\n      <td>378876</td>\n      <td>NaN</td>\n      <td>NaN</td>\n      <td>NaN</td>\n      <td>0</td>\n      <td>NaN</td>\n      <td>NaN</td>\n      <td>Jan.Brzeziński</td>\n      <td>2017-03-29 18:40:50</td>\n      <td>0</td>\n    </tr>\n    <tr>\n      <th>2</th>\n      <td>6363</td>\n      <td>28635</td>\n      <td>NaN</td>\n      <td>NaN</td>\n      <td>NaN</td>\n      <td>0</td>\n      <td>NaN</td>\n      <td>NaN</td>\n      <td>Jan.Brzeziński</td>\n      <td>2017-03-29 18:40:59</td>\n      <td>0</td>\n    </tr>\n    <tr>\n      <th>3</th>\n      <td>9</td>\n      <td>32394</td>\n      <td>smutek,złość,strach</td>\n      <td>nieużyteczność,krzywda,nieszczęście</td>\n      <td>- m</td>\n      <td>1</td>\n      <td>Za swoje winy został skazany przez sąd na doży...</td>\n      <td>NaN</td>\n      <td>Ada.Zajączkowska</td>\n      <td>2017-03-08 13:51:28</td>\n      <td>0</td>\n    </tr>\n    <tr>\n      <th>4</th>\n      <td>10</td>\n      <td>54232</td>\n      <td>radość,cieszenie się na coś oczekiwanego</td>\n      <td>użyteczność,dobro,szczęście</td>\n      <td>+ s</td>\n      <td>1</td>\n      <td>W moim czasie wolnym lubię odpoczywać na dział...</td>\n      <td>NaN</td>\n      <td>Ada.Zajączkowska</td>\n      <td>2017-03-08 14:06:52</td>\n      <td>0</td>\n    </tr>\n    <tr>\n      <th>...</th>\n      <td>...</td>\n      <td>...</td>\n      <td>...</td>\n      <td>...</td>\n      <td>...</td>\n      <td>...</td>\n      <td>...</td>\n      <td>...</td>\n      <td>...</td>\n      <td>...</td>\n      <td>...</td>\n    </tr>\n    <tr>\n      <th>189853</th>\n      <td>190897</td>\n      <td>52911</td>\n      <td>NaN</td>\n      <td>NaN</td>\n      <td>NaN</td>\n      <td>0</td>\n      <td>NaN</td>\n      <td>NaN</td>\n      <td>Ada.Zajączkowska</td>\n      <td>2020-05-27 12:03:28</td>\n      <td>0</td>\n    </tr>\n    <tr>\n      <th>189854</th>\n      <td>190898</td>\n      <td>52918</td>\n      <td>NaN</td>\n      <td>NaN</td>\n      <td>NaN</td>\n      <td>0</td>\n      <td>NaN</td>\n      <td>NaN</td>\n      <td>Ada.Zajączkowska</td>\n      <td>2020-05-27 12:03:43</td>\n      <td>0</td>\n    </tr>\n    <tr>\n      <th>189855</th>\n      <td>190899</td>\n      <td>52921</td>\n      <td>NaN</td>\n      <td>NaN</td>\n      <td>NaN</td>\n      <td>0</td>\n      <td>NaN</td>\n      <td>NaN</td>\n      <td>Ada.Zajączkowska</td>\n      <td>2020-05-27 12:03:59</td>\n      <td>0</td>\n    </tr>\n    <tr>\n      <th>189856</th>\n      <td>190900</td>\n      <td>52938</td>\n      <td>smutek,złość</td>\n      <td>nieużyteczność,krzywda</td>\n      <td>- s</td>\n      <td>1</td>\n      <td>Sprawczyni tego ohydnego czynu pozostała bezka...</td>\n      <td>NaN</td>\n      <td>Ada.Zajączkowska</td>\n      <td>2020-05-27 12:04:30</td>\n      <td>0</td>\n    </tr>\n    <tr>\n      <th>189857</th>\n      <td>190901</td>\n      <td>52952</td>\n      <td>zaufanie</td>\n      <td>użyteczność,wiedza</td>\n      <td>+ s</td>\n      <td>1</td>\n      <td>Dzięki weryfikatorowi możemy mieć pewność, że ...</td>\n      <td>NaN</td>\n      <td>Ada.Zajączkowska</td>\n      <td>2020-05-27 12:05:33</td>\n      <td>0</td>\n    </tr>\n  </tbody>\n</table>\n<p>189858 rows × 11 columns</p>\n</div>"
     },
     "execution_count": 3,
     "metadata": {},
     "output_type": "execute_result"
    }
   ],
   "source": [
    "PLWN_EMO_PATH = SENTIMENT_RES_DIR.joinpath('plwordnet', 'emotion.csv')\n",
    "PLWN_LU_SYN_MAP_PATH = SENTIMENT_RES_DIR.joinpath('plwordnet', 'lex_syn_id_mapper.csv')\n",
    "\n",
    "df_emotion = pd.read_csv(\n",
    "    PLWN_EMO_PATH,\n",
    "    sep='\\t',\n",
    "    dtype={\n",
    "        'id': int,\n",
    "        'lexicalunit_id': int,\n",
    "        'emotions': str,\n",
    "        'valuations': str,\n",
    "        'markedness': str,\n",
    "        'unitStatus': int,\n",
    "        'example1': str,\n",
    "        'example2': str,\n",
    "        'super_anotation': int,\n",
    "    }\n",
    ")\n",
    "df_emotion"
   ],
   "metadata": {
    "collapsed": false,
    "pycharm": {
     "name": "#%%\n"
    }
   }
  },
  {
   "cell_type": "code",
   "execution_count": 4,
   "outputs": [
    {
     "name": "stdout",
     "output_type": "stream",
     "text": [
      "<class 'pandas.core.frame.DataFrame'>\n",
      "RangeIndex: 189858 entries, 0 to 189857\n",
      "Data columns (total 11 columns):\n",
      " #   Column           Non-Null Count   Dtype \n",
      "---  ------           --------------   ----- \n",
      " 0   id               189858 non-null  int64 \n",
      " 1   lexicalunit_id   189858 non-null  int64 \n",
      " 2   emotions         59287 non-null   object\n",
      " 3   valuations       62867 non-null   object\n",
      " 4   markedness       63656 non-null   object\n",
      " 5   unitStatus       189858 non-null  int64 \n",
      " 6   example1         63599 non-null   object\n",
      " 7   example2         10536 non-null   object\n",
      " 8   owner            189858 non-null  object\n",
      " 9   creation_date    189858 non-null  object\n",
      " 10  super_anotation  189858 non-null  int64 \n",
      "dtypes: int64(4), object(7)\n",
      "memory usage: 15.9+ MB\n"
     ]
    }
   ],
   "source": [
    "df_emotion.info()"
   ],
   "metadata": {
    "collapsed": false,
    "pycharm": {
     "name": "#%%\n"
    }
   }
  },
  {
   "cell_type": "code",
   "execution_count": 5,
   "outputs": [
    {
     "data": {
      "text/plain": "Empty DataFrame\nColumns: [id, lexicalunit_id, emotions, valuations, markedness, unitStatus, example1, example2, owner, creation_date, super_anotation]\nIndex: []",
      "text/html": "<div>\n<style scoped>\n    .dataframe tbody tr th:only-of-type {\n        vertical-align: middle;\n    }\n\n    .dataframe tbody tr th {\n        vertical-align: top;\n    }\n\n    .dataframe thead th {\n        text-align: right;\n    }\n</style>\n<table border=\"1\" class=\"dataframe\">\n  <thead>\n    <tr style=\"text-align: right;\">\n      <th></th>\n      <th>id</th>\n      <th>lexicalunit_id</th>\n      <th>emotions</th>\n      <th>valuations</th>\n      <th>markedness</th>\n      <th>unitStatus</th>\n      <th>example1</th>\n      <th>example2</th>\n      <th>owner</th>\n      <th>creation_date</th>\n      <th>super_anotation</th>\n    </tr>\n  </thead>\n  <tbody>\n  </tbody>\n</table>\n</div>"
     },
     "execution_count": 5,
     "metadata": {},
     "output_type": "execute_result"
    }
   ],
   "source": [
    "df_emotion[df_emotion.duplicated()]"
   ],
   "metadata": {
    "collapsed": false,
    "pycharm": {
     "name": "#%%\n"
    }
   }
  },
  {
   "cell_type": "code",
   "execution_count": 6,
   "outputs": [
    {
     "data": {
      "text/plain": "93362"
     },
     "execution_count": 6,
     "metadata": {},
     "output_type": "execute_result"
    }
   ],
   "source": [
    "len(df_emotion.lexicalunit_id.unique())"
   ],
   "metadata": {
    "collapsed": false,
    "pycharm": {
     "name": "#%%\n"
    }
   }
  },
  {
   "cell_type": "code",
   "execution_count": 7,
   "outputs": [
    {
     "data": {
      "text/plain": "        id  lexicalunit_id emotions valuations markedness  unitStatus  \\\n7       13           73550      NaN        NaN        NaN           0   \n2065  2046           73550      NaN        NaN        NaN           0   \n\n     example1 example2           owner        creation_date  super_anotation  \n7         NaN      NaN  Jan.Brzeziński  2017-03-08 18:14:39                0  \n2065      NaN      NaN   Emilia.Matyka  2017-03-16 10:07:09                0  ",
      "text/html": "<div>\n<style scoped>\n    .dataframe tbody tr th:only-of-type {\n        vertical-align: middle;\n    }\n\n    .dataframe tbody tr th {\n        vertical-align: top;\n    }\n\n    .dataframe thead th {\n        text-align: right;\n    }\n</style>\n<table border=\"1\" class=\"dataframe\">\n  <thead>\n    <tr style=\"text-align: right;\">\n      <th></th>\n      <th>id</th>\n      <th>lexicalunit_id</th>\n      <th>emotions</th>\n      <th>valuations</th>\n      <th>markedness</th>\n      <th>unitStatus</th>\n      <th>example1</th>\n      <th>example2</th>\n      <th>owner</th>\n      <th>creation_date</th>\n      <th>super_anotation</th>\n    </tr>\n  </thead>\n  <tbody>\n    <tr>\n      <th>7</th>\n      <td>13</td>\n      <td>73550</td>\n      <td>NaN</td>\n      <td>NaN</td>\n      <td>NaN</td>\n      <td>0</td>\n      <td>NaN</td>\n      <td>NaN</td>\n      <td>Jan.Brzeziński</td>\n      <td>2017-03-08 18:14:39</td>\n      <td>0</td>\n    </tr>\n    <tr>\n      <th>2065</th>\n      <td>2046</td>\n      <td>73550</td>\n      <td>NaN</td>\n      <td>NaN</td>\n      <td>NaN</td>\n      <td>0</td>\n      <td>NaN</td>\n      <td>NaN</td>\n      <td>Emilia.Matyka</td>\n      <td>2017-03-16 10:07:09</td>\n      <td>0</td>\n    </tr>\n  </tbody>\n</table>\n</div>"
     },
     "execution_count": 7,
     "metadata": {},
     "output_type": "execute_result"
    }
   ],
   "source": [
    "df_emotion[df_emotion.lexicalunit_id == 73550]"
   ],
   "metadata": {
    "collapsed": false,
    "pycharm": {
     "name": "#%%\n"
    }
   }
  },
  {
   "cell_type": "code",
   "execution_count": 8,
   "outputs": [
    {
     "data": {
      "text/plain": "         lex_id   syn_id\n0           399     9107\n1          4339   442239\n2        659668   425000\n3         21195       10\n4        144142   103562\n...         ...      ...\n512566  7060980  7060838\n512567  7060981  7060839\n512568  7060982  7060840\n512569  7060983    76235\n512570  7060984  7060841\n\n[512571 rows x 2 columns]",
      "text/html": "<div>\n<style scoped>\n    .dataframe tbody tr th:only-of-type {\n        vertical-align: middle;\n    }\n\n    .dataframe tbody tr th {\n        vertical-align: top;\n    }\n\n    .dataframe thead th {\n        text-align: right;\n    }\n</style>\n<table border=\"1\" class=\"dataframe\">\n  <thead>\n    <tr style=\"text-align: right;\">\n      <th></th>\n      <th>lex_id</th>\n      <th>syn_id</th>\n    </tr>\n  </thead>\n  <tbody>\n    <tr>\n      <th>0</th>\n      <td>399</td>\n      <td>9107</td>\n    </tr>\n    <tr>\n      <th>1</th>\n      <td>4339</td>\n      <td>442239</td>\n    </tr>\n    <tr>\n      <th>2</th>\n      <td>659668</td>\n      <td>425000</td>\n    </tr>\n    <tr>\n      <th>3</th>\n      <td>21195</td>\n      <td>10</td>\n    </tr>\n    <tr>\n      <th>4</th>\n      <td>144142</td>\n      <td>103562</td>\n    </tr>\n    <tr>\n      <th>...</th>\n      <td>...</td>\n      <td>...</td>\n    </tr>\n    <tr>\n      <th>512566</th>\n      <td>7060980</td>\n      <td>7060838</td>\n    </tr>\n    <tr>\n      <th>512567</th>\n      <td>7060981</td>\n      <td>7060839</td>\n    </tr>\n    <tr>\n      <th>512568</th>\n      <td>7060982</td>\n      <td>7060840</td>\n    </tr>\n    <tr>\n      <th>512569</th>\n      <td>7060983</td>\n      <td>76235</td>\n    </tr>\n    <tr>\n      <th>512570</th>\n      <td>7060984</td>\n      <td>7060841</td>\n    </tr>\n  </tbody>\n</table>\n<p>512571 rows × 2 columns</p>\n</div>"
     },
     "execution_count": 8,
     "metadata": {},
     "output_type": "execute_result"
    }
   ],
   "source": [
    "df_lu_syn = pd.read_csv(PLWN_LU_SYN_MAP_PATH, sep='\\t')\n",
    "\n",
    "df_lu_syn"
   ],
   "metadata": {
    "collapsed": false,
    "pycharm": {
     "name": "#%%\n"
    }
   }
  },
  {
   "cell_type": "code",
   "execution_count": 9,
   "outputs": [
    {
     "name": "stdout",
     "output_type": "stream",
     "text": [
      "<class 'pandas.core.frame.DataFrame'>\n",
      "RangeIndex: 512571 entries, 0 to 512570\n",
      "Data columns (total 2 columns):\n",
      " #   Column  Non-Null Count   Dtype\n",
      "---  ------  --------------   -----\n",
      " 0   lex_id  512571 non-null  int64\n",
      " 1   syn_id  512571 non-null  int64\n",
      "dtypes: int64(2)\n",
      "memory usage: 7.8 MB\n"
     ]
    }
   ],
   "source": [
    "df_lu_syn.info()"
   ],
   "metadata": {
    "collapsed": false,
    "pycharm": {
     "name": "#%%\n"
    }
   }
  },
  {
   "cell_type": "code",
   "execution_count": 10,
   "outputs": [
    {
     "data": {
      "text/plain": "Empty DataFrame\nColumns: [lex_id, syn_id]\nIndex: []",
      "text/html": "<div>\n<style scoped>\n    .dataframe tbody tr th:only-of-type {\n        vertical-align: middle;\n    }\n\n    .dataframe tbody tr th {\n        vertical-align: top;\n    }\n\n    .dataframe thead th {\n        text-align: right;\n    }\n</style>\n<table border=\"1\" class=\"dataframe\">\n  <thead>\n    <tr style=\"text-align: right;\">\n      <th></th>\n      <th>lex_id</th>\n      <th>syn_id</th>\n    </tr>\n  </thead>\n  <tbody>\n  </tbody>\n</table>\n</div>"
     },
     "execution_count": 10,
     "metadata": {},
     "output_type": "execute_result"
    }
   ],
   "source": [
    "df_lu_syn[df_lu_syn.duplicated()]"
   ],
   "metadata": {
    "collapsed": false,
    "pycharm": {
     "name": "#%%\n"
    }
   }
  },
  {
   "cell_type": "code",
   "execution_count": 11,
   "outputs": [
    {
     "name": "stdout",
     "output_type": "stream",
     "text": [
      "Unique lu ids: 512571\n",
      "Unique synset ids: 352659\n"
     ]
    }
   ],
   "source": [
    "print(f'Unique lu ids: {len(df_lu_syn.lex_id.unique())}')\n",
    "print(f'Unique synset ids: {len(df_lu_syn.syn_id.unique())}')"
   ],
   "metadata": {
    "collapsed": false,
    "pycharm": {
     "name": "#%%\n"
    }
   }
  },
  {
   "cell_type": "markdown",
   "source": [
    "## merged dataframes"
   ],
   "metadata": {
    "collapsed": false,
    "pycharm": {
     "name": "#%% md\n"
    }
   }
  },
  {
   "cell_type": "code",
   "execution_count": 12,
   "outputs": [
    {
     "data": {
      "text/plain": "            id   lu_id  emotions                        valuations markedness  \\\n0            7   22103       NaN                               NaN        NaN   \n1          663   22103  zaufanie                               NaN        + s   \n2         6362  378876       NaN                               NaN        NaN   \n3         6425  378876       NaN                               NaN        NaN   \n4         6363   28635       NaN                               NaN        NaN   \n...        ...     ...       ...                               ...        ...   \n189681  190886  127278       NaN               nieużyteczność,błąd        - s   \n189682  190887  127641    smutek                    nieużyteczność        - s   \n189683  190888  127846       NaN  użyteczność,krzywda,nieszczęście        amb   \n189684  190890  127855       NaN                               NaN        NaN   \n189685  190891  127891       NaN                               NaN        NaN   \n\n        unitStatus                                           example1  \\\n0                0                                                NaN   \n1                1  Najnowszych odkryć archeologicznych dokonał ze...   \n2                0                                                NaN   \n3                0                                                NaN   \n4                0                                                NaN   \n...            ...                                                ...   \n189681           1  Żeby renomowany poeta pozwalał sobie na zepsuc...   \n189682           1  Nie chciałem wracać do tej zapadłej dziury, w ...   \n189683           1  Doświadczenie śmierci w najbliższym otoczeniu ...   \n189684           0                                                NaN   \n189685           0                                                NaN   \n\n                                                 example2           owner  \\\n0                                                     NaN  Jan.Brzeziński   \n1                                                     NaN   Emilia.Matyka   \n2                                                     NaN  Jan.Brzeziński   \n3                                                     NaN   Emilia.Matyka   \n4                                                     NaN  Jan.Brzeziński   \n...                                                   ...             ...   \n189681                                                NaN    Ewa.Kaczmarz   \n189682                                                NaN    Ewa.Kaczmarz   \n189683  Takie doświadczenie przez los było dla wielu z...    Ewa.Kaczmarz   \n189684                                                NaN    Ewa.Kaczmarz   \n189685                                                NaN    Ewa.Kaczmarz   \n\n              creation_date  super_anotation  syn_id  \n0       2017-03-29 18:04:09                0    7653  \n1       2017-03-12 11:19:02                0    7653  \n2       2017-03-29 18:40:50                0  246307  \n3       2017-03-30 09:17:19                0  246307  \n4       2017-03-29 18:40:59                0   16086  \n...                     ...              ...     ...  \n189681  2020-05-27 11:49:17                0   91910  \n189682  2020-05-27 11:55:08                0   92184  \n189683  2020-05-27 12:00:20                0   92316  \n189684  2020-05-27 12:00:50                0   92323  \n189685  2020-05-27 12:01:12                0   92348  \n\n[189686 rows x 12 columns]",
      "text/html": "<div>\n<style scoped>\n    .dataframe tbody tr th:only-of-type {\n        vertical-align: middle;\n    }\n\n    .dataframe tbody tr th {\n        vertical-align: top;\n    }\n\n    .dataframe thead th {\n        text-align: right;\n    }\n</style>\n<table border=\"1\" class=\"dataframe\">\n  <thead>\n    <tr style=\"text-align: right;\">\n      <th></th>\n      <th>id</th>\n      <th>lu_id</th>\n      <th>emotions</th>\n      <th>valuations</th>\n      <th>markedness</th>\n      <th>unitStatus</th>\n      <th>example1</th>\n      <th>example2</th>\n      <th>owner</th>\n      <th>creation_date</th>\n      <th>super_anotation</th>\n      <th>syn_id</th>\n    </tr>\n  </thead>\n  <tbody>\n    <tr>\n      <th>0</th>\n      <td>7</td>\n      <td>22103</td>\n      <td>NaN</td>\n      <td>NaN</td>\n      <td>NaN</td>\n      <td>0</td>\n      <td>NaN</td>\n      <td>NaN</td>\n      <td>Jan.Brzeziński</td>\n      <td>2017-03-29 18:04:09</td>\n      <td>0</td>\n      <td>7653</td>\n    </tr>\n    <tr>\n      <th>1</th>\n      <td>663</td>\n      <td>22103</td>\n      <td>zaufanie</td>\n      <td>NaN</td>\n      <td>+ s</td>\n      <td>1</td>\n      <td>Najnowszych odkryć archeologicznych dokonał ze...</td>\n      <td>NaN</td>\n      <td>Emilia.Matyka</td>\n      <td>2017-03-12 11:19:02</td>\n      <td>0</td>\n      <td>7653</td>\n    </tr>\n    <tr>\n      <th>2</th>\n      <td>6362</td>\n      <td>378876</td>\n      <td>NaN</td>\n      <td>NaN</td>\n      <td>NaN</td>\n      <td>0</td>\n      <td>NaN</td>\n      <td>NaN</td>\n      <td>Jan.Brzeziński</td>\n      <td>2017-03-29 18:40:50</td>\n      <td>0</td>\n      <td>246307</td>\n    </tr>\n    <tr>\n      <th>3</th>\n      <td>6425</td>\n      <td>378876</td>\n      <td>NaN</td>\n      <td>NaN</td>\n      <td>NaN</td>\n      <td>0</td>\n      <td>NaN</td>\n      <td>NaN</td>\n      <td>Emilia.Matyka</td>\n      <td>2017-03-30 09:17:19</td>\n      <td>0</td>\n      <td>246307</td>\n    </tr>\n    <tr>\n      <th>4</th>\n      <td>6363</td>\n      <td>28635</td>\n      <td>NaN</td>\n      <td>NaN</td>\n      <td>NaN</td>\n      <td>0</td>\n      <td>NaN</td>\n      <td>NaN</td>\n      <td>Jan.Brzeziński</td>\n      <td>2017-03-29 18:40:59</td>\n      <td>0</td>\n      <td>16086</td>\n    </tr>\n    <tr>\n      <th>...</th>\n      <td>...</td>\n      <td>...</td>\n      <td>...</td>\n      <td>...</td>\n      <td>...</td>\n      <td>...</td>\n      <td>...</td>\n      <td>...</td>\n      <td>...</td>\n      <td>...</td>\n      <td>...</td>\n      <td>...</td>\n    </tr>\n    <tr>\n      <th>189681</th>\n      <td>190886</td>\n      <td>127278</td>\n      <td>NaN</td>\n      <td>nieużyteczność,błąd</td>\n      <td>- s</td>\n      <td>1</td>\n      <td>Żeby renomowany poeta pozwalał sobie na zepsuc...</td>\n      <td>NaN</td>\n      <td>Ewa.Kaczmarz</td>\n      <td>2020-05-27 11:49:17</td>\n      <td>0</td>\n      <td>91910</td>\n    </tr>\n    <tr>\n      <th>189682</th>\n      <td>190887</td>\n      <td>127641</td>\n      <td>smutek</td>\n      <td>nieużyteczność</td>\n      <td>- s</td>\n      <td>1</td>\n      <td>Nie chciałem wracać do tej zapadłej dziury, w ...</td>\n      <td>NaN</td>\n      <td>Ewa.Kaczmarz</td>\n      <td>2020-05-27 11:55:08</td>\n      <td>0</td>\n      <td>92184</td>\n    </tr>\n    <tr>\n      <th>189683</th>\n      <td>190888</td>\n      <td>127846</td>\n      <td>NaN</td>\n      <td>użyteczność,krzywda,nieszczęście</td>\n      <td>amb</td>\n      <td>1</td>\n      <td>Doświadczenie śmierci w najbliższym otoczeniu ...</td>\n      <td>Takie doświadczenie przez los było dla wielu z...</td>\n      <td>Ewa.Kaczmarz</td>\n      <td>2020-05-27 12:00:20</td>\n      <td>0</td>\n      <td>92316</td>\n    </tr>\n    <tr>\n      <th>189684</th>\n      <td>190890</td>\n      <td>127855</td>\n      <td>NaN</td>\n      <td>NaN</td>\n      <td>NaN</td>\n      <td>0</td>\n      <td>NaN</td>\n      <td>NaN</td>\n      <td>Ewa.Kaczmarz</td>\n      <td>2020-05-27 12:00:50</td>\n      <td>0</td>\n      <td>92323</td>\n    </tr>\n    <tr>\n      <th>189685</th>\n      <td>190891</td>\n      <td>127891</td>\n      <td>NaN</td>\n      <td>NaN</td>\n      <td>NaN</td>\n      <td>0</td>\n      <td>NaN</td>\n      <td>NaN</td>\n      <td>Ewa.Kaczmarz</td>\n      <td>2020-05-27 12:01:12</td>\n      <td>0</td>\n      <td>92348</td>\n    </tr>\n  </tbody>\n</table>\n<p>189686 rows × 12 columns</p>\n</div>"
     },
     "execution_count": 12,
     "metadata": {},
     "output_type": "execute_result"
    }
   ],
   "source": [
    "df_emotion = df_emotion.rename(columns={'lexicalunit_id': 'lu_id'})\n",
    "df_lu_syn = df_lu_syn.rename(columns={'lex_id': 'lu_id'})\n",
    "\n",
    "df_merged = df_emotion.merge(df_lu_syn, on='lu_id')\n",
    "df_merged"
   ],
   "metadata": {
    "collapsed": false,
    "pycharm": {
     "name": "#%%\n"
    }
   }
  },
  {
   "cell_type": "code",
   "execution_count": 13,
   "outputs": [
    {
     "data": {
      "text/plain": "            id    lu_id                    emotions  \\\n12310     7031       11                         NaN   \n12311     7032       11                         NaN   \n148741  179528       12                         NaN   \n148742  179546       12                         NaN   \n12312     7033       14                wstręt,złość   \n...        ...      ...                         ...   \n171653  167346  7080904                         NaN   \n171654  167542  7080904                         NaN   \n171881  167548  7080942        radość,smutek,strach   \n171882  178447  7080942  radość,smutek,złość,strach   \n148290  179527  7085630                      radość   \n\n                                               valuations markedness  \\\n12310                                                 NaN        NaN   \n12311                                                 NaN        NaN   \n148741                                                NaN        NaN   \n148742                                                NaN        NaN   \n12312                                      niewiedza,błąd        - s   \n...                                                   ...        ...   \n171653                                                NaN        NaN   \n171654                                                NaN        NaN   \n171881               dobro,szczęście,krzywda,nieszczęście        amb   \n171882  użyteczność,szczęście,nieużyteczność,nieszczęście        amb   \n148290                                             piękno        + m   \n\n        unitStatus                                           example1  \\\n12310            0                                                NaN   \n12311            0                                                NaN   \n148741           0                                                NaN   \n148742           0                                                NaN   \n12312            1  Jej propozycje są zupełnie abstrakcyjne, nie d...   \n...            ...                                                ...   \n171653           0                                                NaN   \n171654           0                                                NaN   \n171881           1  Nie mam ochoty po raz kolejny obcierać się o ś...   \n171882           1  W tym roku obcieraliśmy się o złoto, więc w pr...   \n148290           1  Dzieci kochane, dlaczego macie takie umorusane...   \n\n                                                 example2             owner  \\\n12310                                                 NaN          SentiOne   \n12311                                                 NaN          SentiOne   \n148741                                                NaN      Kamil.Wabnic   \n148742                                                NaN  Ada.Zajączkowska   \n12312                                                 NaN          SentiOne   \n...                                                   ...               ...   \n171653                                                NaN  Ada.Zajączkowska   \n171654                                                NaN      Kamil.Wabnic   \n171881           Widziałem, że obcieram się o zwycięstwo.      Kamil.Wabnic   \n171882  To, co robisz, obciera się o oszustwo - nie ch...  Ada.Zajączkowska   \n148290                                                NaN      Ewa.Kaczmarz   \n\n              creation_date  super_anotation   syn_id  \n12310   2017-04-21 14:36:39                0   238698  \n12311   2017-04-21 14:36:39                0   238698  \n148741  2019-12-05 09:26:04                0       12  \n148742  2019-12-08 08:46:11                0       12  \n12312   2017-03-31 15:35:04                0   103631  \n...                     ...              ...      ...  \n171653  2018-05-23 16:07:01                0  7080579  \n171654  2018-05-26 12:21:52                0  7080579  \n171881  2018-05-26 12:32:28                0   225464  \n171882  2018-07-17 18:22:10                0   225464  \n148290  2019-12-04 20:51:02                0   249186  \n\n[189686 rows x 12 columns]",
      "text/html": "<div>\n<style scoped>\n    .dataframe tbody tr th:only-of-type {\n        vertical-align: middle;\n    }\n\n    .dataframe tbody tr th {\n        vertical-align: top;\n    }\n\n    .dataframe thead th {\n        text-align: right;\n    }\n</style>\n<table border=\"1\" class=\"dataframe\">\n  <thead>\n    <tr style=\"text-align: right;\">\n      <th></th>\n      <th>id</th>\n      <th>lu_id</th>\n      <th>emotions</th>\n      <th>valuations</th>\n      <th>markedness</th>\n      <th>unitStatus</th>\n      <th>example1</th>\n      <th>example2</th>\n      <th>owner</th>\n      <th>creation_date</th>\n      <th>super_anotation</th>\n      <th>syn_id</th>\n    </tr>\n  </thead>\n  <tbody>\n    <tr>\n      <th>12310</th>\n      <td>7031</td>\n      <td>11</td>\n      <td>NaN</td>\n      <td>NaN</td>\n      <td>NaN</td>\n      <td>0</td>\n      <td>NaN</td>\n      <td>NaN</td>\n      <td>SentiOne</td>\n      <td>2017-04-21 14:36:39</td>\n      <td>0</td>\n      <td>238698</td>\n    </tr>\n    <tr>\n      <th>12311</th>\n      <td>7032</td>\n      <td>11</td>\n      <td>NaN</td>\n      <td>NaN</td>\n      <td>NaN</td>\n      <td>0</td>\n      <td>NaN</td>\n      <td>NaN</td>\n      <td>SentiOne</td>\n      <td>2017-04-21 14:36:39</td>\n      <td>0</td>\n      <td>238698</td>\n    </tr>\n    <tr>\n      <th>148741</th>\n      <td>179528</td>\n      <td>12</td>\n      <td>NaN</td>\n      <td>NaN</td>\n      <td>NaN</td>\n      <td>0</td>\n      <td>NaN</td>\n      <td>NaN</td>\n      <td>Kamil.Wabnic</td>\n      <td>2019-12-05 09:26:04</td>\n      <td>0</td>\n      <td>12</td>\n    </tr>\n    <tr>\n      <th>148742</th>\n      <td>179546</td>\n      <td>12</td>\n      <td>NaN</td>\n      <td>NaN</td>\n      <td>NaN</td>\n      <td>0</td>\n      <td>NaN</td>\n      <td>NaN</td>\n      <td>Ada.Zajączkowska</td>\n      <td>2019-12-08 08:46:11</td>\n      <td>0</td>\n      <td>12</td>\n    </tr>\n    <tr>\n      <th>12312</th>\n      <td>7033</td>\n      <td>14</td>\n      <td>wstręt,złość</td>\n      <td>niewiedza,błąd</td>\n      <td>- s</td>\n      <td>1</td>\n      <td>Jej propozycje są zupełnie abstrakcyjne, nie d...</td>\n      <td>NaN</td>\n      <td>SentiOne</td>\n      <td>2017-03-31 15:35:04</td>\n      <td>0</td>\n      <td>103631</td>\n    </tr>\n    <tr>\n      <th>...</th>\n      <td>...</td>\n      <td>...</td>\n      <td>...</td>\n      <td>...</td>\n      <td>...</td>\n      <td>...</td>\n      <td>...</td>\n      <td>...</td>\n      <td>...</td>\n      <td>...</td>\n      <td>...</td>\n      <td>...</td>\n    </tr>\n    <tr>\n      <th>171653</th>\n      <td>167346</td>\n      <td>7080904</td>\n      <td>NaN</td>\n      <td>NaN</td>\n      <td>NaN</td>\n      <td>0</td>\n      <td>NaN</td>\n      <td>NaN</td>\n      <td>Ada.Zajączkowska</td>\n      <td>2018-05-23 16:07:01</td>\n      <td>0</td>\n      <td>7080579</td>\n    </tr>\n    <tr>\n      <th>171654</th>\n      <td>167542</td>\n      <td>7080904</td>\n      <td>NaN</td>\n      <td>NaN</td>\n      <td>NaN</td>\n      <td>0</td>\n      <td>NaN</td>\n      <td>NaN</td>\n      <td>Kamil.Wabnic</td>\n      <td>2018-05-26 12:21:52</td>\n      <td>0</td>\n      <td>7080579</td>\n    </tr>\n    <tr>\n      <th>171881</th>\n      <td>167548</td>\n      <td>7080942</td>\n      <td>radość,smutek,strach</td>\n      <td>dobro,szczęście,krzywda,nieszczęście</td>\n      <td>amb</td>\n      <td>1</td>\n      <td>Nie mam ochoty po raz kolejny obcierać się o ś...</td>\n      <td>Widziałem, że obcieram się o zwycięstwo.</td>\n      <td>Kamil.Wabnic</td>\n      <td>2018-05-26 12:32:28</td>\n      <td>0</td>\n      <td>225464</td>\n    </tr>\n    <tr>\n      <th>171882</th>\n      <td>178447</td>\n      <td>7080942</td>\n      <td>radość,smutek,złość,strach</td>\n      <td>użyteczność,szczęście,nieużyteczność,nieszczęście</td>\n      <td>amb</td>\n      <td>1</td>\n      <td>W tym roku obcieraliśmy się o złoto, więc w pr...</td>\n      <td>To, co robisz, obciera się o oszustwo - nie ch...</td>\n      <td>Ada.Zajączkowska</td>\n      <td>2018-07-17 18:22:10</td>\n      <td>0</td>\n      <td>225464</td>\n    </tr>\n    <tr>\n      <th>148290</th>\n      <td>179527</td>\n      <td>7085630</td>\n      <td>radość</td>\n      <td>piękno</td>\n      <td>+ m</td>\n      <td>1</td>\n      <td>Dzieci kochane, dlaczego macie takie umorusane...</td>\n      <td>NaN</td>\n      <td>Ewa.Kaczmarz</td>\n      <td>2019-12-04 20:51:02</td>\n      <td>0</td>\n      <td>249186</td>\n    </tr>\n  </tbody>\n</table>\n<p>189686 rows × 12 columns</p>\n</div>"
     },
     "execution_count": 13,
     "metadata": {},
     "output_type": "execute_result"
    }
   ],
   "source": [
    "df_merged = df_merged.sort_values(by=['lu_id', 'id'])\n",
    "df_merged"
   ],
   "metadata": {
    "collapsed": false,
    "pycharm": {
     "name": "#%%\n"
    }
   }
  },
  {
   "cell_type": "code",
   "execution_count": 14,
   "outputs": [
    {
     "data": {
      "text/plain": "Empty DataFrame\nColumns: [id, lu_id, emotions, valuations, markedness, unitStatus, example1, example2, owner, creation_date, super_anotation, syn_id]\nIndex: []",
      "text/html": "<div>\n<style scoped>\n    .dataframe tbody tr th:only-of-type {\n        vertical-align: middle;\n    }\n\n    .dataframe tbody tr th {\n        vertical-align: top;\n    }\n\n    .dataframe thead th {\n        text-align: right;\n    }\n</style>\n<table border=\"1\" class=\"dataframe\">\n  <thead>\n    <tr style=\"text-align: right;\">\n      <th></th>\n      <th>id</th>\n      <th>lu_id</th>\n      <th>emotions</th>\n      <th>valuations</th>\n      <th>markedness</th>\n      <th>unitStatus</th>\n      <th>example1</th>\n      <th>example2</th>\n      <th>owner</th>\n      <th>creation_date</th>\n      <th>super_anotation</th>\n      <th>syn_id</th>\n    </tr>\n  </thead>\n  <tbody>\n  </tbody>\n</table>\n</div>"
     },
     "execution_count": 14,
     "metadata": {},
     "output_type": "execute_result"
    }
   ],
   "source": [
    "df_merged[df_merged.syn_id == 110]"
   ],
   "metadata": {
    "collapsed": false,
    "pycharm": {
     "name": "#%%\n"
    }
   }
  },
  {
   "cell_type": "code",
   "execution_count": 27,
   "outputs": [],
   "source": [
    "df_syn_id_group = df_merged.groupby('syn_id')\n",
    "\n",
    "emonames_map = dict()\n",
    "emovaluations_map = dict()\n",
    "for name, group in df_syn_id_group:\n",
    "    emonames_agg = set()\n",
    "    emovaluations_agg = set()\n",
    "\n",
    "    for emonames in group['emotions'].values:\n",
    "        if not pd.isna(emonames) and emonames not in [' ', '', '-']:\n",
    "            emonames_agg.update(emonames.split(','))\n",
    "\n",
    "    for emovaluations in group['valuations'].values:\n",
    "        if not pd.isna(emovaluations) and emovaluations not in [' ', '', '-']:\n",
    "            emovaluations_agg.update(emovaluations.split(','))\n",
    "\n",
    "    if emonames_agg:\n",
    "        emonames_map[str(name)] = list(emonames_agg)\n",
    "    if emovaluations_agg:\n",
    "        emovaluations_map[str(name)] = list(emovaluations_agg)"
   ],
   "metadata": {
    "collapsed": false,
    "pycharm": {
     "name": "#%%\n"
    }
   }
  },
  {
   "cell_type": "code",
   "execution_count": 28,
   "outputs": [
    {
     "data": {
      "text/plain": "{'18': ['złość', 'strach'],\n '23': ['złość', 'strach', 'smutek', 'wstręt'],\n '24': ['smutek', 'wstręt'],\n '28': ['smutek',\n  'radość',\n  'zaufanie',\n  'złość',\n  'cieszenie się na coś oczekiwanego'],\n '45': ['zaskoczenie czymś nieprzewidywanym', 'strach', 'smutek'],\n '51': ['cieszenie się na', 'radość'],\n '52': ['radość'],\n '57': ['złość', 'radość'],\n '59': ['cieszenie się na'],\n '64': ['radość', 'cieszenie się na coś oczekiwanego'],\n '66': ['radość'],\n '67': ['zaufanie'],\n '70': ['wstręt'],\n '79': ['zaufanie'],\n '80': ['złość', 'wstręt'],\n '101': ['zaufanie'],\n '102': ['zaufanie'],\n '105': ['strach',\n  'zaskoczenie czymś nieprzewidywanym',\n  'radość',\n  'smutek',\n  'zaufanie',\n  'złość',\n  'cieszenie się na coś oczekiwanego'],\n '107': ['cieszenie się na coś oczekiwanego', 'złość', 'radość', 'wstręt'],\n '108': ['radość'],\n '124': ['radość', 'cieszenie się na coś oczekiwanego'],\n '127': ['złość'],\n '129': ['smutek', 'złość', 'radość'],\n '132': ['złość', 'zaufanie'],\n '140': ['złość', 'wstręt'],\n '154': ['zaskoczenie czymś nieprzewidywanym',\n  'smutek',\n  'radość',\n  'wstręt',\n  'złość'],\n '155': ['radość'],\n '157': ['radość'],\n '170': ['złość', 'smutek'],\n '172': ['zaufanie', 'radość'],\n '174': ['zaufanie'],\n '176': ['złość'],\n '180': ['smutek'],\n '185': ['smutek', 'złość', 'wstręt'],\n '186': ['złość', 'wstręt'],\n '189': ['złość', 'strach', 'smutek', 'wstręt'],\n '193': ['złość', 'strach', 'smutek', 'wstręt'],\n '194': ['smutek',\n  'radość',\n  'zaufanie',\n  'złość',\n  'cieszenie się na coś oczekiwanego'],\n '196': ['złość', 'smutek', 'wstręt'],\n '199': ['smutek'],\n '202': ['złość'],\n '229': ['zaufanie', 'radość', 'cieszenie się na coś oczekiwanego'],\n '232': ['złość', 'zaufanie', 'radość'],\n '234': ['zaufanie'],\n '237': ['radość'],\n '240': ['smutek', 'nieszczęście'],\n '241': ['smutek'],\n '244': ['złość', 'strach', 'smutek'],\n '255': ['złość', 'smutek'],\n '256': ['złość', 'smutek'],\n '261': ['zaufanie'],\n '262': ['zaufanie'],\n '268': ['strach', 'zaufanie'],\n '269': ['zaufanie'],\n '271': ['smutek', 'złość', 'wstręt'],\n '275': ['smutek', 'wstręt'],\n '282': ['wstręt'],\n '301': ['radość', 'cieszenie się na coś oczekiwanego'],\n '302': ['zaufanie'],\n '307': ['smutek', 'radość'],\n '310': ['złość'],\n '321': ['radość'],\n '323': ['smutek', 'radość', 'zaufanie', 'wstręt', 'złość'],\n '325': ['strach', 'zaufanie', 'cieszenie się na', 'smutek'],\n '329': ['zaufanie', 'radość'],\n '333': ['zaufanie', 'radość', 'cieszenie się na coś oczekiwanego'],\n '343': ['zaskoczenie czymś nieprzewidywanym',\n  'smutek',\n  'radość',\n  'wstręt',\n  'złość'],\n '346': ['złość', 'radość', 'cieszenie się na coś oczekiwanego'],\n '347': ['cieszenie się na'],\n '358': ['smutek',\n  'zaufanie',\n  'wstręt',\n  'złość',\n  'cieszenie się na coś oczekiwanego'],\n '364': ['smutek',\n  'radość',\n  'zaufanie',\n  'złość',\n  'cieszenie się na coś oczekiwanego'],\n '365': ['zaufanie', 'radość'],\n '370': ['smutek', 'złość', 'cieszenie się na', 'radość'],\n '371': ['złość'],\n '373': ['smutek', 'złość', 'radość', 'wstręt'],\n '374': ['strach',\n  'krzywda',\n  'użyteczność',\n  'radość',\n  'smutek',\n  'dobro',\n  'zaufanie',\n  'zaskoczenie',\n  'wstręt',\n  'złość',\n  'nieużyteczność'],\n '375': ['wstręt'],\n '376': ['smutek', 'zaufanie', 'radość', 'wstręt'],\n '379': ['złość', 'smutek'],\n '380': ['złość'],\n '386': ['strach', 'smutek', 'wstręt'],\n '387': ['złość', 'wstręt'],\n '389': ['złość', 'radość'],\n '393': ['cieszenie się na', 'radość'],\n '394': ['radość'],\n '409': ['zaufanie', 'radość'],\n '414': ['złość', 'strach', 'smutek'],\n '415': ['smutek'],\n '417': ['zaufanie', 'radość'],\n '418': ['zaufanie', 'radość', 'cieszenie się na coś oczekiwanego'],\n '419': ['radość'],\n '424': ['smutek'],\n '429': ['strach', 'zaufanie', 'cieszenie się na coś oczekiwanego'],\n '439': ['smutek', 'złość', 'radość'],\n '441': ['radość'],\n '444': ['złość', 'smutek', 'wstręt'],\n '456': ['strach', 'złość', 'smutek'],\n '465': ['złość', 'strach', 'smutek'],\n '470': ['zaufanie', 'radość'],\n '472': ['smutek',\n  'radość',\n  'zaufanie',\n  'złość',\n  'cieszenie się na coś oczekiwanego'],\n '478': ['zaskoczenie czymś nieprzewidywanym',\n  'strach',\n  'smutek',\n  'radość',\n  'zaufanie',\n  'wstręt',\n  'złość',\n  'cieszenie się na coś oczekiwanego'],\n '480': ['zaufanie'],\n '481': ['zaufanie'],\n '482': ['zaufanie'],\n '485': ['radość'],\n '490': ['radość'],\n '492': ['zaufanie'],\n '494': ['zaufanie', 'radość'],\n '512': ['radość'],\n '513': ['złość', 'zaufanie', 'radość', 'wstręt'],\n '515': ['radość'],\n '516': ['radość'],\n '524': ['zaufanie'],\n '528': ['złość', 'smutek'],\n '532': ['złość', 'zaufanie', 'radość'],\n '537': ['złość', 'zaufanie', 'radość'],\n '542': ['złość', 'smutek'],\n '549': ['złość', 'radość', 'wstręt'],\n '551': ['zaufanie', 'radość'],\n '557': ['zaufanie', 'cieszenie się na', 'radość'],\n '558': ['smutek', 'złość', 'radość'],\n '559': ['smutek', 'wstręt', 'radość', 'cieszenie się na coś oczekiwanego'],\n '560': ['radość'],\n '561': ['radość'],\n '567': ['zaufanie'],\n '571': ['radość'],\n '574': ['radość'],\n '575': ['zaskoczenie czymś nieprzewidywanym',\n  'strach',\n  'radość',\n  'cieszenie się na coś oczekiwanego'],\n '578': ['złość', 'smutek'],\n '581': ['smutek', 'złość', 'radość'],\n '582': ['radość'],\n '584': ['radość'],\n '585': ['radość'],\n '589': ['zaufanie', 'radość'],\n '610': ['smutek', 'złość', 'zaufanie', 'radość'],\n '617': ['radość'],\n '622': ['złość', 'wstręt'],\n '623': ['radość'],\n '624': ['radość'],\n '627': ['zaufanie', 'radość'],\n '634': ['radość'],\n '638': ['zaufanie'],\n '652': ['radość'],\n '653': ['zaufanie', 'radość'],\n '658': ['zaufanie'],\n '659': ['złość'],\n '663': ['zaskoczenie czymś nieprzewidywanym',\n  'smutek',\n  'radość',\n  'złość',\n  'cieszenie się na coś oczekiwanego'],\n '667': ['złość'],\n '669': ['strach', 'złość', 'wstręt'],\n '673': ['złość', 'wstręt'],\n '682': ['smutek', 'wstręt', 'zaufanie', 'radość'],\n '688': ['smutek', 'złość', 'wstręt'],\n '689': ['zaskoczenie czymś nieprzewidywanym',\n  'strach',\n  'radość',\n  'złość',\n  'cieszenie się na coś oczekiwanego'],\n '690': ['złość', 'smutek'],\n '698': ['cieszenie się na'],\n '703': ['strach', 'zaufanie'],\n '709': ['zaufanie', 'radość'],\n '712': ['złość', 'zaufanie'],\n '713': ['zaufanie'],\n '715': ['strach', 'smutek'],\n '719': ['smutek', 'złość', 'zaufanie', 'wstręt'],\n '720': ['złość', 'wstręt'],\n '724': ['złość', 'radość', 'wstręt'],\n '727': ['złość', 'zaufanie', 'radość'],\n '732': ['radość'],\n '735': ['radość'],\n '739': ['radość'],\n '742': ['radość'],\n '743': ['zaufanie'],\n '746': ['zaufanie'],\n '752': ['smutek', 'złość', 'radość'],\n '756': ['zaskoczenie czymś nieprzewidywanym', 'radość'],\n '762': ['strach', 'złość', 'smutek'],\n '764': ['złość', 'radość'],\n '765': ['złość', 'smutek', 'wstręt'],\n '769': ['zaskoczenie czymś nieprzewidywanym', 'strach'],\n '771': ['złość', 'wstręt'],\n '793': ['strach', 'radość'],\n '801': ['złość', 'radość'],\n '803': ['smutek', 'strach', 'złość', 'radość'],\n '807': ['zaufanie'],\n '811': ['strach',\n  'smutek',\n  'radość',\n  'zaufanie',\n  'wstręt',\n  'złość',\n  'cieszenie się na coś oczekiwanego'],\n '817': ['radość'],\n '824': ['zaufanie', 'cieszenie się na coś oczekiwanego'],\n '830': ['złość', 'zaufanie'],\n '832': ['zaufanie'],\n '833': ['zaufanie', 'radość', 'cieszenie się na coś oczekiwanego'],\n '834': ['zaufanie', 'radość'],\n '838': ['radość'],\n '840': ['złość', 'smutek'],\n '842': ['zaufanie', 'cieszenie się na coś oczekiwanego'],\n '843': ['wstręt', 'radość'],\n '846': ['smutek', 'złość', 'wstręt'],\n '859': ['smutek', 'radość', 'cieszenie się na coś oczekiwanego'],\n '867': ['radość'],\n '890': ['złość', 'radość'],\n '901': ['smutek',\n  'radość',\n  'wstręt',\n  'złość',\n  'cieszenie się na coś oczekiwanego'],\n '910': ['cieszenie się na', 'radość'],\n '916': ['złość', 'radość'],\n '920': ['strach', 'złość', 'smutek'],\n '926': ['wstręt'],\n '928': ['zaufanie'],\n '930': ['zaufanie', 'radość', 'cieszenie się na coś oczekiwanego'],\n '938': ['radość'],\n '947': ['zaufanie', 'radość'],\n '948': ['zaufanie', 'radość'],\n '957': ['zaufanie'],\n '962': ['smutek'],\n '979': ['smutek'],\n '994': ['zaufanie'],\n '1001': ['smutek',\n  'radość',\n  'zaufanie',\n  'wstręt',\n  'złość',\n  'cieszenie się na coś oczekiwanego'],\n '1002': ['zaufanie', 'radość', 'cieszenie się na coś oczekiwanego'],\n '1003': ['wstręt'],\n '1004': ['zaskoczenie czymś nieprzewidywanym', 'złość', 'smutek'],\n '1009': ['zaufanie'],\n '1010': ['zaufanie', 'radość'],\n '1011': ['smutek', 'złość', 'radość'],\n '1021': ['zaufanie', 'cieszenie się na coś oczekiwanego'],\n '1022': ['radość'],\n '1033': ['smutek', 'złość', 'radość', 'wstręt'],\n '1035': ['złość', 'wstręt'],\n '1039': ['zaufanie'],\n '1046': ['wstręt'],\n '1048': ['złość', 'smutek'],\n '1052': ['złość', 'zaufanie', 'smutek'],\n '1054': ['smutek', 'złość', 'strach', 'radość'],\n '1057': ['radość'],\n '1058': ['złość', 'cieszenie się na coś oczekiwanego'],\n '1065': ['zaufanie'],\n '1071': ['smutek', 'radość', 'cieszenie się na coś oczekiwanego'],\n '1076': ['radość'],\n '1082': ['złość', 'radość'],\n '1086': ['zaufanie'],\n '1090': ['zaufanie'],\n '1091': ['smutek', 'złość', 'zaufanie', 'radość'],\n '1097': ['złość', 'wstręt'],\n '1108': ['zaskoczenie czymś nieprzewidywanym',\n  'smutek',\n  'radość',\n  'zaufanie',\n  'wstręt',\n  'złość',\n  'cieszenie się na coś oczekiwanego'],\n '1109': ['radość',\n  'zaufanie',\n  'wstręt',\n  'złość',\n  'cieszenie się na coś oczekiwanego'],\n '1114': ['złość', 'zaufanie', 'radość'],\n '1119': ['złość', 'smutek', 'wstręt'],\n '1128': ['zaskoczenie czymś nieprzewidywanym',\n  'strach',\n  'radość',\n  'smutek',\n  'zaufanie',\n  'złość'],\n '1129': ['zaufanie'],\n '1131': ['zaufanie', 'smutek'],\n '1132': ['zaufanie'],\n '1133': ['złość', 'zaufanie', 'wstręt'],\n '1136': ['smutek', 'strach', 'wstręt'],\n '1137': ['wstręt'],\n '1142': ['złość', 'zaufanie', 'strach'],\n '1145': ['złość'],\n '1146': ['złość'],\n '1149': ['wstręt'],\n '1160': ['wstręt', 'smutek'],\n '1162': ['strach', 'smutek', 'radość', 'zaufanie', 'wstręt', 'złość'],\n '1163': ['zaufanie'],\n '1165': ['radość'],\n '1172': ['radość'],\n '1180': ['radość'],\n '1184': ['radość'],\n '1190': ['wstręt'],\n '1194': ['smutek', 'zaufanie', 'radość', 'cieszenie się na coś oczekiwanego'],\n '1206': ['złość', 'smutek'],\n '1209': ['smutek', 'złość', 'radość'],\n '1230': ['zaufanie'],\n '1235': ['smutek', 'złość', 'radość'],\n '1251': ['złość', 'strach', 'smutek'],\n '1252': ['złość', 'smutek'],\n '1254': ['smutek', 'cieszenie się na', 'radość'],\n '1261': ['zaufanie', 'radość', 'cieszenie się na coś oczekiwanego'],\n '1264': ['złość', 'radość', 'wstręt'],\n '1271': ['zaufanie'],\n '1273': ['zaufanie'],\n '1284': ['złość', 'smutek'],\n '1297': ['zaufanie'],\n '1312': ['zaufanie'],\n '1315': ['złość', 'zaufanie', 'radość', 'smutek'],\n '1319': ['wstręt'],\n '1320': ['strach', 'smutek'],\n '1323': ['zaufanie'],\n '1329': ['złość', 'smutek'],\n '1336': ['zaufanie'],\n '1341': ['smutek', 'złość', 'zaufanie', 'radość'],\n '1345': ['złość', 'radość'],\n '1346': ['zaufanie'],\n '1351': ['zaufanie'],\n '1352': ['zaufanie'],\n '1361': ['złość', 'smutek', 'wstręt'],\n '1365': ['złość', 'zaufanie', 'smutek', 'wstręt'],\n '1370': ['smutek', 'złość', 'radość', 'wstręt'],\n '1375': ['radość'],\n '1400': ['smutek', 'radość'],\n '1415': ['złość', 'smutek'],\n '1418': ['zaufanie'],\n '1426': ['złość', 'radość', 'smutek', 'wstręt'],\n '1430': ['złość', 'smutek', 'wstręt'],\n '1433': ['złość', 'strach', 'wstręt'],\n '1436': ['złość', 'strach', 'smutek'],\n '1439': ['złość'],\n '1456': ['zaufanie', 'radość'],\n '1477': ['strach', 'zaskoczenie czymś nieprzewidywanym'],\n '1485': ['złość', 'smutek'],\n '1494': ['radość', 'cieszenie się na coś oczekiwanego'],\n '1499': ['zaufanie'],\n '1501': ['strach'],\n '1508': ['smutek', 'radość', 'wstręt', 'złość', 'cieszenie się na'],\n '1512': ['smutek', 'radość', 'zaufanie', 'wstręt', 'złość'],\n '1516': ['radość'],\n '1519': ['wstręt'],\n '1521': ['wstręt'],\n '1529': ['smutek', 'złość', 'wstręt'],\n '1556': ['radość'],\n '1557': ['zaufanie', 'radość'],\n '1559': ['złość', 'wstręt'],\n '1563': ['smutek', 'złość', 'zaufanie', 'radość'],\n '1564': ['złość', 'smutek'],\n '1573': ['zaufanie', 'radość'],\n '1585': ['radość'],\n '1586': ['złość', 'wstręt', 'radość', 'cieszenie się na coś oczekiwanego'],\n '1587': ['złość', 'zaskoczenie czymś nieprzewidywanym', 'smutek', 'wstręt'],\n '1597': ['strach', 'smutek'],\n '1603': ['złość', 'radość', 'wstręt'],\n '1609': ['strach', 'zaskoczenie czymś nieprzewidywanym'],\n '1619': ['zaufanie'],\n '1621': ['złość', 'strach', 'smutek', 'wstręt'],\n '1629': ['złość', 'wstręt'],\n '1633': ['wstręt'],\n '1634': ['zaufanie'],\n '1644': ['radość',\n  'smutek',\n  'zaufanie',\n  'wstręt',\n  'złość',\n  'cieszenie się na coś oczekiwanego'],\n '1647': ['radość'],\n '1660': ['smutek', 'złość', 'radość'],\n '1666': ['zaufanie', 'radość', 'cieszenie się na coś oczekiwanego'],\n '1667': ['zaufanie', 'radość'],\n '1668': ['radość'],\n '1671': ['zaufanie', 'radość'],\n '1672': ['radość', 'wstręt'],\n '1673': ['dobro', 'zaufanie'],\n '1674': ['zaufanie', 'smutek'],\n '1676': ['zaufanie', 'radość', 'cieszenie się na coś oczekiwanego'],\n '1682': ['radość',\n  'smutek',\n  'wstręt',\n  'złość',\n  'cieszenie się na coś oczekiwanego'],\n '1686': ['smutek', 'strach', 'radość', 'wstręt'],\n '1687': ['radość'],\n '1689': ['zaufanie'],\n '1691': ['zaufanie', 'radość'],\n '1696': ['zaufanie', 'radość'],\n '1706': ['zaufanie'],\n '1718': ['zaufanie'],\n '1721': ['złość', 'smutek'],\n '1723': ['wstręt', 'radość', 'cieszenie się na coś oczekiwanego'],\n '1733': ['radość', 'cieszenie się na coś oczekiwanego'],\n '1735': ['złość', 'zaskoczenie czymś nieprzewidywanym', 'smutek', 'wstręt'],\n '1736': ['radość',\n  'smutek',\n  'zaufanie',\n  'wstręt',\n  'złość',\n  'cieszenie się na coś oczekiwanego'],\n '1738': ['złość', 'smutek'],\n '1739': ['złość', 'smutek', 'wstręt'],\n '1744': ['zaufanie', 'radość'],\n '1747': ['złość', 'smutek', 'wstręt'],\n '1750': ['zaufanie'],\n '1752': ['strach', 'smutek', 'radość', 'zaufanie', 'złość'],\n '1757': ['radość'],\n '1758': ['złość'],\n '1759': ['zaufanie', 'radość'],\n '1760': ['złość', 'smutek'],\n '1761': ['złość', 'zaufanie', 'smutek'],\n '1771': ['radość'],\n '1772': ['radość'],\n '1775': ['wstręt', 'zaufanie', 'smutek'],\n '1779': ['smutek', 'złość', 'radość'],\n '1784': ['złość', 'smutek'],\n '1785': ['złość', 'smutek'],\n '1815': ['smutek'],\n '1816': ['złość', 'smutek', 'wstręt'],\n '1817': ['złość', 'smutek'],\n '1818': ['złość', 'smutek', 'wstręt'],\n '1824': ['złość', 'smutek'],\n '1825': ['złość', 'strach', 'smutek'],\n '1828': ['złość', 'radość'],\n '1830': ['złość', 'wstręt'],\n '1832': ['wstręt', 'smutek'],\n '1841': ['smutek', 'złość', 'wstręt'],\n '1850': ['złość', 'smutek'],\n '1855': ['złość', 'smutek'],\n '1857': ['smutek', 'radość'],\n '1860': ['złość'],\n '1861': ['złość'],\n '1862': ['złość', 'wstręt'],\n '1866': ['zaskoczenie czymś nieprzewidywanym',\n  'strach',\n  'smutek',\n  'radość',\n  'złość'],\n '1868': ['złość', 'wstręt'],\n '1870': ['smutek'],\n '1872': ['smutek', 'strach', 'radość'],\n '1876': ['złość', 'wstręt'],\n '1878': ['zaufanie', 'radość'],\n '1879': ['zaufanie'],\n '1883': ['zaskoczenie czymś nieprzewidywanym',\n  'strach',\n  'smutek',\n  'radość',\n  'wstręt',\n  'złość'],\n '1884': ['złość', 'smutek', 'wstręt'],\n '1892': ['strach', 'smutek'],\n '1895': ['smutek', 'złość', 'zaufanie', 'radość'],\n '1898': ['smutek', 'wstręt', 'radość'],\n '1902': ['smutek', 'złość', 'wstręt'],\n '1905': ['złość'],\n '1907': ['zaufanie'],\n '1908': ['złość', 'zaskoczenie czymś nieprzewidywanym', 'strach', 'wstręt'],\n '1909': ['strach', 'złość', 'smutek', 'wstręt'],\n '1910': ['złość', 'wstręt'],\n '1911': ['złość', 'smutek'],\n '1912': ['złość'],\n '1913': ['złość', 'wstręt'],\n '1914': ['złość'],\n '1923': ['smutek', 'złość', 'wstręt'],\n '1926': ['złość', 'smutek'],\n '1929': ['złość', 'strach', 'smutek'],\n '1932': ['złość', 'wstręt', 'smutek', 'smitek'],\n '1933': ['radość'],\n '1934': ['zaufanie'],\n '1936': ['smutek', 'złość', 'wstręt'],\n '1939': ['radość'],\n '1940': ['smutek', 'złość', 'wstręt'],\n '1941': ['złość', 'radość', 'smutek', 'wstręt'],\n '1942': ['zaskoczenie czymś nieprzewidywanym', 'strach'],\n '1943': ['radość'],\n '1944': ['zaufanie'],\n '1948': ['zaufanie'],\n '1953': ['smutek', 'wstręt', 'radość'],\n '1965': ['złość', 'zaufanie', 'smutek'],\n '1977': ['strach', 'zaufanie'],\n '1978': ['smutek', 'złość', 'wstręt'],\n '1983': ['radość', 'cieszenie się na coś oczekiwanego'],\n '1984': ['złość', 'smutek', 'wstręt'],\n '1985': ['złość', 'strach', 'smutek', 'wstręt'],\n '1990': ['zaufanie'],\n '1994': ['zaufanie', 'cieszenie się na coś oczekiwanego'],\n '2009': ['złość', 'smutek'],\n '2011': ['zaufanie', 'radość', 'cieszenie się na coś oczekiwanego'],\n '2014': ['złość'],\n '2015': ['strach', 'smutek'],\n '2017': ['zaufanie', 'radość'],\n '2022': ['radość'],\n '2028': ['złość', 'zaufanie', 'radość'],\n '2030': ['zaufanie'],\n '2032': ['smutek', 'złość', 'zaufanie', 'radość'],\n '2033': ['złość', 'zaufanie', 'smutek', 'wstręt'],\n '2037': ['zaufanie'],\n '2043': ['zaufanie', 'radość'],\n '2060': ['smutek',\n  'radość',\n  'zaufanie',\n  'złość',\n  'cieszenie się na coś oczekiwanego'],\n '2061': ['smutek',\n  'radość',\n  'wstręt',\n  'złość',\n  'cieszenie się na coś oczekiwanego'],\n '2067': ['strach', 'zaufanie', 'smutek'],\n '2068': ['zaufanie', 'radość', 'cieszenie się na coś oczekiwanego'],\n '2069': ['zaufanie', 'radość', 'cieszenie się na coś oczekiwanego'],\n '2070': ['radość', 'cieszenie się na coś oczekiwanego'],\n '2082': ['cieszenie się na coś oczekiwanego'],\n '2107': ['smutek', 'złość', 'radość'],\n '2112': ['radość'],\n '2115': ['zaufanie'],\n '2118': ['złość', 'zaufanie', 'smutek'],\n '2120': ['smutek', 'strach', 'radość'],\n '2121': ['złość', 'smutek', 'nieszczęście'],\n '2157': ['zaufanie'],\n '2158': ['radość'],\n '2162': ['zaufanie', 'radość'],\n '2163': ['zaufanie'],\n '2164': ['smutek',\n  'radość',\n  'zaufanie',\n  'złość',\n  'cieszenie się na coś oczekiwanego'],\n '2172': ['złość', 'smutek'],\n '2175': ['zaufanie'],\n '2176': ['radość',\n  'smutek',\n  'zaufanie',\n  'złość',\n  'cieszenie się na coś oczekiwanego'],\n '2178': ['zaufanie', 'radość'],\n '2182': ['smutek',\n  'radość',\n  'zaufanie',\n  'wstręt',\n  'złość',\n  'cieszenie się na coś oczekiwanego'],\n '2187': ['zaufanie'],\n '2188': ['złość', 'radość'],\n '2196': ['radość', 'cieszenie się na coś oczekiwanego'],\n '2200': ['smutek', 'strach', 'wstręt'],\n '2208': ['smutek', 'radość', 'cieszenie się na coś oczekiwanego'],\n '2210': ['zaufanie', 'smutek'],\n '2222': ['zaskoczenie czymś nieprzewidywanym', 'zaufanie', 'strach'],\n '2223': ['złość', 'zaufanie', 'strach', 'smutek'],\n '2225': ['zaufanie'],\n '2230': ['smutek',\n  'radość',\n  'zaufanie',\n  'wstręt',\n  'złość',\n  'cieszenie się na coś oczekiwanego'],\n '2231': ['zaufanie', 'radość'],\n '2235': ['strach', 'złość'],\n '2236': ['złość', 'zaufanie', 'strach', 'smutek'],\n '2242': ['radość'],\n '2256': ['zaufanie'],\n '2257': ['złość', 'zaufanie', 'smutek', 'cieszenie się na coś oczekiwanego'],\n '2258': ['złość', 'wstręt'],\n '2267': ['złość', 'radość'],\n '2277': ['strach', 'zaufanie'],\n '2286': ['radość'],\n '2297': ['zaufanie'],\n '2310': ['zaufanie', 'radość'],\n '2314': ['wstręt'],\n '2317': ['zaufanie', 'radość'],\n '2320': ['złość', 'zaufanie', 'strach', 'radość'],\n '2321': ['zaufanie'],\n '2326': ['zaufanie'],\n '2328': ['złość', 'zaufanie', 'strach'],\n '2333': ['smutek', 'złość', 'radość', 'cieszenie się na coś oczekiwanego'],\n '2339': ['złość', 'radość', 'smutek'],\n '2342': ['złość', 'strach', 'smutek'],\n '2350': ['radość'],\n '2355': ['zaufanie', 'radość'],\n '2357': ['zaufanie'],\n '2358': ['smutek',\n  'radość',\n  'zaufanie',\n  'złość',\n  'cieszenie się na coś oczekiwanego'],\n '2370': ['strach', 'smutek'],\n '2381': ['zaufanie', 'cieszenie się na coś oczekiwanego'],\n '2386': ['złość', 'zaufanie', 'smutek'],\n '2387': ['zaufanie'],\n '2388': ['radość', 'cieszenie się na coś oczekiwanego'],\n '2392': ['radość'],\n '2393': ['smutek', 'złość', 'radość'],\n '2394': ['smutek', 'złość', 'radość'],\n '2398': ['zaufanie', 'radość'],\n '2399': ['radość'],\n '2403': ['zaufanie', 'radość'],\n '2407': ['zaufanie'],\n '2408': ['smutek', 'radość'],\n '2416': ['zaufanie', 'radość', 'cieszenie się na coś oczekiwanego'],\n '2420': ['zaufanie', 'radość', 'cieszenie się na coś oczekiwanego'],\n '2424': ['zaufanie'],\n '2432': ['zaufanie', 'radość'],\n '2433': ['złość', 'smutek'],\n '2436': ['radość'],\n '2438': ['zaufanie'],\n '2441': ['smutek', 'radość', 'cieszenie się na coś oczekiwanego'],\n '2444': ['zaufanie', 'smutek'],\n '2446': ['smutek'],\n '2447': ['smutek', 'złość', 'radość', 'cieszenie się na coś oczekiwanego'],\n '2450': ['zaufanie'],\n '2451': ['zaufanie', 'smutek', 'cieszenie się na coś oczekiwanego'],\n '2453': ['smutek', 'radość', 'zaufanie', 'wstręt', 'złość'],\n '2454': ['zaufanie'],\n '2463': ['zaufanie'],\n '2474': ['radość'],\n '2481': ['smutek', 'złość', 'radość'],\n '2498': ['smutek', 'złość', 'zaufanie', 'radość'],\n '2507': ['strach', 'smutek', 'radość', 'zaufanie', 'złość'],\n '2509': ['strach', 'radość'],\n '2511': ['zaufanie', 'radość'],\n '2514': ['smutek', 'złość', 'radość'],\n '2517': ['cieszenie się na'],\n '2524': ['zaufanie'],\n '2526': ['zaufanie'],\n '2529': ['złość', 'wstręt'],\n '2550': ['radość'],\n '2553': ['smutek', 'złość', 'zaufanie', 'radość'],\n '2560': ['zaskoczenie czymś nieprzewidywanym', 'złość', 'smutek'],\n '2564': ['złość', 'smutek'],\n '2569': ['smutek', 'złość', 'radość', 'cieszenie się na coś oczekiwanego'],\n '2571': ['zaufanie', 'radość'],\n '2577': ['smutek', 'złość', 'zaufanie', 'radość'],\n '2583': ['zaufanie'],\n '2595': ['złość', 'strach', 'smutek'],\n '2596': ['złość', 'smutek'],\n '2610': ['cieszenie się na'],\n '2622': ['zaskoczenie czymś nieprzewidywanym',\n  'zaufanie',\n  'cieszenie się na coś oczekiwanego'],\n '2623': ['zaskoczenie czymś nieprzewidywanym',\n  'cieszenie się na coś oczekiwanego'],\n '2627': ['smutek', 'złość', 'radość'],\n '2628': ['złość', 'smutek', 'wstręt'],\n '2629': ['zaufanie'],\n '2632': ['zaufanie', 'radość'],\n '2634': ['radość', 'smutek'],\n '2635': ['złość', 'wstręt'],\n '2641': ['smutek'],\n '2643': ['złość', 'strach', 'smutek'],\n '2651': ['cieszenie się na coś oczekiwanego'],\n '2657': ['strach',\n  'smutek',\n  'radość',\n  'zaufanie',\n  'cieszenie się na coś oczekiwanego'],\n '2670': ['radość'],\n '2674': ['złość', 'zaufanie', 'smutek', 'cieszenie się na coś oczekiwanego'],\n '2694': ['smutek', 'złość', 'zaufanie', 'radość'],\n '2704': ['smutek', 'złość', 'zaufanie', 'radość'],\n '2707': ['złość', 'strach', 'smutek'],\n '2714': ['złość', 'smutek'],\n '2724': ['smutek', 'złość', 'zaufanie', 'radość'],\n '2725': ['smutek', 'złość', 'radość'],\n '2731': ['zaufanie'],\n '2735': ['radość', 'smutek', 'zaufanie', 'wstręt', 'złość'],\n '2739': ['zaskoczenie czymś nieprzewidywanym', 'złość', 'strach', 'smutek'],\n '2740': ['zaskoczenie czymś nieprzewidywanym',\n  'strach',\n  'smutek',\n  'radość',\n  'zaufanie',\n  'złość',\n  'cieszenie się na coś oczekiwanego'],\n '2742': ['zaufanie', 'radość'],\n '2750': ['strach', 'radość'],\n '2753': ['zaufanie'],\n '2754': ['zaufanie', 'radość'],\n '2758': ['radość'],\n '2771': ['smutek', 'złość', 'zaufanie', 'radość'],\n '2779': ['zaufanie'],\n '2788': ['smutek',\n  'radość',\n  'zaufanie',\n  'złość',\n  'cieszenie się na coś oczekiwanego'],\n '2789': ['zaufanie'],\n '2790': ['zaufanie', 'radość'],\n '2791': ['zaufanie', 'radość', 'cieszenie się na coś oczekiwanego'],\n '2801': ['złość', 'zaufanie', 'smutek'],\n '2805': ['radość'],\n '2809': ['strach', 'złość', 'smutek', 'wstręt'],\n '2811': ['strach', 'radość', 'smutek', 'cieszenie się na coś oczekiwanego'],\n '2821': ['smutek', 'złość', 'radość'],\n '2822': ['wstręt'],\n '2837': ['złość', 'smutek', 'wstręt'],\n '2842': ['zaufanie', 'radość'],\n '2844': ['zaufanie'],\n '2845': ['zaufanie'],\n '2847': ['wstręt', 'złość', 'radość'],\n '2848': ['złość', 'zaufanie', 'radość'],\n '2849': ['smutek', 'radość'],\n '2860': ['zaufanie', 'cieszenie się na coś oczekiwanego'],\n '2862': ['zaufanie', 'radość', 'cieszenie się na coś oczekiwanego'],\n '2873': ['radość'],\n '2886': ['smutek', 'złość', 'radość'],\n '2889': ['strach', 'zaufanie'],\n '2893': ['radość', 'wstręt'],\n '2899': ['złość', 'radość'],\n '2900': ['smutek', 'zaufanie', 'radość'],\n '2906': ['radość', 'cieszenie się na coś oczekiwanego'],\n '2917': ['złość', 'zaufanie', 'smutek'],\n '2920': ['zaufanie', 'radość'],\n '2924': ['złość', 'smutek'],\n '2929': ['zaufanie'],\n '2931': ['zaufanie', 'radość'],\n '2932': ['smutek'],\n '2937': ['strach', 'zaufanie', 'złość', 'smutek'],\n '2944': ['strach', 'smutek', 'radość', 'wstręt', 'złość'],\n '2945': ['złość'],\n '2947': ['smutek'],\n '2956': ['zaufanie'],\n '2963': ['zaufanie'],\n '2964': ['zaufanie'],\n '2965': ['radość', 'cieszenie się na coś oczekiwanego'],\n '2967': ['zaufanie', 'cieszenie się na'],\n '2969': ['smutek', 'złość', 'radość', 'cieszenie się na coś oczekiwanego'],\n '2981': ['smutek', 'złość', 'wstręt'],\n '2982': ['radość'],\n '2983': ['radość'],\n '2999': ['złość', 'smutek'],\n '3000': ['zaufanie'],\n '3001': ['wstręt', 'złość', 'smutek'],\n '3012': ['smutek'],\n '3013': ['zaufanie', 'radość'],\n '3022': ['zaufanie', 'szczęście', 'radość'],\n '3037': ['zaufanie'],\n '3040': ['smutek', 'radość', 'cieszenie się na coś oczekiwanego'],\n '3043': ['radość'],\n '3044': ['złość', 'smutek'],\n '3048': ['zaskoczenie czymś nieprzewidywanym',\n  'smutek',\n  'radość',\n  'zaskoczenie',\n  'wstręt',\n  'złość'],\n '3049': ['radość'],\n '3050': ['zaufanie'],\n '3052': ['wstręt'],\n '3095': ['złość', 'wstręt'],\n '3096': ['wstręt'],\n '3097': ['złość'],\n '3098': ['zaufanie', 'radość'],\n '3102': ['zaufanie'],\n '3110': ['złość', 'smutek'],\n '3120': ['zaufanie', 'smutek', 'cieszenie się na coś oczekiwanego'],\n '3128': ['strach',\n  'smutek',\n  'radość',\n  'wstręt',\n  'złość',\n  'cieszenie się na coś oczekiwanego'],\n '3129': ['smutek'],\n '3130': ['cieszenie się na'],\n '3131': ['smutek'],\n '3136': ['smutek', 'złość', 'radość'],\n '3140': ['zaufanie'],\n '3144': ['zaskoczenie czymś nieprzewidywanym',\n  'strach',\n  'smutek',\n  'radość',\n  'wstręt',\n  'złość',\n  'cieszenie się na coś oczekiwanego'],\n '3145': ['radość'],\n '3150': ['smutek'],\n '3151': ['smutek', 'złość', 'radość'],\n '3156': ['złość', 'zaufanie', 'smutek'],\n '3172': ['zaufanie'],\n '3180': ['zaufanie'],\n '3183': ['zaufanie', 'radość'],\n '3184': ['złość'],\n '3186': ['smutek', 'wstręt', 'radość'],\n '3188': ['złość', 'cieszenie się na', 'radość'],\n '3201': ['smutek', 'złość', 'zaufanie', 'radość'],\n '3202': ['zaufanie'],\n '3203': ['zaufanie'],\n '3204': ['zaufanie'],\n '3205': ['zaufanie'],\n '3207': ['radość'],\n '3209': ['zaufanie'],\n '3218': ['złość', 'radość', 'wstręt'],\n '3219': ['złość', 'smutek', 'wstręt'],\n '3222': ['zaufanie'],\n '3236': ['smutek',\n  'radość',\n  'zaufanie',\n  'wstręt',\n  'złość',\n  'cieszenie się na coś oczekiwanego'],\n '3247': ['zaufanie'],\n '3256': ['złość', 'zaufanie', 'wstręt'],\n '3280': ['złość', 'radość', 'strach', 'smutek'],\n '3283': ['złość', 'radość', 'smutek'],\n '3285': ['zaufanie'],\n '3288': ['złość', 'strach'],\n '3303': ['radość'],\n '3306': ['zaufanie', 'radość'],\n '3308': ['smutek'],\n '3310': ['smutek', 'złość', 'wstręt'],\n '3320': ['złość', 'zaufanie', 'smutek'],\n '3324': ['strach', 'złość', 'smutek'],\n '3327': ['zaufanie'],\n '3329': ['zaufanie'],\n '3330': ['zaufanie'],\n '3332': ['zaskoczenie czymś nieprzewidywanym',\n  'strach',\n  'smutek',\n  'radość',\n  'złość'],\n '3336': ['radość'],\n '3343': ['radość', 'cieszenie się na coś oczekiwanego'],\n '3345': ['zaufanie'],\n '3349': ['radość'],\n '3350': ['smutek', 'złość', 'zaufanie', 'radość'],\n '3354': ['radość'],\n '3355': ['radość', 'cieszenie się na coś oczekiwanego'],\n '3357': ['złość'],\n '3359': ['zaufanie', 'radość'],\n '3360': ['zaufanie', 'radość'],\n '3361': ['złość', 'wstręt'],\n '3367': ['zaufanie', 'cieszenie się na', 'radość'],\n '3371': ['zaufanie'],\n '3377': ['wstręt'],\n '3384': ['strach', 'zaufanie'],\n '3385': ['zaufanie'],\n '3387': ['zaufanie'],\n '3389': ['radość'],\n '3396': ['złość', 'wstręt'],\n '3398': ['radość'],\n '3417': ['zaufanie'],\n '3418': ['zaufanie'],\n '3419': ['radość'],\n '3423': ['smutek', 'złość', 'wstręt'],\n '3437': ['zaufanie', 'cieszenie się na'],\n '3439': ['złość', 'wstręt'],\n '3441': ['złość', 'wstręt'],\n '3443': ['wstręt'],\n '3453': ['zaufanie'],\n '3458': ['zaskoczenie czymś nieprzewidywanym', 'zaufanie', 'złość', 'smutek'],\n '3459': ['strach'],\n '3461': ['zaufanie', 'radość'],\n '3463': ['radość'],\n '3464': ['wstręt', 'złość', 'radość'],\n '3471': ['zaufanie'],\n '3482': ['smutek'],\n '3486': ['złość', 'wstręt'],\n '3488': ['smutek'],\n '3493': ['smutek', 'wstręt'],\n '3496': ['radość'],\n '3501': ['złość', 'strach', 'smutek'],\n '3514': ['smutek', 'radość'],\n '3516': ['smutek', 'złość', 'radość'],\n '3522': ['smutek'],\n '3524': ['radość'],\n '3525': ['zaufanie'],\n '3526': ['smutek', 'złość', 'radość'],\n '3527': ['złość', 'smutek'],\n '3528': ['złość', 'smutek', 'wstręt'],\n '3537': ['zaufanie'],\n '3538': ['zaufanie', 'radość'],\n '3547': ['zaufanie', 'radość', 'cieszenie się na coś oczekiwanego'],\n '3551': ['zaufanie', 'radość'],\n '3553': ['złość'],\n '3554': ['zaufanie'],\n '3555': ['wstręt'],\n '3557': ['złość', 'wstręt'],\n '3558': ['wstręt', 'radość'],\n '3562': ['zaufanie'],\n '3573': ['zaskoczenie czymś nieprzewidywanym',\n  'radość',\n  'zaufanie',\n  'wstręt',\n  'złość'],\n '3574': ['złość', 'strach', 'smutek'],\n '3575': ['złość'],\n '3584': ['smutek', 'złość', 'wstręt'],\n '3588': ['zaskoczenie czymś nieprzewidywanym',\n  'strach',\n  'smutek',\n  'radość',\n  'zaufanie',\n  'złość',\n  'cieszenie się na coś oczekiwanego'],\n '3589': ['smutek',\n  'radość',\n  'zaufanie',\n  'złość',\n  'cieszenie się na coś oczekiwanego'],\n '3591': ['zaufanie'],\n '3593': ['smutek', 'złość', 'zaufanie', 'radość'],\n '3596': ['zaufanie', 'radość'],\n '3598': ['zaufanie', 'radość'],\n '3610': ['radość'],\n '3611': ['zaufanie'],\n '3612': ['smutek', 'złość', 'zaufanie', 'radość'],\n '3613': ['złość', 'zaufanie', 'smutek'],\n '3615': ['smutek'],\n '3621': ['strach', 'smutek'],\n '3622': ['złość', 'radość'],\n '3624': ['smutek', 'złość', 'zaufanie', 'radość'],\n '3628': ['smutek', 'złość', 'radość'],\n '3629': ['radość'],\n '3631': ['zaufanie'],\n '3634': ['złość', 'strach', 'smutek', 'wstręt'],\n '3637': ['wstręt'],\n '3638': ['złość', 'smutek', 'wstręt'],\n '3645': ['smutek', 'radość'],\n '3647': ['zaufanie', 'radość'],\n '3649': ['radość'],\n '3659': ['zaufanie'],\n '3664': ['smutek', 'złość', 'zaufanie', 'radość'],\n '3671': ['zaufanie', 'radość', 'smutek'],\n '3675': ['złość'],\n '3682': ['złość', 'zaufanie', 'radość', 'smutek'],\n '3685': ['zaufanie'],\n '3686': ['zaufanie'],\n '3695': ['radość'],\n '3711': ['radość', 'cieszenie się na coś oczekiwanego'],\n '3724': ['zaufanie'],\n '3728': ['strach', 'zaufanie', 'smutek'],\n '3729': ['złość', 'zaskoczenie czymś nieprzewidywanym', 'smutek', 'wstręt'],\n '3730': ['wstręt'],\n '3732': ['smutek'],\n '3742': ['zaufanie', 'radość'],\n '3743': ['radość'],\n '3746': ['zaskoczenie czymś nieprzewidywanym',\n  'złość',\n  'radość',\n  'cieszenie się na coś oczekiwanego'],\n '3751': ['radość'],\n '3765': ['zaufanie'],\n '3766': ['zaufanie'],\n '3771': ['radość'],\n '3781': ['złość', 'wstręt'],\n '3782': ['smutek', 'złość', 'radość'],\n '3786': ['smutek', 'radość', 'zaufanie', 'wstręt', 'złość'],\n '3789': ['zaufanie'],\n '3790': ['zaufanie', 'cieszenie się na'],\n '3791': ['zaufanie'],\n '3792': ['zaufanie'],\n '3795': ['zaufanie'],\n '3800': ['złość', 'radość', 'wstręt'],\n '3802': ['radość'],\n '3813': ['smutek', 'złość', 'radość', 'cieszenie się na coś oczekiwanego'],\n '3818': ['złość', 'zaufanie'],\n '3819': ['zaufanie'],\n '3835': ['zaufanie'],\n '3841': ['złość', 'radość'],\n '3844': ['radość'],\n '3848': ['zaskoczenie czymś nieprzewidywanym',\n  'radość',\n  'smutek',\n  'wstręt',\n  'złość'],\n '3858': ['smutek', 'radość'],\n '3864': ['zaufanie', 'radość'],\n '3865': ['złość', 'smutek'],\n '3869': ['złość', 'smutek'],\n '3876': ['smutek', 'radość', 'zaufanie', 'wstręt', 'złość'],\n '3880': ['zaufanie'],\n '3886': ['smutek', 'radość'],\n '3893': ['złość', 'wstręt'],\n '3897': ['strach',\n  'zaskoczenie czymś nieprzewidywanym',\n  'smutek',\n  'zaskoczenie',\n  'wstręt'],\n '3907': ['zaskoczenie czymś nieprzewidywanym'],\n '3910': ['zaufanie', 'radość', 'cieszenie się na coś oczekiwanego'],\n '3918': ['zaufanie'],\n '3920': ['zaufanie'],\n '3924': ['złość', 'strach', 'smutek', 'wstręt'],\n '3939': ['radość', 'cieszenie się na coś oczekiwanego'],\n '3940': ['radość', 'cieszenie się na coś oczekiwanego'],\n '3941': ['zaufanie', 'radość', 'cieszenie się na coś oczekiwanego'],\n '3942': ['zaskoczenie czymś nieprzewidywanym',\n  'smutek',\n  'radość',\n  'wstręt',\n  'złość'],\n '3943': ['radość'],\n '3947': ['zaufanie'],\n '3953': ['zaskoczenie czymś nieprzewidywanym', 'zaufanie', 'złość', 'smutek'],\n '3955': ['radość'],\n '3957': ['smutek', 'złość', 'radość'],\n '3976': ['wstręt', 'złość', 'smutek'],\n '3978': ['smutek', 'zaskoczenie czymś nieprzewidywanym', 'złość', 'radość'],\n '3981': ['smutek'],\n '3982': ['złość'],\n '3986': ['smutek', 'strach', 'radość'],\n '3996': ['radość',\n  'smutek',\n  'zaufanie',\n  'złość',\n  'cieszenie się na coś oczekiwanego'],\n '4001': ['radość'],\n '4007': ['złość', 'radość'],\n '4008': ['radość'],\n '4011': ['radość'],\n '4012': ['złość'],\n '4014': ['radość'],\n '4019': ['złość', 'smutek'],\n '4020': ['smutek', 'złość', 'radość', 'wstręt'],\n '4021': ['radość',\n  'zaufanie',\n  'wstręt',\n  'złość',\n  'cieszenie się na coś oczekiwanego'],\n '4029': ['zaskoczenie czymś nieprzewidywanym', 'złość', 'strach'],\n '4032': ['zaufanie', 'radość'],\n '4053': ['smutek', 'złość', 'radość'],\n '4055': ['złość', 'wstręt'],\n '4057': ['zaufanie'],\n '4059': ['smutek', 'złość', 'zaufanie', 'radość'],\n '4075': ['złość', 'strach', 'smutek'],\n '4077': ['złość', 'zaufanie'],\n '4081': ['zaufanie', 'radość'],\n '4083': ['zaskoczenie czymś nieprzewidywanym',\n  'smutek',\n  'radość',\n  'wstręt',\n  'złość',\n  'cieszenie się na coś oczekiwanego'],\n '4085': ['zaufanie'],\n '4088': ['smutek', 'złość', 'radość', 'cieszenie się na coś oczekiwanego'],\n '4093': ['smutek', 'radość'],\n '4100': ['radość'],\n '4104': ['radość'],\n '4108': ['radość'],\n '4109': ['radość'],\n '4113': ['zaskoczenie czymś nieprzewidywanym', 'zaufanie', 'strach'],\n '4115': ['złość', 'strach', 'smutek'],\n '4118': ['złość', 'smutek'],\n '4127': ['zaskoczenie czymś nieprzewidywanym', 'strach', 'smutek'],\n '4128': ['radość'],\n '4131': ['zaskoczenie czymś nieprzewidywanym', 'strach'],\n '4139': ['radość', 'cieszenie się na coś oczekiwanego'],\n '4140': ['piękno', 'radość'],\n '4143': ['zaufanie'],\n '4149': ['złość', 'zaufanie', 'radość', 'cieszenie się na coś oczekiwanego'],\n '4150': ['radość'],\n '4156': ['strach', 'smutek'],\n '4164': ['smutek', 'strach', 'radość', 'cieszenie się na coś oczekiwanego'],\n '4177': ['smutek', 'złość', 'radość'],\n '4178': ['zaufanie', 'radość', 'cieszenie się na coś oczekiwanego'],\n '4182': ['strach', 'smutek'],\n '4183': ['złość', 'zaufanie', 'radość', 'cieszenie się na coś oczekiwanego'],\n '4185': ['zaufanie', 'radość', 'cieszenie się na coś oczekiwanego'],\n '4191': ['złość'],\n '4196': ['złość', 'strach', 'smutek'],\n '4200': ['złość', 'radość'],\n '4202': ['złość', 'smutek'],\n '4208': ['strach', 'smutek'],\n '4215': ['zaufanie', 'cieszenie się na coś oczekiwanego'],\n '4219': ['smutek',\n  'radość',\n  'zaufanie',\n  'złość',\n  'cieszenie się na coś oczekiwanego'],\n '4222': ['złość', 'smutek'],\n '4223': ['radość', 'smutek', 'cieszenie się na coś oczekiwanego'],\n '4224': ['zaufanie', 'radość'],\n '4233': ['radość', 'cieszenie się na coś oczekiwanego'],\n '4236': ['zaufanie'],\n '4238': ['zaufanie'],\n '4244': ['strach', 'zaufanie', 'cieszenie się na', 'smutek'],\n '4246': ['zaufanie', 'radość'],\n '4252': ['radość'],\n '4263': ['smutek', 'zaufanie', 'radość'],\n '4264': ['zaufanie', 'radość'],\n '4266': ['złość', 'radość', 'wstręt'],\n '4285': ['złość', 'strach', 'radość', 'wstręt'],\n '4292': ['złość', 'smutek', 'wstręt'],\n '4305': ['złość', 'wstręt'],\n '4312': ['złość', 'smutek'],\n '4319': ['zaufanie', 'radość'],\n '4329': ['zaufanie', 'radość'],\n '4332': ['radość'],\n '4343': ['zaufanie'],\n '4347': ['smutek', 'radość', 'zaufanie', 'wstręt', 'złość'],\n '4361': ['strach', 'złość', 'smutek'],\n '4366': ['zaufanie', 'radość'],\n '4368': ['zaufanie'],\n '4369': ['radość'],\n '4371': ['radość'],\n '4378': ['smutek', 'radość', 'wstręt'],\n '4380': ['złość', 'smutek'],\n '4392': ['złość', 'smutek'],\n '4395': ['smutek', 'złość', 'wstręt'],\n '4397': ['złość', 'smutek'],\n '4398': ['strach',\n  'smutek',\n  'wstręt',\n  'złość',\n  'cieszenie się na coś oczekiwanego'],\n '4399': ['złość', 'strach', 'smutek', 'cieszenie się na coś oczekiwanego'],\n '4401': ['smutek', 'złość', 'radość', 'wstręt'],\n '4408': ['radość'],\n '4411': ['złość'],\n '4412': ['zaufanie', 'cieszenie się na'],\n '4419': ['zaskoczenie czymś nieprzewidywanym', 'smutek'],\n '4420': ['radość', 'cieszenie się na coś oczekiwanego'],\n '4424': ['cieszenie się na coś oczekiwanego'],\n '4432': ['zaufanie', 'radość'],\n '4433': ['zaufanie'],\n '4437': ['smutek', 'złość', 'zaufanie', 'wstręt'],\n '4438': ['złość'],\n '4441': ['smutek'],\n '4442': ['zaufanie'],\n '4451': ['smutek', 'radość'],\n '4453': ['smutek'],\n '4456': ['wstręt', 'smutek'],\n '4458': ['radość', 'cieszenie się na coś oczekiwanego'],\n '4460': ['złość', 'zaufanie'],\n '4465': ['zaufanie'],\n '4466': ['radość'],\n '4467': ['smutek',\n  'radość',\n  'wstręt',\n  'złość',\n  'cieszenie się na coś oczekiwanego'],\n '4468': ['radość'],\n '4469': ['radość'],\n '4470': ['radość'],\n '4473': ['radość'],\n '4476': ['smutek',\n  'radość',\n  'wstręt',\n  'złość',\n  'cieszenie się na coś oczekiwanego'],\n '4478': ['radość'],\n '4479': ['złość', 'wstręt'],\n '4480': ['złość'],\n '4485': ['złość', 'smutek'],\n '4486': ['smutek', 'złość', 'strach', 'wstręt'],\n '4490': ['radość'],\n '4493': ['radość', 'cieszenie się na coś oczekiwanego'],\n '4494': ['zaufanie'],\n '4496': ['złość', 'wstręt'],\n '4498': ['złość'],\n '4503': ['smutek', 'złość', 'wstręt'],\n '4504': ['zaufanie', 'radość'],\n '4505': ['zaufanie'],\n '4508': ['radość'],\n '4518': ['smutek', 'radość'],\n '4595': ['smutek'],\n '4637': ['zaufanie'],\n '4638': ['smutek', 'złość', 'radość'],\n '4641': ['zaufanie'],\n '4642': ['strach',\n  'cieszenie się',\n  'smutek',\n  'radość',\n  'złość',\n  'cieszenie sie',\n  'cieszenie się na',\n  'cieszenie się na coś oczekiwanego'],\n '4643': ['strach',\n  'radość',\n  'smutek',\n  'zaufanie',\n  'wstręt',\n  'cieszenie się na coś oczekiwanego'],\n '4645': ['smutek', 'złość', 'strach', 'wstręt'],\n '4649': ['zaufanie', 'radość', 'cieszenie się na coś oczekiwanego'],\n '4652': ['dobro', 'zaufanie', 'radość'],\n '4654': ['zaufanie', 'radość'],\n '4655': ['zaufanie', 'radość', 'cieszenie się na coś oczekiwanego'],\n '4656': ['smutek',\n  'radość',\n  'zaufanie',\n  'złość',\n  'cieszenie się na coś oczekiwanego'],\n '4658': ['smutek'],\n '4660': ['zaufanie', 'radość'],\n '4677': ['zaskoczenie czymś nieprzewidywanym',\n  'strach',\n  'smutek',\n  'wstręt',\n  'złość'],\n '4678': ['złość', 'smutek', 'wstręt'],\n '4679': ['smutek', 'złość', 'strach', 'wstręt'],\n '4681': ['złość', 'strach', 'smutek', 'wstręt'],\n '4682': ['strach',\n  'smutek',\n  'radość',\n  'zaufanie',\n  'złość',\n  'cieszenie się na coś oczekiwanego'],\n '4683': ['złość', 'smutek'],\n '4684': ['złość', 'smutek'],\n '4686': ['radość'],\n '4687': ['złość', 'strach', 'smutek'],\n '4689': ['radość'],\n '4696': ['złość'],\n '4697': ['złość', 'smutek'],\n '4698': ['zaufanie', 'smutek'],\n '4701': ['zaufanie', 'radość'],\n '4702': ['zaufanie', 'radość'],\n '4704': ['zaufanie'],\n '4709': ['zaufanie', 'radość'],\n '4710': ['zaufanie', 'radość'],\n ...}"
     },
     "execution_count": 28,
     "metadata": {},
     "output_type": "execute_result"
    }
   ],
   "source": [
    "emonames_map"
   ],
   "metadata": {
    "collapsed": false,
    "pycharm": {
     "name": "#%%\n"
    }
   }
  },
  {
   "cell_type": "markdown",
   "source": [
    "## Get mapings from english plWN synsets to polish plWN synsets"
   ],
   "metadata": {
    "collapsed": false,
    "pycharm": {
     "name": "#%% md\n"
    }
   }
  },
  {
   "cell_type": "code",
   "execution_count": 32,
   "outputs": [
    {
     "data": {
      "text/plain": "        parent_id  child_id            name\n0          100081    356680  Hiper_plWN-PWN\n1          100090    323934  Hiper_plWN-PWN\n2          100091    284855  Hiper_plWN-PWN\n3          100094    359501  Hiper_plWN-PWN\n4          100107    290303  Hiper_plWN-PWN\n...           ...       ...             ...\n473604    7083245    255346    Syn_PWN-plWN\n473605    7083246    405543    Syn_PWN-plWN\n473606    7087398    433913    Syn_PWN-plWN\n473607    7087403     23796    Syn_PWN-plWN\n473608    7087404     29903    Syn_PWN-plWN\n\n[473609 rows x 3 columns]",
      "text/html": "<div>\n<style scoped>\n    .dataframe tbody tr th:only-of-type {\n        vertical-align: middle;\n    }\n\n    .dataframe tbody tr th {\n        vertical-align: top;\n    }\n\n    .dataframe thead th {\n        text-align: right;\n    }\n</style>\n<table border=\"1\" class=\"dataframe\">\n  <thead>\n    <tr style=\"text-align: right;\">\n      <th></th>\n      <th>parent_id</th>\n      <th>child_id</th>\n      <th>name</th>\n    </tr>\n  </thead>\n  <tbody>\n    <tr>\n      <th>0</th>\n      <td>100081</td>\n      <td>356680</td>\n      <td>Hiper_plWN-PWN</td>\n    </tr>\n    <tr>\n      <th>1</th>\n      <td>100090</td>\n      <td>323934</td>\n      <td>Hiper_plWN-PWN</td>\n    </tr>\n    <tr>\n      <th>2</th>\n      <td>100091</td>\n      <td>284855</td>\n      <td>Hiper_plWN-PWN</td>\n    </tr>\n    <tr>\n      <th>3</th>\n      <td>100094</td>\n      <td>359501</td>\n      <td>Hiper_plWN-PWN</td>\n    </tr>\n    <tr>\n      <th>4</th>\n      <td>100107</td>\n      <td>290303</td>\n      <td>Hiper_plWN-PWN</td>\n    </tr>\n    <tr>\n      <th>...</th>\n      <td>...</td>\n      <td>...</td>\n      <td>...</td>\n    </tr>\n    <tr>\n      <th>473604</th>\n      <td>7083245</td>\n      <td>255346</td>\n      <td>Syn_PWN-plWN</td>\n    </tr>\n    <tr>\n      <th>473605</th>\n      <td>7083246</td>\n      <td>405543</td>\n      <td>Syn_PWN-plWN</td>\n    </tr>\n    <tr>\n      <th>473606</th>\n      <td>7087398</td>\n      <td>433913</td>\n      <td>Syn_PWN-plWN</td>\n    </tr>\n    <tr>\n      <th>473607</th>\n      <td>7087403</td>\n      <td>23796</td>\n      <td>Syn_PWN-plWN</td>\n    </tr>\n    <tr>\n      <th>473608</th>\n      <td>7087404</td>\n      <td>29903</td>\n      <td>Syn_PWN-plWN</td>\n    </tr>\n  </tbody>\n</table>\n<p>473609 rows × 3 columns</p>\n</div>"
     },
     "execution_count": 32,
     "metadata": {},
     "output_type": "execute_result"
    }
   ],
   "source": [
    "EN_PL_PLWN_MAP_PATH = SENTIMENT_RES_DIR.joinpath('plwn_pwn_mappings', 'mapping_plwn_i-links_i-all.txt')\n",
    "\n",
    "df_en_pl_map = pd.read_csv(EN_PL_PLWN_MAP_PATH, sep='\\t')\n",
    "\n",
    "df_en_pl_map"
   ],
   "metadata": {
    "collapsed": false,
    "pycharm": {
     "name": "#%%\n"
    }
   }
  },
  {
   "cell_type": "code",
   "execution_count": 33,
   "outputs": [
    {
     "name": "stdout",
     "output_type": "stream",
     "text": [
      "<class 'pandas.core.frame.DataFrame'>\n",
      "RangeIndex: 473609 entries, 0 to 473608\n",
      "Data columns (total 3 columns):\n",
      " #   Column     Non-Null Count   Dtype \n",
      "---  ------     --------------   ----- \n",
      " 0   parent_id  473609 non-null  int64 \n",
      " 1   child_id   473609 non-null  int64 \n",
      " 2   name       473609 non-null  object\n",
      "dtypes: int64(2), object(1)\n",
      "memory usage: 10.8+ MB\n"
     ]
    }
   ],
   "source": [
    "df_en_pl_map.info()"
   ],
   "metadata": {
    "collapsed": false,
    "pycharm": {
     "name": "#%%\n"
    }
   }
  },
  {
   "cell_type": "code",
   "execution_count": 36,
   "outputs": [
    {
     "data": {
      "text/plain": "['Hiper_plWN-PWN',\n 'Hiper_PWN-plWN',\n 'Hipo_plWN-PWN',\n 'Hipo_PWN-plWN',\n 'międzyjęzykowa_synonimia_częściowa_plWN-PWN',\n 'międzyjęzykowa_synonimia_częściowa_PWN-plWN',\n 'międzyjęzykowa_synonimia_międzyparadygmatyczna_made_of_plWN-PWN',\n 'międzyjęzykowa_synonimia_międzyparadygmatyczna_resembling_plWN-PWN',\n 'Syn_plWN-PWN',\n 'Syn_PWN-plWN']"
     },
     "execution_count": 36,
     "metadata": {},
     "output_type": "execute_result"
    }
   ],
   "source": [
    "df_en_pl_map.name.unique().tolist()"
   ],
   "metadata": {
    "collapsed": false,
    "pycharm": {
     "name": "#%%\n"
    }
   }
  },
  {
   "cell_type": "code",
   "execution_count": 38,
   "outputs": [],
   "source": [
    "plwn_en_emonames_hyper = dict()\n",
    "plwn_en_emonames_syn = dict()\n",
    "plwn_en_emonames_hypo = dict()\n",
    "\n",
    "plwn_en_emovaluations_hyper = dict()\n",
    "plwn_en_emovaluations_syn = dict()\n",
    "plwn_en_emovaluations_hypo = dict()\n",
    "\n",
    "for idx, row in df_en_pl_map.iterrows():\n",
    "    relation_name = row['name']\n",
    "    # hyperonyms\n",
    "    if relation_name == 'Hiper_plWN-PWN':\n",
    "        plwn_pl_parent_id = str(row['parent_id'])\n",
    "        plwn_en_child_id = str(row['child_id'])\n",
    "        if plwn_pl_parent_id in emonames_map:\n",
    "            plwn_en_emonames_hyper[plwn_en_child_id] = emonames_map[plwn_pl_parent_id]\n",
    "        if plwn_pl_parent_id in emovaluations_map:\n",
    "            plwn_en_emovaluations_hyper[plwn_en_child_id] = emovaluations_map[plwn_pl_parent_id]\n",
    "    if relation_name == 'Hiper_PWN-plWN':\n",
    "        plwn_en_parent_id = str(row['parent_id'])\n",
    "        plwn_pl_child_id = str(row['child_id'])\n",
    "        if plwn_pl_child_id in emonames_map:\n",
    "            plwn_en_emonames_hyper[plwn_en_parent_id] = emonames_map[plwn_pl_child_id]\n",
    "        if plwn_pl_child_id in emovaluations_map:\n",
    "            plwn_en_emovaluations_hyper[plwn_en_parent_id] = emovaluations_map[plwn_pl_child_id]\n",
    "\n",
    "    # hyponyms\n",
    "    if relation_name == 'Hipo_plWN-PWN':\n",
    "        plwn_pl_parent_id = str(row['parent_id'])\n",
    "        plwn_en_child_id = str(row['child_id'])\n",
    "        if plwn_pl_parent_id in emonames_map:\n",
    "            plwn_en_emonames_hypo[plwn_en_child_id] = emonames_map[plwn_pl_parent_id]\n",
    "        if plwn_pl_parent_id in emovaluations_map:\n",
    "            plwn_en_emovaluations_hypo[plwn_en_child_id] = emovaluations_map[plwn_pl_parent_id]\n",
    "    if relation_name == 'Hipo_PWN-plWN':\n",
    "        plwn_en_parent_id = str(row['parent_id'])\n",
    "        plwn_pl_child_id = str(row['child_id'])\n",
    "        if plwn_pl_child_id in emonames_map:\n",
    "            plwn_en_emonames_hypo[plwn_en_parent_id] = emonames_map[plwn_pl_child_id]\n",
    "        if plwn_pl_child_id in emovaluations_map:\n",
    "            plwn_en_emovaluations_hypo[plwn_en_parent_id] = emovaluations_map[plwn_pl_child_id]\n",
    "\n",
    "    # synonyms\n",
    "    if relation_name in [\n",
    "        'Syn_plWN-PWN',\n",
    "        'międzyjęzykowa_synonimia_częściowa_plWN-PWN',\n",
    "        'międzyjęzykowa_synonimia_międzyparadygmatyczna_made_of_plWN-PWN'\n",
    "    ]:\n",
    "        plwn_pl_parent_id = str(row['parent_id'])\n",
    "        plwn_en_child_id = str(row['child_id'])\n",
    "        if plwn_pl_parent_id in emonames_map:\n",
    "            plwn_en_emonames_syn[plwn_en_child_id] = emonames_map[plwn_pl_parent_id]\n",
    "        if plwn_pl_parent_id in emovaluations_map:\n",
    "            plwn_en_emovaluations_syn[plwn_en_child_id] = emovaluations_map[plwn_pl_parent_id]\n",
    "    if relation_name in [\n",
    "        'Syn_PWN-plWN',\n",
    "        'międzyjęzykowa_synonimia_częściowa_PWN-plWN',\n",
    "        'międzyjęzykowa_synonimia_międzyparadygmatyczna_made_of_PWN-plWN'\n",
    "    ]:\n",
    "        plwn_en_parent_id = str(row['parent_id'])\n",
    "        plwn_pl_child_id = str(row['child_id'])\n",
    "        if plwn_pl_child_id in emonames_map:\n",
    "            plwn_en_emonames_syn[plwn_en_parent_id] = emonames_map[plwn_pl_child_id]\n",
    "        if plwn_pl_child_id in emovaluations_map:\n",
    "            plwn_en_emovaluations_syn[plwn_en_parent_id] = emovaluations_map[plwn_pl_child_id]"
   ],
   "metadata": {
    "collapsed": false,
    "pycharm": {
     "name": "#%%\n"
    }
   }
  },
  {
   "cell_type": "code",
   "execution_count": 39,
   "outputs": [
    {
     "data": {
      "text/plain": "{'273103': ['wstręt'],\n '272374': ['złość', 'radość'],\n '355895': ['złość', 'smutek'],\n '272888': ['złość'],\n '269308': ['radość'],\n '269448': ['radość', 'cieszenie się na coś oczekiwanego'],\n '318457': ['zaufanie'],\n '358633': ['radość'],\n '361608': ['smutek'],\n '317212': ['smutek', 'wstręt', 'zaufanie', 'radość'],\n '324284': ['smutek', 'radość'],\n '360032': ['smutek'],\n '312042': ['złość'],\n '336552': ['zaufanie'],\n '324438': ['złość', 'smutek'],\n '359738': ['złość', 'smutek'],\n '286912': ['radość'],\n '324305': ['radość'],\n '313074': ['smutek', 'wstręt', 'radość', 'cieszenie się na coś oczekiwanego'],\n '362193': ['zaufanie', 'radość'],\n '313101': ['smutek',\n  'radość',\n  'zaufanie',\n  'wstręt',\n  'cieszenie się na coś oczekiwanego'],\n '359752': ['zaufanie', 'radość'],\n '358523': ['smutek', 'strach', 'radość'],\n '339784': ['złość', 'wstręt'],\n '311308': ['złość', 'cieszenie się na'],\n '315308': ['złość', 'wstręt'],\n '267128': ['strach', 'radość'],\n '267337': ['złość', 'strach', 'smutek'],\n '269982': ['złość'],\n '276883': ['zaufanie', 'radość'],\n '366113': ['strach',\n  'smutek',\n  'radość',\n  'złość',\n  'cieszenie się na coś oczekiwanego'],\n '277279': ['złość', 'wstręt'],\n '268345': ['radość'],\n '362871': ['smutek', 'złość', 'wstręt'],\n '269897': ['smutek', 'wstręt'],\n '272515': ['zaufanie', 'radość', 'cieszenie się na coś oczekiwanego'],\n '264207': ['strach', 'smutek', 'radość', 'wstręt', 'złość'],\n '311439': ['złość', 'zaufanie', 'radość'],\n '266911': ['złość', 'smutek', 'wstręt'],\n '271055': ['smutek'],\n '272521': ['złość', 'smutek'],\n '263997': ['złość', 'radość', 'smutek'],\n '267341': ['złość', 'smute', 'smutek'],\n '263708': ['złość'],\n '264713': ['zaskoczenie czymś nieprzewidywanym',\n  'strach',\n  'smutek',\n  'wstręt',\n  'złość'],\n '266959': ['smutek'],\n '275975': ['zaufanie'],\n '275976': ['radość'],\n '265783': ['złość', 'zaufanie', 'cieszenie się na', 'radość'],\n '267392': ['wstręt'],\n '271418': ['wstręt'],\n '267953': ['złość', 'smutek', 'wstręt'],\n '269178': ['smutek', 'złość', 'wstręt'],\n '269969': ['zaufanie', 'radość'],\n '313174': ['zaufanie', 'radość'],\n '272225': ['złość', 'radość'],\n '270556': ['złość', 'smutek'],\n '273634': ['zaufanie', 'radość'],\n '329856': ['złość', 'wstręt'],\n '273396': ['złość', 'strach', 'smutek'],\n '270535': ['wstręt'],\n '272967': ['zaufanie', 'radość', 'cieszenie się na coś oczekiwanego'],\n '263317': ['radość'],\n '274021': ['smutek', 'złość', 'wstręt'],\n '274667': ['cieszenie się na'],\n '270649': ['złość', 'strach', 'smutek', 'wstręt'],\n '265001': ['radość', 'cieszenie się na coś oczekiwanego'],\n '269717': ['złość', 'smutek'],\n '264210': ['wstręt'],\n '317090': ['smutek'],\n '269908': ['złość', 'wstręt'],\n '359460': ['zaskoczenie czymś nieprzewidywanym',\n  'strach',\n  'smutek',\n  'wstręt',\n  'złość'],\n '362657': ['smutek', 'radość', 'cieszenie się na coś oczekiwanego'],\n '288670': ['złość', 'smutek', 'wstręt'],\n '325720': ['zaufanie'],\n '316261': ['zaufanie'],\n '289719': ['złość', 'strach', 'smutek'],\n '330438': ['zaufanie'],\n '325754': ['złość', 'smutek', 'wstręt'],\n '311533': ['złość', 'smutek'],\n '362099': ['złość'],\n '316674': ['smutek', 'złość', 'wstręt'],\n '362399': ['złość', 'smutek'],\n '311685': ['zaufanie'],\n '315794': ['zaufanie'],\n '313364': ['zaskoczenie czymś nieprzewidywanym',\n  'smutek',\n  'radość',\n  'zaufanie',\n  'wstręt',\n  'złość',\n  'cieszenie się na coś oczekiwanego'],\n '324324': ['zaskoczenie czymś nieprzewidywanym',\n  'smutek',\n  'radość',\n  'zaufanie',\n  'wstręt',\n  'złość',\n  'cieszenie się na coś oczekiwanego'],\n '340635': ['wstręt', 'radość'],\n '343533': ['wstręt'],\n '338672': ['wstręt'],\n '339058': ['smutek'],\n '335889': ['strach'],\n '342467': ['strach'],\n '339690': ['złość', 'wstręt'],\n '337673': ['smutek', 'złość', 'wstręt'],\n '341299': ['wstręt'],\n '338212': ['wstręt'],\n '342081': ['złość', 'wstręt'],\n '339966': ['złość', 'zaufanie', 'radość', 'wstręt'],\n '338909': ['wstręt'],\n '307990': ['wstręt'],\n '340792': ['złość', 'wstręt'],\n '358614': ['smutek',\n  'radość',\n  'wstręt',\n  'złość',\n  'cieszenie się na coś oczekiwanego'],\n '358619': ['złość', 'smutek'],\n '311154': ['smutek', 'cieszenie się na', 'radość'],\n '311679': ['wstręt'],\n '331267': ['strach', 'zaufanie', 'radość'],\n '340572': ['zaufanie'],\n '360169': ['strach', 'radość', 'cieszenie się na', 'wstręt'],\n '341629': ['zaufanie'],\n '362792': ['smutek'],\n '341007': ['złość', 'strach', 'wstręt'],\n '337874': ['złość', 'radość', 'wstręt'],\n '339214': ['złość', 'radość', 'wstręt'],\n '323717': ['złość', 'smutek'],\n '360164': ['złość', 'strach', 'smutek', 'wstręt'],\n '315888': ['smutek', 'złość', 'wstręt'],\n '317576': ['smutek', 'złość', 'wstręt'],\n '288557': ['smutek', 'zaskoczenie czymś nieprzewidywanym', 'złość', 'wstręt'],\n '318495': ['strach', 'smutek'],\n '317459': ['złość', 'strach', 'smutek', 'wstręt'],\n '288782': ['złość', 'strach', 'smutek'],\n '285127': ['strach',\n  'smutek',\n  'radość',\n  'wstręt',\n  'złość',\n  'cieszenie się na coś oczekiwanego'],\n '289705': ['złość', 'radość'],\n '311999': ['smutek', 'złość', 'wstręt'],\n '288694': ['złość', 'strach', 'smutek'],\n '286864': ['złość', 'smutek'],\n '366969': ['zaufanie', 'cieszenie się na coś oczekiwanego'],\n '324787': ['złość', 'wstręt', 'radość', 'cieszenie się na coś oczekiwanego'],\n '321132': ['złość', 'strach', 'smutek', 'wstręt'],\n '323392': ['smutek', 'złość', 'radość'],\n '337778': ['złość', 'smutek'],\n '341706': ['zaufanie'],\n '362406': ['złość', 'strach', 'smutek'],\n '288604': ['zaskoczenie czymś nieprzewidywanym', 'złość', 'smutek', 'wstręt'],\n '316409': ['zaufanie', 'radość'],\n '330014': ['zaufanie', 'radość'],\n '321491': ['zaufanie'],\n '316719': ['strach', 'zaskoczenie czymś nieprzewidywanym'],\n '324304': ['złość', 'smutek'],\n '340257': ['radość', 'cieszenie się na coś oczekiwanego'],\n '313597': ['smutek'],\n '325538': ['szczęście', 'radość'],\n '319976': ['smutek'],\n '321107': ['złość', 'smutek'],\n '325665': ['smutek'],\n '341739': ['wstręt'],\n '288127': ['zaufanie', 'radość'],\n '290129': ['zaufanie', 'radość', 'cieszenie się na coś oczekiwanego'],\n '312595': ['smutek'],\n '285152': ['zaufanie', 'radość'],\n '310561': ['złość', 'strach', 'smutek'],\n '310718': ['zaufanie', 'radość'],\n '362147': ['złość', 'strach', 'smutek'],\n '306551': ['strach', 'zaufanie', 'smutek', 'wstręt'],\n '313144': ['złość', 'smutek'],\n '290163': ['strach', 'zaufanie', 'radość'],\n '311487': ['wstręt', 'zaufanie', 'smutek'],\n '362534': ['wstręt', 'zaufanie', 'smutek'],\n '285066': ['złość', 'zaskoczenie czymś nieprzewidywanym', 'smutek', 'wstręt'],\n '324401': ['radość'],\n '362419': ['smutek', 'zaskoczenie czymś nieprzewidywanym', 'złość', 'wstręt'],\n '359428': ['złość', 'smutek'],\n '311793': ['zaufanie'],\n '325424': ['strach',\n  'smutek',\n  'radość',\n  'wstręt',\n  'złość',\n  'cieszenie się na'],\n '318414': ['radość'],\n '315798': ['wstręt', 'radość'],\n '316679': ['zaufanie'],\n '310806': ['wstręt', 'zaufanie', 'złość', 'radość'],\n '311598': ['wstręt'],\n '311964': ['zaufanie', 'radość'],\n '311892': ['smutek', 'złość', 'zaufanie', 'radość'],\n '325716': ['zaufanie'],\n '287825': ['zaskoczenie czymś nieprzewidywanym', 'zaufanie', 'radość'],\n '290355': ['radość'],\n '311714': ['radość'],\n '311945': ['smutek', 'złość', 'cieszenie się na', 'radość'],\n '290285': ['strach', 'wstręt'],\n '311931': ['strach', 'wstręt'],\n '330382': ['złość', 'smutek', 'wstręt'],\n '324682': ['złość', 'radość', 'smutek', 'wstręt'],\n '324393': ['złość', 'smutek'],\n '301240': ['zaufanie'],\n '310763': ['zaufanie'],\n '313334': ['zaufanie'],\n '325521': ['radość'],\n '331050': ['złość', 'wstręt'],\n '362860': ['smutek'],\n '311404': ['radość'],\n '311711': ['radość'],\n '321943': ['złość', 'wstręt'],\n '284875': ['strach', 'wstręt', 'radość', 'cieszenie się na coś oczekiwanego'],\n '289262': ['strach', 'wstręt', 'radość', 'cieszenie się na coś oczekiwanego'],\n '289219': ['smutek'],\n '287717': ['zaufanie', 'radość', 'cieszenie się na coś oczekiwanego'],\n '287738': ['zaufanie', 'radość', 'cieszenie się na coś oczekiwanego'],\n '325455': ['radość', 'wstręt'],\n '311651': ['dobro', 'zaufanie'],\n '325768': ['zaufanie', 'smutek'],\n '317329': ['smutek', 'złość', 'zaufanie', 'wstręt'],\n '286590': ['smutek', 'złość', 'radość'],\n '285771': ['radość', 'cieszenie się na coś oczekiwanego'],\n '286633': ['zaufanie'],\n '359903': ['smutek'],\n '340742': ['smutek', 'złość', 'wstręt'],\n '310636': ['złość', 'wstręt'],\n '313605': ['smutek', 'złość', 'wstręt'],\n '325409': ['cieszenie się na coś oczekiwanego'],\n '420883': ['smutek'],\n '366604': ['złość', 'smutek', 'wstręt'],\n '312840': ['złość', 'zaufanie', 'radość'],\n '289783': ['złość', 'smutek'],\n '272464': ['radość'],\n '321427': ['złość', 'smutek'],\n '362130': ['radość'],\n '324733': ['zaufanie', 'radość'],\n '312035': ['smutek', 'złość', 'strach', 'wstręt'],\n '318492': ['złość', 'strach', 'smutek'],\n '325584': ['strach', 'wstręt'],\n '362254': ['smutek', 'złość', 'strach', 'wstręt'],\n '284852': ['radość'],\n '276286': ['wstręt'],\n '310804': ['zaufanie'],\n '311207': ['zaufanie', 'cieszenie się na coś oczekiwanego'],\n '323711': ['wstręt'],\n '362330': ['zaufanie'],\n '324282': ['zaskoczenie czymś nieprzewidywanym',\n  'strach',\n  'smutek',\n  'radość',\n  'złość'],\n '358631': ['strach', 'smutek', 'radość', 'wstręt', 'złość'],\n '340199': ['smutek', 'złość', 'radość', 'wstręt'],\n '336549': ['wstręt'],\n '337850': ['wstręt'],\n '340845': ['wstręt'],\n '272013': ['złość', 'smutek', 'wstręt'],\n '311782': ['zaskoczenie czymś nieprzewidywanym',\n  'strach',\n  'radość',\n  'zaufanie',\n  'cieszenie się na coś oczekiwanego'],\n '263386': ['złość', 'smutek'],\n '329719': ['złość'],\n '342501': ['wstręt'],\n '337964': ['zaufanie'],\n '362742': ['złość', 'strach', 'smutek'],\n '362987': ['złość', 'wstręt'],\n '365551': ['złość', 'wstręt'],\n '325738': ['złość', 'wstręt'],\n '311625': ['złość', 'smutek'],\n '311447': ['smutek'],\n '362852': ['smutek', 'złość', 'wstręt'],\n '303061': ['złość', 'wstręt'],\n '362668': ['zaufanie'],\n '362271': ['złość', 'zaufanie', 'smutek', 'wstręt'],\n '316775': ['zaufanie'],\n '311950': ['wstręt'],\n '312066': ['smutek', 'złość', 'wstręt'],\n '310957': ['radość'],\n '325788': ['radość'],\n '360093': ['złość', 'cieszenie się na'],\n '339332': ['wstręt'],\n '271265': ['złość', 'strach', 'smutek', 'wstręt'],\n '311311': ['zaufanie'],\n '286743': ['złość', 'smutek'],\n '267388': ['złość', 'wstręt'],\n '359454': ['zaufanie', 'radość'],\n '362945': ['zaufanie', 'radość'],\n '362949': ['strach', 'smutek'],\n '343483': ['radość'],\n '311462': ['strach'],\n '357402': ['strach'],\n '337733': ['złość'],\n '325748': ['złość', 'smutek'],\n '313443': ['wstręt', 'smutek'],\n '362495': ['smutek', 'złość', 'wstręt'],\n '288787': ['zaskoczenie czymś nieprzewidywanym',\n  'strach',\n  'smutek',\n  'wstręt',\n  'złość'],\n '358724': ['strach', 'radość', 'smutek', 'wstręt', 'złość'],\n '310706': ['złość', 'radość'],\n '356480': ['zaufanie'],\n '362046': ['zaskoczenie czymś nieprzewidywanym', 'złość', 'strach', 'smutek'],\n '407558': ['radość'],\n '316686': ['strach', 'cieszenie się na', 'radość'],\n '317210': ['strach', 'cieszenie się na', 'radość'],\n '315692': ['zaufanie'],\n '311976': ['zaufanie'],\n '317533': ['strach', 'radość', 'smutek', 'zaufanie', 'złość'],\n '290308': ['strach',\n  'radość',\n  'smutek',\n  'zaufanie',\n  'złość',\n  'cieszenie się na coś oczekiwanego'],\n '290983': ['strach',\n  'radość',\n  'smutek',\n  'zaufanie',\n  'złość',\n  'cieszenie się na coś oczekiwanego'],\n '291129': ['strach', 'radość', 'smutek', 'zaufanie', 'wstręt', 'złość'],\n '325400': ['radość'],\n '339394': ['smutek', 'radość', 'zaskoczenie', 'wstręt', 'złość'],\n '265840': ['radość'],\n '366274': ['złość', 'strach', 'smutek'],\n '366648': ['złość', 'strach', 'smutek'],\n '313629': ['złość'],\n '311287': ['złość', 'smutek'],\n '323933': ['złość', 'zaufanie', 'strach', 'smutek'],\n '274715': ['złość', 'radość', 'wstręt'],\n '271501': ['smutek', 'złość', 'wstręt'],\n '269991': ['cieszenie się na', 'radość'],\n '273524': ['smutek', 'złość', 'wstręt'],\n '269903': ['radość'],\n '271674': ['złość', 'wstręt'],\n '270416': ['złość', 'wstręt', 'smutek', 'cieszenie się na coś oczekiwanego'],\n '267374': ['smutek'],\n '347260': ['smutek'],\n '266137': ['smutek', 'złość', 'wstręt'],\n '267139': ['złość', 'smutek'],\n '273154': ['smutek', 'złość', 'wstręt'],\n '273199': ['złość', 'wstręt'],\n '270265': ['złość', 'smutek', 'wstręt'],\n '263798': ['złość'],\n '331389': ['złość', 'smutek'],\n '276001': ['złość', 'smutek'],\n '266372': ['złość'],\n '269898': ['złość', 'smutek', 'wstręt'],\n '342468': ['złość', 'wstręt'],\n '341768': ['złość', 'wstręt'],\n '265008': ['wstręt', 'smutek'],\n '269410': ['smutek'],\n '274728': ['złość', 'strach', 'smutek', 'wstręt'],\n '279640': ['złość', 'wstręt'],\n '328412': ['złość', 'wstręt'],\n '359861': ['smutek',\n  'radość',\n  'zaufanie',\n  'wstręt',\n  'złość',\n  'cieszenie się na coś oczekiwanego'],\n '275706': ['smutek', 'złość', 'radość', 'wstręt'],\n '362237': ['złość', 'strach', 'smutek'],\n '266975': ['złość', 'strach', 'smutek', 'wstręt'],\n '268401': ['wstręt'],\n '268398': ['wstręt', 'smutek'],\n '270522': ['zaufanie'],\n '276217': ['wstręt'],\n '268894': ['zaufanie'],\n '338989': ['złość', 'wstręt'],\n '339832': ['złość', 'wstręt'],\n '359556': ['smutek', 'wstręt', 'radość'],\n '339986': ['zaufanie', 'radość', 'cieszenie się na coś oczekiwanego'],\n '339652': ['złość', 'wstręt'],\n '275909': ['złość'],\n '275910': ['złość', 'radość'],\n '273622': ['zaufanie'],\n '263426': ['złość', 'cieszenie się na', 'strach', 'radość'],\n '299956': ['strach', 'zaufanie'],\n '280472': ['smutek'],\n '274735': ['wstręt'],\n '268867': ['smutek', 'złość', 'wstręt'],\n '268258': ['złość', 'smutek', 'wstręt'],\n '280561': ['złość', 'wstręt'],\n '267742': ['smutek', 'strach', 'złość', 'radość'],\n '272441': ['wstręt'],\n '272870': ['złość'],\n '266179': ['strach', 'smutek'],\n '266996': ['zaufanie'],\n '266255': ['strach'],\n '311720': ['smutek', 'radość', 'zaufanie', 'wstręt', 'złość'],\n '325544': ['smutek', 'radość', 'zaufanie', 'wstręt', 'złość'],\n '325545': ['smutek', 'radość', 'zaufanie', 'wstręt', 'złość'],\n '355597': ['zaufanie', 'radość', 'cieszenie się na coś oczekiwanego'],\n '266586': ['smutek', 'złość', 'wstręt'],\n '276865': ['złość', 'wstręt'],\n '266983': ['złość'],\n '270187': ['zaufanie', 'radość', 'cieszenie się na coś oczekiwanego'],\n '276867': ['zaufanie'],\n '274302': ['złość', 'strach', 'smutek', 'wstręt'],\n '265330': ['smutek', 'złość', 'wstręt'],\n '266569': ['złość', 'smutek', 'wstręt'],\n '362468': ['zaufanie', 'radość', 'cieszenie się na coś oczekiwanego'],\n '278097': ['smutek', 'złość', 'strach', 'wstręt'],\n '342189': ['złość', 'strach'],\n '291227': ['złość', 'smutek'],\n '339184': ['wstręt'],\n '356226': ['złość', 'wstręt'],\n '339559': ['wstręt'],\n '338524': ['złość', 'wstręt'],\n '264702': ['zaufanie', 'radość'],\n '339458': ['smutek', 'złość', 'wstręt'],\n '342235': ['smutek', 'złość', 'wstręt'],\n '275993': ['smutek', 'złość', 'wstręt'],\n '341979': ['złość'],\n '339763': ['wstręt'],\n '270745': ['radość'],\n '340725': ['zaufanie'],\n '275755': ['strach', 'smutek'],\n '316628': ['złość', 'wstręt'],\n '277612': ['smutek', 'złość', 'wstręt'],\n '267591': ['złość', 'smutek', 'wstręt'],\n '264378': ['złość', 'strach', 'smutek', 'wstręt'],\n '268327': ['smutek', 'radość'],\n '276266': ['radość'],\n '279472': ['złość'],\n '269480': ['wstręt', 'smutek'],\n '313126': ['smutek'],\n '356065': ['smutek'],\n '358529': ['smutek'],\n '317430': ['zaufanie'],\n '273104': ['złość', 'wstręt'],\n '317443': ['zaufanie'],\n '271003': ['smutek', 'złość', 'radość', 'wstręt'],\n '270530': ['złość', 'radość'],\n '270429': ['smutek'],\n '311166': ['zaufanie'],\n '320718': ['smutek', 'złość', 'zaufanie', 'radość'],\n '270977': ['złość', 'zaufanie', 'radość', 'wstręt'],\n '286913': ['złość', 'zaskoczenie czymś nieprzewidywanym', 'radość'],\n '366681': ['zaufanie'],\n '359760': ['radość', 'cieszenie się na coś oczekiwanego'],\n '266981': ['złość'],\n '265431': ['radość'],\n '342388': ['wstręt'],\n '342970': ['wstręt'],\n '342971': ['wstręt'],\n '275443': ['smutek'],\n '311978': ['złość', 'smutek'],\n '286582': ['smutek', 'złość', 'radość'],\n '313130': ['smutek', 'złość', 'radość'],\n '265469': ['zaufanie', 'cieszenie się na'],\n '263880': ['zaufanie', 'cieszenie się na'],\n '274670': ['radość'],\n '271822': ['smutek', 'radość', 'zaufanie', 'wstręt', 'złość'],\n '265399': ['złość', 'radość'],\n '280253': ['zaufanie', 'radość'],\n '273530': ['wstręt'],\n '270282': ['smutek', 'złość', 'wstręt'],\n '269637': ['złość', 'smutek', 'wstręt'],\n '269638': ['wstręt'],\n '276203': ['złość', 'zaufanie', 'radość'],\n '325437': ['smutek', 'nieszczęście'],\n '325444': ['smutek', 'nieszczęście'],\n '338648': ['wstręt'],\n '264368': ['wstręt'],\n '341591': ['złość', 'wstręt'],\n '265107': ['radość'],\n '267465': ['cieszenie się na coś oczekiwanego', 'złość', 'radość', 'wstręt'],\n '321103': ['smutek', 'złość', 'radość', 'wstręt'],\n '274388': ['złość', 'zaufanie', 'wstręt'],\n '267336': ['radość', 'smutek', 'zaufanie', 'wstręt', 'złość'],\n '311655': ['smutek', 'złość', 'zaufanie', 'radość'],\n '270679': ['złość', 'cieszenie się na', 'radość'],\n '339354': ['złość'],\n '265870': ['zaufanie', 'radość', 'cieszenie się na coś oczekiwanego'],\n '310693': ['smutek'],\n '339845': ['wstręt'],\n '267663': ['radość'],\n '271833': ['złość'],\n '266949': ['zaufanie'],\n '338390': ['wstręt'],\n '277222': ['złość', 'radość'],\n '338022': ['zaufanie'],\n '269804': ['wstręt'],\n '266336': ['złość', 'wstręt'],\n '271667': ['wstręt'],\n '339871': ['smutek', 'złość', 'wstręt'],\n '268865': ['wstręt'],\n '268903': ['złość', 'smutek'],\n '270412': ['smutek'],\n '275624': ['smutek'],\n '339703': ['złość', 'wstręt'],\n '338600': ['złość'],\n '343505': ['złość'],\n '295623': ['smutek', 'radość'],\n '264036': ['strach', 'wstręt'],\n '277110': ['strach', 'smutek'],\n '270631': ['zaufanie'],\n '338911': ['złość', 'smutek'],\n '342477': ['złość'],\n '317125': ['smutek', 'radość', 'cieszenie się na coś oczekiwanego'],\n '270538': ['złość', 'radość'],\n '268459': ['smutek', 'złość', 'radość', 'wstręt'],\n '268465': ['złość', 'radość'],\n '268664': ['złość', 'strach', 'smutek'],\n '267614': ['strach', 'zaufanie'],\n '280314': ['złość'],\n '271828': ['zaufanie'],\n '279974': ['złość', 'smutek', 'wstręt'],\n '325774': ['zaufanie'],\n '311193': ['smutek', 'złość', 'radość'],\n '337544': ['wstręt'],\n '316083': ['złość', 'smutek'],\n '317437': ['zaufanie'],\n '312648': ['zaufanie', 'radość', 'wstręt'],\n '339423': ['wstręt'],\n '311786': ['złość', 'wstręt'],\n '318443': ['złość', 'wstręt'],\n '312799': ['radość'],\n '312003': ['złość'],\n '341942': ['złość', 'radość'],\n '268966': ['wstręt'],\n '277157': ['złość', 'radość', 'wstręt'],\n '311988': ['złość'],\n '359533': ['złość', 'strach', 'smutek'],\n '325717': ['zaufanie'],\n '339176': ['radość'],\n '340995': ['radość'],\n '310946': ['smutek'],\n '362310': ['smutek'],\n '312866': ['złość', 'smutek'],\n '312101': ['złość'],\n '362988': ['złość', 'smutek', 'wstręt'],\n '274401': ['radość'],\n '310780': ['złość', 'radość'],\n '308100': ['smutek', 'złość', 'wstręt'],\n '311092': ['złość'],\n '273552': ['radość'],\n '310740': ['radość'],\n '311805': ['wstręt'],\n '310710': ['cieszenie się na'],\n '310747': ['złość'],\n '318434': ['złość', 'wstręt'],\n '310741': ['złość'],\n '342513': ['wstręt'],\n '338005': ['zaufanie'],\n '338994': ['smutek', 'złość', 'wstręt'],\n '275450': ['złość', 'radość'],\n '315864': ['złość'],\n '320476': ['zaufanie', 'radość'],\n '310850': ['zaufanie'],\n '366052': ['zaufanie', 'radość'],\n '267799': ['radość'],\n '289275': ['zaufanie'],\n '325589': ['strach'],\n '325581': ['strach'],\n '268405': ['wstręt'],\n '325488': ['wstręt'],\n '267012': ['złość'],\n '325363': ['smutek', 'złość', 'strach', 'wstręt'],\n '325094': ['zaskoczenie czymś nieprzewidywanym', 'radość'],\n '313064': ['złość', 'smutek'],\n '458967': ['wstręt'],\n '362439': ['zaufanie', 'radość'],\n '313569': ['zaufanie'],\n '310988': ['wstręt', 'smutek'],\n '316408': ['zaufanie'],\n '325529': ['smutek', 'zaskoczenie', 'radość'],\n '322992': ['radość'],\n '311291': ['zaufanie'],\n '325725': ['złość', 'zaufanie'],\n '288558': ['złość'],\n '362201': ['smutek', 'złość', 'strach', 'radość'],\n '359544': ['smutek', 'złość', 'radość'],\n '362274': ['smutek', 'złość', 'radość'],\n '267463': ['smutek', 'złość', 'radość', 'wstręt'],\n '311992': ['złość', 'wstręt'],\n '315717': ['radość'],\n '325601': ['strach', 'smutek'],\n '325600': ['radość', 'smutek'],\n '310686': ['złość'],\n '310688': ['złość'],\n '310690': ['złość'],\n '324064': ['zaufanie'],\n '339722': ['złość', 'wstręt'],\n '311695': ['złość', 'smutek', 'wstręt'],\n '310762': ['szczęście', 'radość'],\n '310702': ['radość'],\n '359879': ['złość'],\n '313537': ['cieszenie się na'],\n '341494': ['strach', 'smutek', 'radość', 'zaufanie', 'złość'],\n '330374': ['wstręt', 'smutek'],\n '315886': ['złość', 'smutek'],\n '362264': ['cieszenie się na'],\n '311132': ['strach', 'smutek'],\n '316274': ['strach', 'smutek'],\n '361543': ['strach', 'smutek'],\n '301548': ['zaufanie'],\n '313390': ['złość', 'smutek'],\n '310711': ['złość', 'cieszenie się na', 'radość'],\n '313614': ['radość'],\n '299367': ['złość', 'smutek', 'wstręt'],\n '311813': ['złość', 'strach', 'wstręt'],\n '361967': ['smutek', 'złość', 'strach', 'wstręt'],\n '268449': ['zaufanie', 'radość'],\n '321371': ['zaufanie', 'radość'],\n '312018': ['smutek', 'złość', 'radość'],\n '323848': ['smutek', 'złość', 'radość'],\n '328486': ['złość', 'strach', 'smutek'],\n '312210': ['złość', 'smutek', 'wstręt'],\n '312804': ['zaufanie'],\n '313590': ['zaufanie', 'cieszenie się na'],\n '325647': ['radość'],\n '320967': ['złość', 'radość', 'wstręt'],\n '317108': ['złość', 'wstręt'],\n '312099': ['wstręt'],\n '317416': ['złość', 'zaufanie', 'smutek'],\n '334236': ['złość', 'zaufanie', 'smutek'],\n '366860': ['złość', 'strach', 'smutek'],\n '313197': ['smutek', 'złość', 'strach', 'wstręt'],\n '325556': ['smutek', 'radość'],\n '341037': ['złość', 'zaufanie', 'radość'],\n '335897': ['radość', 'smutek', 'zaufanie', 'wstręt', 'złość'],\n '325001': ['zaskoczenie czymś nieprzewidywanym',\n  'strach',\n  'smutek',\n  'radość',\n  'złość',\n  'cieszenie się na coś oczekiwanego'],\n '288847': ['strach', 'radość'],\n '310738': ['zaufanie', 'radość'],\n '325425': ['radość'],\n '306822': ['zaufanie', 'radość'],\n '303072': ['zaufanie', 'piękno', 'radość'],\n '362611': ['zaufanie', 'piękno', 'radość'],\n '328494': ['złość', 'zaufanie', 'radość'],\n '331892': ['strach', 'radość', 'wstręt'],\n '311435': ['złość', 'wstręt'],\n '342948': ['złość', 'wstręt'],\n '311282': ['smutek', 'złość', 'wstręt'],\n '359926': ['złość', 'strach', 'smutek'],\n '311192': ['złość', 'smutek'],\n '311521': ['złość', 'smutek'],\n '311565': ['złość', 'smutek'],\n '339917': ['złość', 'smutek', 'wstręt'],\n '338106': ['wstręt'],\n '323522': ['zaufanie'],\n '323525': ['zaufanie'],\n '329316': ['strach', 'smutek', 'radość', 'zaufanie', 'złość'],\n '325759': ['wstręt', 'złość', 'radość'],\n '343372': ['smutek', 'złość', 'zaufanie', 'wstręt'],\n '339685': ['wstręt'],\n '339528': ['radość'],\n '284995': ['zaskoczenie czymś nieprzewidywanym',\n  'smutek',\n  'radość',\n  'wstręt',\n  'złość'],\n '317364': ['strach', 'zaufanie'],\n '286169': ['smutek', 'złość', 'radość', 'cieszenie się na coś oczekiwanego'],\n '338538': ['złość', 'radość', 'wstręt'],\n '362278': ['radość'],\n '311925': ['smutek', 'zaufanie', 'radość'],\n '337565': ['wstręt'],\n '289474': ['złość', 'zaufanie', 'smutek'],\n '342793': ['zaufanie'],\n '359077': ['strach', 'smutek', 'radość', 'wstręt', 'złość'],\n '285474': ['zaufanie'],\n '315953': ['zaufanie', 'cieszenie się na'],\n '288175': ['zaufanie'],\n '291153': ['zaufanie'],\n '362478': ['złość', 'smutek'],\n '310722': ['złość', 'smutek'],\n '285508': ['złość', 'wstręt'],\n '311171': ['złość', 'smutek', 'wstręt'],\n '318485': ['smutek', 'złość', 'wstręt'],\n '313167': ['smutek', 'złość', 'wstręt'],\n '313637': ['smutek', 'złość', 'strach', 'wstręt'],\n '311469': ['zaufanie', 'szczęście', 'radość'],\n '360020': ['radość'],\n '301897': ['radość'],\n '304540': ['radość'],\n '449053': ['radość'],\n '288573': ['złość', 'wstręt'],\n '356293': ['zaufanie', 'radość'],\n '337561': ['zaufanie',\n  'radość',\n  'wstręt',\n  'cieszenie się na coś oczekiwanego'],\n '324440': ['zaskoczenie czymś nieprzewidywanym', 'strach'],\n '318383': ['strach',\n  'smutek',\n  'radość',\n  'wstręt',\n  'złość',\n  'cieszenie się na coś oczekiwanego'],\n '325459': ['strach',\n  'smutek',\n  'radość',\n  'wstręt',\n  'złość',\n  'cieszenie się na coś oczekiwanego'],\n '277244': ['cieszenie się na'],\n '323676': ['strach', 'smutek', 'radość', 'wstręt', 'złość'],\n '285843': ['złość'],\n '359711': ['złość'],\n '288560': ['złość'],\n '324004': ['smutek', 'złość', 'wstręt'],\n '311751': ['złość'],\n '311658': ['smutek', 'złość', 'wstręt'],\n '312570': ['radość'],\n '435291': ['zaskoczenie czymś nieprzewidywanym', 'radość'],\n '310745': ['złość'],\n '325572': ['złość'],\n '325765': ['złość'],\n '310791': ['złość', 'zaufanie', 'radość'],\n '325361': ['złość', 'strach', 'zaskoczenie'],\n '317562': ['zaufanie'],\n '321406': ['smutek', 'złość', 'radość', 'wstręt'],\n '291103': ['złość', 'cieszenie się na', 'radość'],\n '330106': ['złość', 'cieszenie się na', 'radość'],\n '318413': ['zaufanie'],\n '310704': ['zaufanie', 'radość'],\n '311795': ['zaufanie'],\n '311664': ['radość'],\n '311928': ['smutek'],\n '290275': ['złość', 'radość'],\n '317545': ['strach', 'zaufanie', 'cieszenie się na', 'smutek'],\n '317156': ['zaufanie'],\n '270277': ['radość'],\n '311143': ['smutek', 'zaskoczenie czymś nieprzewidywanym', 'złość', 'wstręt'],\n '312030': ['smutek', 'zaskoczenie czymś nieprzewidywanym', 'złość', 'wstręt'],\n '312031': ['smutek', 'zaskoczenie czymś nieprzewidywanym', 'złość', 'wstręt'],\n '362868': ['smutek', 'zaskoczenie czymś nieprzewidywanym', 'złość', 'wstręt'],\n '312009': ['zaufanie', 'cieszenie się na coś oczekiwanego'],\n '355835': ['zaufanie', 'radość'],\n '419843': ['radość'],\n '318405': ['smutek', 'złość', 'wstręt'],\n '366073': ['radość', 'cieszenie się na coś oczekiwanego'],\n '312842': ['złość', 'radość'],\n '340657': ['złość', 'wstręt'],\n '342132': ['złość', 'wstręt'],\n '355651': ['radość'],\n '358806': ['zaufanie', 'cieszenie się na', 'radość'],\n '316734': ['strach', 'zaufanie'],\n '325618': ['radość'],\n '336484': ['wstręt'],\n '323748': ['zaufanie'],\n '341188': ['złość', 'strach', 'wstręt'],\n '315733': ['zaufanie', 'radość'],\n '315741': ['zaufanie', 'radość'],\n '317286': ['smutek',\n  'zaskoczenie czymś nieprzewidywanym',\n  'strach',\n  'radość'],\n '339840': ['wstręt'],\n '330794': ['złość', 'strach', 'smutek'],\n '287947': ['smutek', 'złość', 'radość'],\n '267606': ['zaufanie', 'radość'],\n '319084': ['zaufanie', 'radość'],\n '319107': ['zaufanie', 'radość'],\n '329456': ['złość', 'strach', 'wstręt'],\n '312016': ['wstręt'],\n '323209': ['złość', 'zaufanie', 'radość'],\n '316798': ['smutek'],\n '312785': ['zaufanie', 'radość'],\n '311513': ['złość', 'radość'],\n '323701': ['złość', 'radość'],\n '359821': ['smutek', 'złość', 'wstręt'],\n '313576': ['zaufanie'],\n '317117': ['złość', 'smutek'],\n '334208': ['zaufanie', 'radość'],\n '341289': ['wstręt'],\n '341102': ['złość', 'wstręt'],\n '324544': ['złość', 'strach', 'smutek', 'wstręt'],\n '361873': ['strach',\n  'zaskoczenie czymś nieprzewidywanym',\n  'smutek',\n  'wstręt',\n  'złość'],\n '362200': ['zaufanie', 'radość'],\n '313392': ['złość'],\n '356062': ['złość'],\n '316911': ['złość'],\n '316019': ['złość', 'zaufanie', 'radość'],\n '436596': ['złość', 'wstręt'],\n '312500': ['radość'],\n '341585': ['zaufanie'],\n '342901': ['zaufanie'],\n '343384': ['wstręt'],\n '269837': ['smutek', 'złość', 'radość', 'wstręt'],\n '338223': ['strach',\n  'krzywda',\n  'użyteczność',\n  'radość',\n  'smutek',\n  'dobro',\n  'zaufanie',\n  'zaskoczenie',\n  'wstręt',\n  'złość',\n  'nieużyteczność'],\n '339231': ['strach',\n  'krzywda',\n  'użyteczność',\n  'radość',\n  'smutek',\n  'dobro',\n  'zaufanie',\n  'zaskoczenie',\n  'wstręt',\n  'złość',\n  'nieużyteczność'],\n '323863': ['złość', 'wstręt'],\n '310826': ['wstręt'],\n '341240': ['wstręt'],\n '338681': ['zaufanie', 'radość'],\n '312675': ['radość'],\n '310917': ['zaskoczenie czymś nieprzewidywanym', 'złość', 'smutek'],\n '311558': ['zaufanie', 'radość'],\n '358888': ['wstręt', 'złość', 'smutek'],\n '338877': ['wstręt'],\n '338879': ['wstręt'],\n '329172': ['złość', 'smutek'],\n '329567': ['strach'],\n '316551': ['zaufanie'],\n '341158': ['wstręt'],\n '341258': ['wstręt'],\n '341341': ['zaufanie'],\n '359525': ['smutek',\n  'radość',\n  'wstręt',\n  'złość',\n  'cieszenie się na coś oczekiwanego'],\n '313571': ['smutek', 'złość', 'radość'],\n '339196': ['złość', 'radość', 'wstręt'],\n '311555': ['radość'],\n '346877': ['strach',\n  'smutek',\n  'radość',\n  'złość',\n  'cieszenie się na coś oczekiwanego'],\n '312162': ['wstręt'],\n '312161': ['złość'],\n '315828': ['zaufanie'],\n '290136': ['wstręt'],\n '263040': ['wstręt'],\n '337719': ['wstręt'],\n '338590': ['wstręt'],\n '339984': ['wstręt'],\n '311910': ['złość', 'wstręt'],\n '313187': ['strach', 'smutek', 'radość', 'wstręt', 'złość'],\n '310799': ['smutek',\n  'radość',\n  'zaufanie',\n  'złość',\n  'cieszenie się na coś oczekiwanego'],\n '341311': ['radość'],\n '287552': ['złość'],\n '304530': ['zaufanie', 'radość'],\n '313103': ['wstręt'],\n '311491': ['zaskoczenie czymś nieprzewidywanym',\n  'smutek',\n  'radość',\n  'wstręt',\n  'złość'],\n '358402': ['smutek', 'radość', 'zaufanie', 'wstręt', 'złość'],\n '273003': ['cieszenie się na', 'radość'],\n '275547': ['zaufanie'],\n '312246': ['smutek'],\n '312051': ['radość',\n  'smutek',\n  'zaufanie',\n  'wstręt',\n  'złość',\n  'cieszenie się na coś oczekiwanego'],\n '313654': ['zaufanie'],\n '311553': ['złość', 'smutek'],\n '277066': ['radość'],\n '272999': ['zaufanie', 'radość'],\n '325543': ['złość', 'wstręt'],\n '272625': ['zaskoczenie', 'smutek'],\n '310717': ['złość', 'wstręt'],\n '272650': ['złość', 'smutek'],\n '311231': ['smutek'],\n '263796': ['złość', 'smutek', 'wstręt'],\n '310892': ['zaufanie'],\n '310746': ['złość'],\n '324365': ['smutek'],\n '311407': ['zaufanie', 'radość'],\n '313328': ['złość', 'smutek'],\n '342693': ['złość', 'wstręt'],\n '355588': ['wstręt', 'smutek'],\n '313655': ['złość', 'smutek'],\n '312823': ['radość'],\n '342412': ['wstręt'],\n '318381': ['zaufanie'],\n '318448': ['zaufanie'],\n '324354': ['smutek', 'zaskoczenie czymś nieprzewidywanym', 'radość'],\n '324356': ['smutek', 'zaskoczenie czymś nieprzewidywanym', 'radość'],\n '267149': ['złość', 'zaufanie', 'radość'],\n '337710': ['zaufanie'],\n '274244': ['złość', 'radość'],\n '311534': ['złość'],\n '271414': ['złość'],\n '279442': ['wstręt', 'radość', 'cieszenie się na coś oczekiwanego'],\n '343215': ['wstręt'],\n '325708': ['zaufanie'],\n '343179': ['złość', 'wstręt'],\n '340711': ['wstręt'],\n '311516': ['wstręt', 'smutek'],\n '272136': ['zaufanie'],\n '313147': ['zaufanie'],\n '361974': ['złość'],\n '366684': ['złość', 'smutek', 'wstręt'],\n '311758': ['złość', 'wstręt'],\n '311880': ['złość', 'smutek', 'wstręt'],\n '311739': ['zaufanie', 'cieszenie się na coś oczekiwanego'],\n '312093': ['złość'],\n '311512': ['zaskoczenie czymś nieprzewidywanym',\n  'smutek',\n  'radość',\n  'wstręt',\n  'złość'],\n '362121': ['smutek', 'złość', 'zaufanie', 'radość'],\n '290603': ['strach', 'smutek'],\n '325721': ['radość'],\n '311737': ['smutek',\n  'radość',\n  'zaufanie',\n  'wstręt',\n  'złość',\n  'cieszenie się na coś oczekiwanego'],\n '312751': ['smutek',\n  'radość',\n  'zaufanie',\n  'wstręt',\n  'złość',\n  'cieszenie się na coś oczekiwanego'],\n '310861': ['złość'],\n '329451': ['złość', 'wstręt'],\n '355643': ['radość'],\n '343220': ['zaufanie'],\n '341444': ['smutek'],\n '329471': ['złość', 'strach', 'wstręt'],\n '329443': ['złość', 'wstręt'],\n '312070': ['wstręt'],\n '311050': ['radość'],\n '285922': ['zaskoczenie czymś nieprzewidywanym',\n  'strach',\n  'radość',\n  'cieszenie się na coś oczekiwanego'],\n '328400': ['złość', 'smutek'],\n '312771': ['złość', 'smutek'],\n '311090': ['zaskoczenie czymś nieprzewidywanym',\n  'smutek',\n  'radość',\n  'zaufanie',\n  'złość',\n  'cieszenie się na coś oczekiwanego'],\n '356732': ['radość', 'cieszenie się na coś oczekiwanego'],\n '288633': ['złość', 'wstręt'],\n '312802': ['radość'],\n '325527': ['strach', 'smutek', 'radość', 'zaskoczenie', 'złość'],\n '311451': ['złość', 'wstręt'],\n '312662': ['radość'],\n '359764': ['radość'],\n '325744': ['złość', 'smutek'],\n '267044': ['wstręt'],\n '318422': ['złość', 'wstręt'],\n '359592': ['smutek', 'radość', 'cieszenie się na coś oczekiwanego'],\n '265784': ['złość'],\n '286867': ['złość', 'smutek'],\n '311830': ['smutek', 'złość', 'zaufanie', 'radość'],\n '267069': ['smutek'],\n '265479': ['złość', 'wstręt'],\n '269150': ['radość'],\n '281091': ['złość', 'wstręt'],\n '269965': ['zaufanie'],\n '266260': ['złość', 'smutek'],\n '271826': ['zaufanie'],\n '310972': ['zaufanie'],\n '275398': ['wstręt'],\n '264592': ['wstręt'],\n '325724': ['zaufanie', 'radość'],\n '311857': ['zaufanie'],\n '267688': ['złość', 'wstręt'],\n '364443': ['smutek', 'złość', 'strach', 'wstręt'],\n '268924': ['złość', 'wstręt'],\n '271713': ['wstręt'],\n '310736': ['smutek', 'wstręt'],\n '311550': ['wstręt'],\n '311735': ['złość'],\n '360101': ['zaskoczenie czymś nieprzewidywanym', 'strach', 'smutek'],\n '366055': ['złość', 'wstręt'],\n '288571': ['smutek', 'złość', 'wstręt'],\n '323409': ['smutek', 'złość', 'wstręt'],\n '311816': ['radość'],\n '311955': ['złość'],\n '310808': ['złość', 'wstręt'],\n '321119': ['złość', 'wstręt'],\n '312029': ['wstręt', 'radość'],\n '310772': ['zaufanie'],\n '313325': ['radość'],\n '361969': ['smutek', 'złość', 'wstręt'],\n '340305': ['złość', 'radość', 'wstręt', 'cieszenie się na coś oczekiwanego'],\n '320132': ['strach'],\n '320852': ['złość', 'smutek', 'wstręt'],\n '312727': ['zaufanie', 'radość'],\n '342444': ['wstręt'],\n '361894': ['zaufanie', 'radość'],\n '264363': ['wstręt', 'złość', 'smutek'],\n '320864': ['zaufanie', 'wstręt'],\n '357280': ['zaufanie', 'wstręt'],\n '338409': ['radość', 'cieszenie się na coś oczekiwanego'],\n '276261': ['wstręt'],\n '312076': ['smutek', 'radość'],\n '362482': ['złość', 'radość'],\n '311305': ['smutek', 'złość', 'wstręt'],\n '362520': ['złość', 'smutek'],\n '276258': ['radość'],\n '277278': ['złość', 'wstręt'],\n '338836': ['złość', 'wstręt'],\n '272174': ['radość'],\n '356982': ['strach', 'smutek'],\n '342045': ['złość', 'smutek'],\n '268608': ['złość', 'zaufanie'],\n '265463': ['złość', 'smutek'],\n '274668': ['cieszenie się na coś oczekiwanego', 'złość', 'radość', 'wstręt'],\n '269829': ['strach', 'nieużyteczność', 'smutek', 'nieszczęście'],\n '311742': ['strach', 'zaufanie', 'radość'],\n '269239': ['radość'],\n '342382': ['radość', 'zaufanie', 'wstręt', 'złość', 'cieszenie się na'],\n '363908': ['zaufanie', 'radość', 'cieszenie się na coś oczekiwanego'],\n '263130': ['zaufanie', 'radość'],\n '269935': ['smutek', 'złość', 'radość'],\n '303611': ['złość', 'smutek', 'wstręt'],\n '313379': ['zaufanie'],\n '339380': ['złość', 'wstręt'],\n '329459': ['złość', 'strach', 'wstręt'],\n '328618': ['strach'],\n '337516': ['wstręt'],\n '266249': ['zaskoczenie czymś nieprzewidywanym', 'radość'],\n '329428': ['strach', 'zaufanie', 'radość'],\n '285060': ['złość', 'wstręt'],\n '340719': ['złość'],\n '318432': ['złość', 'wstręt'],\n '340624': ['zaufanie'],\n '275579': ['radość'],\n '272744': ['złość', 'zaufanie', 'wstręt'],\n '313544': ['złość', 'radość'],\n '312437': ['smutek', 'radość', 'wstręt'],\n '316096': ['złość', 'smutek', 'wstręt'],\n '359914': ['złość', 'smutek'],\n '273865': ['złość', 'smutek', 'wstręt'],\n '337577': ['zaufanie', 'cieszenie się na'],\n '270004': ['radość'],\n '275887': ['wstręt'],\n '286572': ['radość'],\n '323931': ['wstręt', 'smutek'],\n '325660': ['smutek', 'złość', 'wstręt'],\n '310687': ['złość', 'smutek'],\n '334248': ['zaskoczenie czymś nieprzewidywanym', 'strach', 'smutek'],\n '325594': ['strach', 'smutek'],\n '274577': ['smutek', 'złość', 'wstręt'],\n '311288': ['złość', 'smutek'],\n '361893': ['zaufanie'],\n '311774': ['złość', 'smutek', 'wstręt'],\n '311341': ['złość'],\n '290571': ['złość', 'strach', 'smutek', 'wstręt'],\n '338275': ['złość', 'radość'],\n '311715': ['zaufanie'],\n '272682': ['złość', 'smutek'],\n '359489': ['złość', 'wstręt'],\n '324061': ['złość'],\n '311037': ['zaufanie'],\n '265976': ['radość'],\n '282715': ['strach', 'złość', 'smutek'],\n '284442': ['radość', 'cieszenie się na coś oczekiwanego'],\n '282866': ['radość'],\n '283013': ['zaufanie'],\n '283032': ['zaufanie'],\n '283313': ['smutek', 'złość', 'strach', 'wstręt'],\n '283281': ['złość', 'strach', 'smutek'],\n '284156': ['smutek',\n  'radość',\n  'wstręt',\n  'złość',\n  'cieszenie się na coś oczekiwanego'],\n '283405': ['złość', 'smutek'],\n '282196': ['zaufanie', 'radość'],\n '282605': ['radość'],\n '282350': ['strach', 'złość'],\n '282545': ['złość', 'wstręt'],\n '283067': ['zaufanie'],\n '284015': ['smutek'],\n '282272': ['smutek',\n  'zaufanie',\n  'wstręt',\n  'złość',\n  'cieszenie się na coś oczekiwanego'],\n '282283': ['smutek', 'złość', 'zaufanie', 'radość'],\n '284127': ['zaufanie'],\n '282340': ['radość'],\n '281286': ['smutek', 'strach', 'radość'],\n '281241': ['radość'],\n '281220': ['radość'],\n '282078': ['zaskoczenie czymś nieprzewidywanym',\n  'strach',\n  'radość',\n  'cieszenie się na coś oczekiwanego'],\n '282460': ['złość', 'zaufanie', 'smutek'],\n '281510': ['smutek', 'radość'],\n '283461': ['smutek', 'złość', 'radość'],\n '282006': ['zaufanie'],\n '282410': ['radość'],\n '283443': ['radość'],\n '282949': ['smutek', 'złość', 'radość'],\n '283535': ['strach'],\n '283640': ['zaufanie'],\n '282510': ['radość', 'cieszenie się na coś oczekiwanego'],\n '284567': ['zaufanie', 'radość'],\n '284218': ['smutek',\n  'radość',\n  'wstręt',\n  'złość',\n  'cieszenie się na coś oczekiwanego'],\n '281952': ['radość', 'cieszenie się na coś oczekiwanego'],\n '283670': ['zaufanie'],\n '282455': ['złość', 'zaufanie'],\n '281247': ['zaufanie', 'radość'],\n '284087': ['złość', 'strach', 'smutek', 'wstręt'],\n '281469': ['zaufanie'],\n '283323': ['smutek'],\n '283259': ['złość',\n  'zaufanie',\n  'radość',\n  'cieszenie się na coś oczekiwanego'],\n '281904': ['złość', 'zaufanie', 'smutek'],\n '312119': ['radość'],\n '283808': ['radość', 'cieszenie się na coś oczekiwanego'],\n '281924': ['zaufanie'],\n '283212': ['zaufanie'],\n '282358': ['zaufanie'],\n '283097': ['radość'],\n '284265': ['złość', 'wstręt'],\n '282657': ['zaufanie'],\n '312075': ['złość', 'wstręt'],\n '282150': ['zaufanie', 'radość'],\n '284669': ['zaufanie'],\n '340889': ['złość'],\n '282640': ['radość'],\n ...}"
     },
     "execution_count": 39,
     "metadata": {},
     "output_type": "execute_result"
    }
   ],
   "source": [
    "plwn_en_emonames_syn"
   ],
   "metadata": {
    "collapsed": false,
    "pycharm": {
     "name": "#%%\n"
    }
   }
  },
  {
   "cell_type": "code",
   "execution_count": 47,
   "outputs": [],
   "source": [
    "def get_plwn_pwn_mapping() -> dict:\n",
    "    MAPPING_PWN_PLWN_PATH = SENTIMENT_RES_DIR.joinpath('plwn_pwn_mappings', 'pwn30-plwn32.txt')\n",
    "    map_lines = MAPPING_PWN_PLWN_PATH.open(mode='r').readlines()\n",
    "    plwn_pwn_mapping = dict()\n",
    "    for line in map_lines:\n",
    "        pwn_syn, plwn_syn = line.split('\\t')\n",
    "        plwn_syn = str(int(plwn_syn))\n",
    "        plwn_pwn_mapping[plwn_syn] = pwn_syn\n",
    "\n",
    "    return plwn_pwn_mapping\n",
    "\n",
    "\n",
    "plwn_pwn_mapping = get_plwn_pwn_mapping()"
   ],
   "metadata": {
    "collapsed": false,
    "pycharm": {
     "name": "#%%\n"
    }
   }
  },
  {
   "cell_type": "code",
   "execution_count": 48,
   "outputs": [
    {
     "data": {
      "text/plain": "{'262989': '00001740-a',\n '284799': '00001740-n',\n '281174': '00001740-r',\n '366991': '00001740-v',\n '281175': '00001837-r',\n '284800': '00001930-n',\n '281176': '00001981-r',\n '262990': '00002098-a',\n '284801': '00002137-n',\n '281177': '00002142-r',\n '281178': '00002296-r',\n '262991': '00002312-a',\n '366992': '00002325-v',\n '281179': '00002436-r',\n '284802': '00002452-n',\n '262992': '00002527-a',\n '366993': '00002573-v',\n '281180': '00002621-r',\n '284803': '00002684-n',\n '366994': '00002724-v',\n '262993': '00002730-a',\n '262994': '00002843-a',\n '366995': '00002942-v',\n '283242': '00002950-r',\n '262995': '00002956-a',\n '281183': '00003093-r',\n '262996': '00003131-a',\n '366996': '00003133-v',\n '281184': '00003294-r',\n '366997': '00003316-v',\n '262997': '00003356-a',\n '281185': '00003380-r',\n '366998': '00003431-v',\n '281186': '00003483-r',\n '262998': '00003553-a',\n '284804': '00003553-n',\n '366999': '00003662-v',\n '262999': '00003700-a',\n '281187': '00003771-r',\n '367000': '00003826-v',\n '263000': '00003829-a',\n '281188': '00003846-r',\n '281189': '00003925-r',\n '263001': '00003939-a',\n '284805': '00003993-n',\n '367001': '00004032-v',\n '281190': '00004038-r',\n '263002': '00004171-a',\n '281191': '00004184-r',\n '367002': '00004227-v',\n '284806': '00004258-n',\n '281192': '00004288-r',\n '263003': '00004296-a',\n '281193': '00004394-r',\n '263004': '00004413-a',\n '284807': '00004475-n',\n '367003': '00004492-v',\n '281194': '00004567-r',\n '367004': '00004605-v',\n '263005': '00004615-a',\n '281195': '00004722-r',\n '263006': '00004723-a',\n '263007': '00004817-a',\n '367005': '00004819-v',\n '281196': '00004967-r',\n '263008': '00004980-a',\n '367006': '00005041-v',\n '281197': '00005055-r',\n '263009': '00005107-a',\n '263010': '00005205-a',\n '281198': '00005210-r',\n '281199': '00005343-r',\n '281200': '00005453-r',\n '263011': '00005473-a',\n '367007': '00005526-v',\n '281201': '00005567-r',\n '263012': '00005599-a',\n '281202': '00005674-r',\n '263013': '00005718-a',\n '281203': '00005779-r',\n '284808': '00005787-n',\n '367008': '00005815-v',\n '263014': '00005839-a',\n '284809': '00005930-n',\n '284810': '00006024-n',\n '263015': '00006032-a',\n '281204': '00006034-r',\n '367009': '00006100-v',\n '281205': '00006105-r',\n '284811': '00006150-n',\n '367010': '00006238-v',\n '263016': '00006245-a',\n '281206': '00006259-r',\n '284812': '00006269-n',\n '263017': '00006336-a',\n '284813': '00006400-n',\n '281207': '00006423-r',\n '284814': '00006484-n',\n '367011': '00006523-v',\n '281208': '00006610-r',\n '367012': '00006697-v',\n '281209': '00006729-r',\n '263018': '00006777-a',\n '367013': '00006802-v',\n '281210': '00006858-r',\n '263019': '00006885-a',\n '367014': '00007012-v',\n '281211': '00007015-r',\n '263020': '00007096-a',\n '367015': '00007193-v',\n '263021': '00007208-a',\n '367016': '00007328-v',\n '263022': '00007331-a',\n '284815': '00007347-n',\n '281212': '00007488-r',\n '263023': '00007516-a',\n '367017': '00007549-v',\n '263024': '00007697-a',\n '281213': '00007703-r',\n '367018': '00007739-v',\n '263025': '00007813-a',\n '284816': '00007846-n',\n '281214': '00007884-r',\n '263026': '00007990-a',\n '281215': '00008007-r',\n '367019': '00008055-v',\n '367020': '00008195-v',\n '263027': '00008206-a',\n '367021': '00008299-v',\n '367022': '00008435-v',\n '263028': '00008443-a',\n '263029': '00008595-a',\n '281216': '00008600-r',\n '367023': '00008602-v',\n '263030': '00008734-a',\n '367024': '00008799-v',\n '263031': '00008877-a',\n '367025': '00008977-v',\n '281217': '00008997-r',\n '263032': '00009046-a',\n '367026': '00009147-v',\n '263033': '00009346-a',\n '281218': '00009373-r',\n '367027': '00009492-v',\n '281219': '00009541-r',\n '263034': '00009618-a',\n '367028': '00009631-v',\n '281220': '00009650-r',\n '281221': '00009859-r',\n '367029': '00009884-v',\n '281222': '00009966-r',\n '263035': '00009978-a',\n '281223': '00010047-r',\n '367030': '00010054-v',\n '367031': '00010241-v',\n '281224': '00010276-r',\n '263036': '00010385-a',\n '367032': '00010435-v',\n '281225': '00010466-r',\n '263037': '00010537-a',\n '263038': '00010726-a',\n '281226': '00010759-r',\n '281227': '00010914-r',\n '281228': '00011011-r',\n '281229': '00011093-r',\n '263039': '00011160-a',\n '263040': '00011327-a',\n '367033': '00011361-v',\n '281230': '00011516-r',\n '367034': '00011551-v',\n '263041': '00011665-a',\n '367035': '00011698-v',\n '263042': '00011757-a',\n '367036': '00011852-v',\n '281231': '00011916-r',\n '367037': '00011982-v',\n '281232': '00012047-r',\n '263043': '00012071-a',\n '281233': '00012129-r',\n '367038': '00012137-v',\n '367039': '00012267-v',\n '281234': '00012286-r',\n '263044': '00012362-a',\n '367040': '00012434-v',\n '281235': '00012531-r',\n '367041': '00012613-v',\n '263045': '00012689-a',\n '367042': '00012753-v',\n '281236': '00012779-r',\n '367043': '00012854-v',\n '263046': '00012932-a',\n '367044': '00012944-v',\n '281237': '00013092-r',\n '263047': '00013160-a',\n '367045': '00013172-v',\n '281238': '00013236-r',\n '367046': '00013328-v',\n '281239': '00013429-r',\n '263048': '00013442-a',\n '367047': '00013615-v',\n '281240': '00013626-r',\n '263049': '00013662-a',\n '281241': '00013793-r',\n '367048': '00013858-v',\n '263050': '00013887-a',\n '281242': '00014014-r',\n '367049': '00014034-v',\n '367050': '00014201-v',\n '281243': '00014285-r',\n '263051': '00014358-a',\n '367051': '00014405-v',\n '263052': '00014490-a',\n '367052': '00014549-v',\n '281244': '00014616-r',\n '281245': '00014738-r',\n '367053': '00014742-v',\n '263053': '00014858-a',\n '281246': '00014882-r',\n '281247': '00015007-r',\n '263054': '00015097-a',\n '281248': '00015135-r',\n '367054': '00015163-v',\n '263055': '00015247-a',\n '367055': '00015303-v',\n '281249': '00015368-r',\n '284817': '00015388-n',\n '281250': '00015471-r',\n '263056': '00015480-a',\n '367056': '00015498-v',\n '263057': '00015589-a',\n '281251': '00015706-r',\n '367057': '00015713-v',\n '263058': '00015720-a',\n '367058': '00015806-v',\n '263059': '00015854-a',\n '281252': '00015860-r',\n '367059': '00015946-v',\n '281253': '00015953-r',\n '263060': '00016005-a',\n '263061': '00016135-a',\n '367060': '00016183-v',\n '281254': '00016240-r',\n '263062': '00016247-a',\n '263063': '00016350-a',\n '367061': '00016380-v',\n '281255': '00016458-r',\n '263064': '00016532-a',\n '367062': '00016573-v',\n '263065': '00016647-a',\n '281256': '00016678-r',\n '367063': '00016702-v',\n '263066': '00016756-a',\n '367064': '00016855-v',\n '281257': '00016950-r',\n '263067': '00017024-a',\n '367065': '00017031-v',\n '281258': '00017077-r',\n '263068': '00017186-a',\n '284818': '00017222-n',\n '281259': '00017241-r',\n '367066': '00017282-v',\n '263069': '00017352-a',\n '281260': '00017445-r',\n '263070': '00017509-a',\n '367067': '00017531-v',\n '281261': '00017639-r',\n '367068': '00017674-v',\n '263071': '00017688-a',\n '263072': '00017782-a',\n '367069': '00017865-v',\n '281262': '00017881-r',\n '281263': '00018043-r',\n '263073': '00018069-a',\n '367070': '00018158-v',\n '281264': '00018189-r',\n '263074': '00018222-a',\n '281265': '00018265-r',\n '281266': '00018302-r',\n '367071': '00018405-v',\n '263075': '00018435-a',\n '367072': '00018526-v',\n '281267': '00018577-r',\n '263076': '00018584-a',\n '281268': '00018781-r',\n '367073': '00018813-v',\n '263077': '00018850-a',\n '281269': '00018918-r',\n '284819': '00019046-n',\n '284820': '00019128-n',\n '263078': '00019131-a',\n '281270': '00019181-r',\n '367074': '00019182-v',\n '367075': '00019273-v',\n '281271': '00019339-r',\n '263079': '00019349-a',\n '367076': '00019448-v',\n '263080': '00019505-a',\n '281272': '00019609-r',\n '284821': '00019613-n',\n '263081': '00019731-a',\n '281273': '00019757-r',\n '367077': '00019792-v',\n '263082': '00019874-a',\n '281274': '00019900-r',\n '367078': '00019982-v',\n '281275': '00020019-r',\n '263083': '00020103-a',\n '367079': '00020133-v',\n '281276': '00020142-r',\n '263084': '00020241-a',\n '367080': '00020259-v',\n '281277': '00020280-r',\n '263085': '00020410-a',\n '367081': '00020449-v',\n '281278': '00020476-r',\n '263086': '00020647-a',\n '367082': '00020671-v',\n '281279': '00020676-r',\n '281280': '00020759-r',\n '263087': '00020787-a',\n '284823': '00020827-n',\n '367083': '00020926-v',\n '281281': '00020997-r',\n '367084': '00021065-v',\n '263088': '00021110-a',\n '281282': '00021212-r',\n '284824': '00021265-n',\n '263089': '00021403-a',\n '367085': '00021554-v',\n '263090': '00021592-a',\n '367086': '00021679-v',\n '281283': '00021702-r',\n '284825': '00021734-n',\n '263091': '00021766-a',\n '367087': '00021826-v',\n '281284': '00021878-r',\n '284826': '00021939-n',\n '367088': '00021997-v',\n '367089': '00022099-v',\n '281285': '00022131-r',\n '263092': '00022219-a',\n '367090': '00022316-v',\n '281286': '00022401-r',\n '263094': '00022680-a',\n '367091': '00022686-v',\n '281287': '00022717-r',\n '281288': '00022829-r',\n '263095': '00022852-a',\n '284827': '00022903-n',\n '263096': '00022962-a',\n '284828': '00023100-n',\n '263097': '00023120-a',\n '281289': '00023169-r',\n '367092': '00023244-v',\n '281290': '00023263-r',\n '284829': '00023271-n',\n '263098': '00023278-a',\n '367093': '00023380-v',\n '263099': '00023383-a',\n '281291': '00023412-r',\n '367094': '00023473-v',\n '281292': '00023493-r',\n '281293': '00023574-r',\n '367095': '00023646-v',\n '263100': '00023655-a',\n '281294': '00023721-r',\n '284830': '00023773-n',\n '263101': '00023854-a',\n '367096': '00023868-v',\n '281295': '00023875-r',\n '281296': '00023958-r',\n '367097': '00024047-v',\n '281297': '00024073-r',\n '263102': '00024139-a',\n '263103': '00024241-a',\n '281298': '00024257-r',\n '284831': '00024264-n',\n '367098': '00024279-v',\n '281299': '00024356-r',\n '281300': '00024509-r',\n '281301': '00024587-r',\n '263104': '00024619-a',\n '367099': '00024649-v',\n '281302': '00024682-r',\n '284832': '00024720-n',\n '367100': '00024814-v',\n '265758': '00024834-a',\n '281303': '00024893-r',\n '367101': '00025034-v',\n '281304': '00025144-r',\n '367102': '00025203-v',\n '263109': '00025238-a',\n '281305': '00025290-r',\n '281306': '00025464-r',\n '263110': '00025470-a',\n '367103': '00025510-v',\n '281307': '00025559-r',\n '263111': '00025633-a',\n '367104': '00025654-v',\n '263112': '00025728-a',\n '281308': '00025728-r',\n '367105': '00025985-v',\n '263113': '00026051-a',\n '281309': '00026061-r',\n '281310': '00026137-r',\n '367106': '00026153-v',\n '263114': '00026168-a',\n '284833': '00026192-n',\n '263115': '00026294-a',\n '367107': '00026385-v',\n '263116': '00026388-a',\n '281311': '00026416-r',\n '263117': '00026515-a',\n '281312': '00026571-r',\n '263118': '00026706-a',\n '367108': '00026734-v',\n '263119': '00026895-a',\n '367109': '00026941-v',\n '367110': '00027064-v',\n '263120': '00027074-a',\n '281313': '00027093-r',\n '284834': '00027167-n',\n '263121': '00027247-a',\n '281314': '00027258-r',\n '367111': '00027268-v',\n '281315': '00027384-r',\n '367112': '00027570-v',\n '263122': '00027599-a',\n '367113': '00027705-v',\n '281316': '00027795-r',\n '284835': '00027807-n',\n '281317': '00027918-r',\n '263124': '00028008-a',\n '367114': '00028010-v',\n '367115': '00028167-v',\n '263125': '00028181-a',\n '281318': '00028198-r',\n '284836': '00028270-n',\n '263126': '00028280-a',\n '281319': '00028319-r',\n '367116': '00028362-v',\n '281320': '00028424-r',\n '367117': '00028565-v',\n '281321': '00028578-r',\n '284837': '00028651-n',\n '263128': '00028672-a',\n '281322': '00028797-r',\n '263129': '00028867-a',\n '367118': '00028876-v',\n '281323': '00028923-r',\n '263130': '00028984-a',\n '284838': '00029007-n',\n '367119': '00029025-v',\n '281324': '00029037-r',\n '263131': '00029108-a',\n '284839': '00029114-n',\n '367120': '00029214-v',\n '263132': '00029216-a',\n '281325': '00029278-r',\n '367121': '00029336-v',\n '263133': '00029343-a',\n '281326': '00029367-r',\n '284840': '00029378-n',\n '367122': '00029518-v',\n '367123': '00029630-v',\n '281327': '00029639-r',\n '284841': '00029677-n',\n '367124': '00029742-v',\n '263134': '00029769-a',\n '367125': '00029836-v',\n '263135': '00029933-a',\n '281328': '00029985-r',\n '367126': '00030010-v',\n '367127': '00030142-v',\n '284842': '00030358-n',\n '367128': '00030366-v',\n '281329': '00030443-r',\n '367129': '00030463-v',\n '263136': '00030508-a',\n '367130': '00030647-v',\n '281330': '00030654-r',\n '263137': '00030701-a',\n '263138': '00030798-a',\n '367131': '00030853-v',\n '281331': '00030914-r',\n '367132': '00031068-v',\n '263139': '00031138-a',\n '367133': '00031181-v',\n '281332': '00031214-r',\n '284843': '00031264-n',\n '367134': '00031277-v',\n '281333': '00031304-r',\n '263140': '00031384-a',\n '367135': '00031418-v',\n '281334': '00031515-r',\n '263141': '00031533-a',\n '367136': '00031540-v',\n '281335': '00031606-r',\n '367137': '00031663-v',\n '263142': '00031674-a',\n '281336': '00031798-r',\n '367138': '00031820-v',\n '263143': '00031824-a',\n '281337': '00031899-r',\n '284844': '00031921-n',\n '263144': '00031974-a',\n '281338': '00032180-r',\n '367139': '00032297-v',\n '281339': '00032299-r',\n '367140': '00032414-v',\n '263146': '00032497-a',\n '367141': '00032539-v',\n '284845': '00032613-n',\n '281340': '00032705-r',\n '263147': '00032733-a',\n '367142': '00032778-v',\n '281341': '00032803-r',\n '284846': '00032823-n',\n '281342': '00032863-r',\n '367143': '00032981-v',\n '281343': '00032996-r',\n '284847': '00033020-n',\n '263148': '00033077-a',\n '281344': '00033139-r',\n '367144': '00033203-v',\n '263149': '00033206-a',\n '281345': '00033237-r',\n '281346': '00033308-r',\n '367145': '00033406-v',\n '281347': '00033421-r',\n '263151': '00033475-a',\n '281348': '00033562-r',\n '263152': '00033574-a',\n '367146': '00033599-v',\n '284848': '00033615-n',\n '281349': '00033663-r',\n '281350': '00033809-r',\n '367147': '00033852-v',\n '263153': '00033886-a',\n '281351': '00033922-r',\n '367148': '00033955-v',\n '263154': '00034032-a',\n '367149': '00034115-v',\n '281352': '00034137-r',\n '281353': '00034189-r',\n '284849': '00034213-n',\n '263155': '00034232-a',\n '367150': '00034288-v',\n '281354': '00034308-r',\n '263156': '00034322-a',\n '281355': '00034403-r',\n '284850': '00034479-n',\n '281356': '00034500-r',\n '263157': '00034572-a',\n '284852': '00034574-n',\n '367151': '00034634-v',\n '281357': '00034641-r',\n '263158': '00034710-a',\n '281358': '00034746-r',\n '367152': '00034758-v',\n '284854': '00034777-n',\n '281359': '00034862-r',\n '263159': '00034924-a',\n '284855': '00034939-n',\n '281360': '00034945-r',\n '367153': '00034948-v',\n '281361': '00035058-r',\n '263160': '00035074-a',\n '367154': '00035089-v',\n '284856': '00035189-n',\n '263161': '00035254-a',\n '281362': '00035255-r',\n '367155': '00035259-v',\n '281363': '00035320-r',\n '263162': '00035368-a',\n '281364': '00035385-r',\n '367156': '00035448-v',\n '263163': '00035465-a',\n '281365': '00035491-r',\n '367157': '00035603-v',\n '284857': '00035697-n',\n '281366': '00035718-r',\n '367158': '00035758-v',\n '263164': '00035779-a',\n '263165': '00035868-a',\n '284858': '00035891-n',\n '263166': '00035978-a',\n '284859': '00036061-n',\n '281367': '00036068-r',\n '367159': '00036178-v',\n '263168': '00036254-a',\n '281368': '00036291-r',\n '284860': '00036299-n',\n '263169': '00036346-a',\n '367160': '00036362-v',\n '263170': '00036481-a',\n '281369': '00036515-r',\n '284861': '00036580-n',\n '281370': '00036609-r',\n '367161': '00036685-v',\n '284862': '00036762-n',\n '281371': '00036762-r',\n '367162': '00036780-v',\n '263172': '00036879-a',\n '367163': '00036932-v',\n '281372': '00036935-r',\n '263173': '00036998-a',\n '284863': '00037006-n',\n '284864': '00037090-n',\n '367164': '00037138-v',\n '263174': '00037188-a',\n '284865': '00037200-n',\n '281373': '00037226-r',\n '367165': '00037298-v',\n '263175': '00037341-a',\n '284866': '00037396-n',\n '263176': '00037457-a',\n '281374': '00037470-r',\n '367166': '00037514-v',\n '281375': '00037641-r',\n '263177': '00037653-a',\n '367167': '00037680-v',\n '263178': '00037757-a',\n '367168': '00037779-v',\n '281376': '00037876-r',\n '376762': '00037919-v',\n '263179': '00037985-a',\n '281377': '00038013-r',\n '263180': '00038119-a',\n '284867': '00038175-n',\n '367169': '00038199-v',\n '263181': '00038260-a',\n '284868': '00038262-n',\n '281378': '00038264-r',\n '367170': '00038365-v',\n '281379': '00038388-r',\n '263182': '00038462-a',\n '281380': '00038489-r',\n '281381': '00038537-r',\n '284869': '00038573-n',\n '263183': '00038623-a',\n '281382': '00038625-r',\n '367171': '00038687-v',\n '263184': '00038750-a',\n '281383': '00038767-r',\n '367172': '00038849-v',\n '284870': '00038863-n',\n '284871': '00039021-n',\n '281384': '00039058-r',\n '367173': '00039121-v',\n '263185': '00039122-a',\n '284872': '00039211-n',\n '281385': '00039217-r',\n '263186': '00039259-a',\n '367174': '00039267-v',\n '284873': '00039297-n',\n '281386': '00039318-r',\n '367175': '00039385-v',\n '263187': '00039394-a',\n '367176': '00039488-v',\n '284874': '00039545-n',\n '263188': '00039592-a',\n '367177': '00039680-v',\n '284875': '00039740-n',\n '367178': '00039824-v',\n '284876': '00039916-n',\n '263189': '00039929-a',\n '281387': '00039941-r',\n '367179': '00039950-v',\n '284877': '00039990-n',\n '263190': '00040058-a',\n '263191': '00040058-a',\n '367180': '00040084-v',\n '284878': '00040152-n',\n '367181': '00040188-v',\n '263192': '00040325-a',\n '367182': '00040353-v',\n '281388': '00040365-r',\n '284879': '00040420-n',\n '281389': '00040494-r',\n '263193': '00040534-a',\n '284880': '00040545-n',\n '281390': '00040547-r',\n '263194': '00040685-a',\n '281391': '00040719-r',\n '367183': '00040766-v',\n '284881': '00040804-n',\n '263195': '00040909-a',\n '367184': '00040928-v',\n '284882': '00040962-n',\n '281392': '00041014-r',\n '263196': '00041051-a',\n '281393': '00041133-r',\n '284883': '00041188-n',\n '263197': '00041202-a',\n '367185': '00041206-v',\n '281394': '00041232-r',\n '263198': '00041361-a',\n '281395': '00041393-r',\n '367186': '00041417-v',\n '281396': '00041452-r',\n '284884': '00041468-n',\n '263199': '00041488-a',\n '367187': '00041554-v',\n '281398': '00041570-r',\n '284885': '00041614-n',\n '263200': '00041618-a',\n '367188': '00041687-v',\n '284886': '00041740-n',\n '281399': '00041758-r',\n '263201': '00041841-a',\n '367189': '00041866-v',\n '284887': '00041899-n',\n '281400': '00041954-r',\n '367190': '00042017-v',\n '263202': '00042037-a',\n '281401': '00042134-r',\n '367191': '00042173-v',\n '263203': '00042228-a',\n '281402': '00042254-r',\n '284888': '00042311-n',\n '367192': '00042364-v',\n '263204': '00042457-a',\n '367193': '00042479-v',\n '281403': '00042484-r',\n '284889': '00042541-n',\n '281404': '00042614-r',\n '367194': '00042641-v',\n '263205': '00042692-a',\n '284890': '00042757-n',\n '281405': '00042769-r',\n '367195': '00042792-v',\n '263206': '00042837-a',\n '367196': '00042936-v',\n '263207': '00042982-a',\n '281406': '00043003-r',\n '367197': '00043078-v',\n '284891': '00043116-n',\n '263208': '00043125-a',\n '284892': '00043195-n',\n '263209': '00043231-a',\n '367198': '00043278-v',\n '281407': '00043347-r',\n '263210': '00043411-a',\n '281408': '00043436-r',\n '367199': '00043480-v',\n '281409': '00043521-r',\n '281410': '00043608-r',\n '284893': '00043609-n',\n '263211': '00043615-a',\n '367200': '00043683-v',\n '263212': '00043765-a',\n '281411': '00043794-r',\n '284894': '00043902-n',\n '367201': '00043912-v',\n '367202': '00044037-v',\n '281412': '00044076-r',\n '263213': '00044132-a',\n '367203': '00044149-v',\n '284895': '00044150-n',\n '281413': '00044262-r',\n '263214': '00044353-a',\n '281414': '00044394-r',\n '284896': '00044455-n',\n '281415': '00044579-r',\n '263215': '00044608-a',\n '284897': '00044673-n',\n '281416': '00044754-r',\n '263216': '00044760-a',\n '367204': '00044797-v',\n '281417': '00044861-r',\n '284898': '00044900-n',\n '263217': '00044987-a',\n '367205': '00045064-v',\n '281418': '00045092-r',\n '284899': '00045114-n',\n '263218': '00045123-a',\n '367206': '00045145-v',\n '367207': '00045240-v',\n '284900': '00045250-n',\n '281419': '00045254-r',\n '367208': '00045346-v',\n '263219': '00045356-a',\n '281420': '00045379-r',\n '367209': '00045532-v',\n '263220': '00045561-a',\n '281421': '00045607-r',\n '367210': '00045639-v',\n '284901': '00045646-n',\n '281422': '00045704-r',\n '263221': '00045735-a',\n '367211': '00045817-v',\n '263222': '00045888-a',\n '281423': '00045897-r',\n '284902': '00045907-n',\n '281424': '00046002-r',\n '263223': '00046014-a',\n '367212': '00046022-v',\n '263224': '00046109-a',\n '367213': '00046151-v',\n '281425': '00046167-r',\n '284903': '00046177-n',\n '281426': '00046299-r',\n '284427': '00046299-r',\n '263225': '00046339-a',\n '284904': '00046344-n',\n '367214': '00046382-v',\n '281427': '00046449-r',\n '263226': '00046471-a',\n '284905': '00046522-n',\n '367215': '00046534-v',\n '281428': '00046545-r',\n '263227': '00046558-a',\n '281429': '00046639-r',\n '263228': '00046673-a',\n '263229': '00046792-a',\n '281430': '00046863-r',\n '263230': '00046955-a',\n '284906': '00047018-n',\n '263231': '00047029-a',\n '367216': '00047032-v',\n '281431': '00047056-r',\n '284907': '00047106-n',\n '367217': '00047172-v',\n '281432': '00047239-r',\n '263232': '00047243-a',\n '367218': '00047317-v',\n '284908': '00047356-n',\n '281433': '00047392-r',\n '263233': '00047406-a',\n '367219': '00047511-v',\n '281434': '00047534-r',\n '284909': '00047550-n',\n '263234': '00047566-a',\n '367220': '00047610-v',\n '281435': '00047641-r',\n '263235': '00047653-a',\n '284910': '00047745-n',\n '367221': '00047745-v',\n '263236': '00047786-a',\n '281436': '00047903-r',\n '284911': '00047941-n',\n '367222': '00047945-v',\n '263237': '00047954-a',\n '284912': '00048051-n',\n '263238': '00048129-a',\n '281437': '00048138-r',\n '284913': '00048225-n',\n '281438': '00048268-r',\n '284914': '00048374-n',\n '263239': '00048460-a',\n '281439': '00048475-r',\n '367223': '00048633-v',\n '284915': '00048656-n',\n '263240': '00048706-a',\n '281440': '00048739-r',\n '367224': '00048790-v',\n '284916': '00048828-n',\n '263241': '00048858-a',\n '367225': '00048912-v',\n '284917': '00049003-n',\n '367226': '00049007-v',\n '263242': '00049016-a',\n '281441': '00049102-r',\n '367227': '00049102-v',\n '367228': '00049197-v',\n '281442': '00049220-r',\n '263243': '00049266-a',\n '367229': '00049309-v',\n '284918': '00049344-n',\n '281443': '00049433-r',\n '263244': '00049469-a',\n '367230': '00049483-v',\n '284919': '00049530-n',\n '284920': '00049636-n',\n '367231': '00049669-v',\n '263245': '00049683-a',\n '281444': '00049685-r',\n '281445': '00049758-r',\n '367232': '00049770-v',\n '284921': '00049789-n',\n '263246': '00049879-a',\n '281446': '00049889-r',\n '367233': '00049900-v',\n '284922': '00049909-n',\n '281447': '00049947-r',\n '284923': '00050037-n',\n '281448': '00050075-r',\n '263247': '00050083-a',\n '281449': '00050186-r',\n '284924': '00050195-n',\n '263248': '00050260-a',\n '281450': '00050297-r',\n '367234': '00050315-v',\n '263249': '00050446-a',\n '367235': '00050454-v',\n '284925': '00050484-n',\n '281451': '00050556-r',\n '263250': '00050641-a',\n '367236': '00050652-v',\n '281452': '00050681-r',\n '284926': '00050693-n',\n '263251': '00050799-a',\n '281453': '00050817-r',\n '284927': '00050887-n',\n '263252': '00050947-a',\n '281454': '00051017-r',\n '263253': '00051045-a',\n '367237': '00051060-v',\n '284928': '00051077-n',\n '367238': '00051170-v',\n '284929': '00051192-n',\n '281455': '00051268-r',\n '367239': '00051370-v',\n '263254': '00051373-a',\n '284930': '00051385-n',\n '281456': '00051440-r',\n '367240': '00051511-v',\n '284931': '00051525-n',\n '263255': '00051571-a',\n '281457': '00051590-r',\n '367241': '00051637-v',\n '263256': '00051696-a',\n '284932': '00051712-n',\n '367242': '00051761-v',\n '281458': '00051848-r',\n '284933': '00051897-n',\n '367243': '00051942-v',\n '263257': '00052012-a',\n '281459': '00052026-r',\n '367244': '00052043-v',\n '284934': '00052052-n',\n '284935': '00052146-n',\n '281460': '00052152-r',\n '281461': '00052231-r',\n '263258': '00052246-a',\n '367245': '00052253-v',\n '284936': '00052334-n',\n '367246': '00052374-v',\n '263259': '00052431-a',\n '281462': '00052489-r',\n '284937': '00052500-n',\n '367247': '00052548-v',\n '281463': '00052659-r',\n '263260': '00052672-a',\n '281464': '00052762-r',\n '284938': '00052791-n',\n '367248': '00052845-v',\n '281465': '00052882-r',\n '281466': '00053004-r',\n '284939': '00053020-n',\n '263261': '00053032-a',\n '367249': '00053035-v',\n '284940': '00053097-n',\n '281467': '00053152-r',\n '263262': '00053154-a',\n '367250': '00053159-v',\n '263263': '00053248-a',\n '281468': '00053274-r',\n '367251': '00053341-v',\n '263264': '00053384-a',\n '281469': '00053394-r',\n '284941': '00053405-n',\n '281470': '00053512-r',\n '367252': '00053517-v',\n '284942': '00053525-n',\n '263265': '00053564-a',\n '284943': '00053609-n',\n '367253': '00053656-v',\n '263266': '00053691-a',\n '281471': '00053744-r',\n '284944': '00053806-n',\n '367254': '00053889-v',\n '284945': '00053913-n',\n '281472': '00053952-r',\n '367255': '00054059-v',\n '281473': '00054084-r',\n '263267': '00054109-a',\n '263268': '00054201-a',\n '281474': '00054212-r',\n '263269': '00054278-a',\n '367256': '00054285-v',\n '281475': '00054327-r',\n '284946': '00054328-n',\n '263270': '00054364-a',\n '281476': '00054435-r',\n '284947': '00054483-n',\n '281477': '00054524-r',\n '367257': '00054535-v',\n '263271': '00054541-a',\n '367258': '00054628-v',\n '281478': '00054636-r',\n '284948': '00054652-n',\n '263272': '00054667-a',\n '281479': '00054750-r',\n '263273': '00054804-a',\n '284949': '00054821-n',\n '281480': '00054831-r',\n '263274': '00054908-a',\n '281481': '00054950-r',\n ...}"
     },
     "execution_count": 48,
     "metadata": {},
     "output_type": "execute_result"
    }
   ],
   "source": [
    "plwn_pwn_mapping"
   ],
   "metadata": {
    "collapsed": false,
    "pycharm": {
     "name": "#%%\n"
    }
   }
  },
  {
   "cell_type": "code",
   "execution_count": 73,
   "outputs": [
    {
     "name": "stdout",
     "output_type": "stream",
     "text": [
      "Mapping len: 117176\n",
      "Unique PWN labels in mapping: 117034\n"
     ]
    }
   ],
   "source": [
    "print(f'Mapping len: {len(plwn_pwn_mapping.values())}')\n",
    "print(f'Unique PWN labels in mapping: {len(set(plwn_pwn_mapping.values()))}')"
   ],
   "metadata": {
    "collapsed": false,
    "pycharm": {
     "name": "#%%\n"
    }
   }
  },
  {
   "cell_type": "code",
   "execution_count": 95,
   "outputs": [],
   "source": [
    "from pathlib import Path\n",
    "from collections import defaultdict\n",
    "\n",
    "\n",
    "def get_pwn_mappings(values_mapper: dict, plwn_pwn_mapping: dict[str, str], savepath: Path) -> None:\n",
    "    pwn_values = defaultdict(set)\n",
    "    for key, values in values_mapper.items():\n",
    "        if key in plwn_pwn_mapping:\n",
    "            pwn_id = plwn_pwn_mapping[key]\n",
    "            pwn_values[pwn_id].update(values)\n",
    "\n",
    "    data = {'pwn_id': pwn_values.keys(), 'values': pwn_values.values()}\n",
    "    df = pd.DataFrame.from_dict(data)\n",
    "    df = df.sort_values(by=['pwn_id'])\n",
    "    df['values'] = df['values'].apply(lambda x: list(x))\n",
    "\n",
    "    assert len(df) == len(df['pwn_id'].unique())\n",
    "    df.to_csv(savepath, sep='\\t', index=False, header=False)\n"
   ],
   "metadata": {
    "collapsed": false,
    "pycharm": {
     "name": "#%%\n"
    }
   }
  },
  {
   "cell_type": "code",
   "execution_count": 96,
   "outputs": [],
   "source": [
    "# save mapping filenames for EmoPlWN\n",
    "HYPERNYMY_EMONAMES_PATH = SENTIMENT_RES_DIR.joinpath('plwn_pwn_mappings', 'pwn-plwn_hypernymy_emonames.txt')\n",
    "SYNONYMY_EMONAMES_PATH = SENTIMENT_RES_DIR.joinpath('plwn_pwn_mappings', 'pwn-plwn_synonymy_emonames.txt')\n",
    "HYPONYMY_EMONAMES_PATH = SENTIMENT_RES_DIR.joinpath('plwn_pwn_mappings', 'pwn-plwn_hyponymy_emonames.txt')\n",
    "\n",
    "HYPERNYMY_EMOVALUATIONS_PATH = SENTIMENT_RES_DIR.joinpath('plwn_pwn_mappings', 'pwn-plwn_hypernymy_emovaluations.txt')\n",
    "SYNONYMY_EMOVALUATIONS_PATH = SENTIMENT_RES_DIR.joinpath('plwn_pwn_mappings', 'pwn-plwn_synonymy_emovaluations.txt')\n",
    "HYPONYMY_EMOVALUATIONS_PATH = SENTIMENT_RES_DIR.joinpath('plwn_pwn_mappings', 'pwn-plwn_hyponymy_emovaluations.txt')"
   ],
   "metadata": {
    "collapsed": false,
    "pycharm": {
     "name": "#%%\n"
    }
   }
  },
  {
   "cell_type": "markdown",
   "source": [
    "Save emotion mappings files"
   ],
   "metadata": {
    "collapsed": false,
    "pycharm": {
     "name": "#%% md\n"
    }
   }
  },
  {
   "cell_type": "code",
   "execution_count": 97,
   "outputs": [],
   "source": [
    "get_pwn_mappings(\n",
    "    values_mapper=plwn_en_emonames_hyper,\n",
    "    plwn_pwn_mapping=plwn_pwn_mapping,\n",
    "    savepath=HYPERNYMY_EMONAMES_PATH,\n",
    ")\n",
    "get_pwn_mappings(\n",
    "    values_mapper=plwn_en_emonames_syn,\n",
    "    plwn_pwn_mapping=plwn_pwn_mapping,\n",
    "    savepath=SYNONYMY_EMONAMES_PATH,\n",
    ")\n",
    "get_pwn_mappings(\n",
    "    values_mapper=plwn_en_emonames_hypo,\n",
    "    plwn_pwn_mapping=plwn_pwn_mapping,\n",
    "    savepath=HYPONYMY_EMONAMES_PATH,\n",
    ")\n",
    "\n",
    "get_pwn_mappings(\n",
    "    values_mapper=plwn_en_emovaluations_hyper,\n",
    "    plwn_pwn_mapping=plwn_pwn_mapping,\n",
    "    savepath=HYPERNYMY_EMOVALUATIONS_PATH,\n",
    ")\n",
    "get_pwn_mappings(\n",
    "    values_mapper=plwn_en_emovaluations_syn,\n",
    "    plwn_pwn_mapping=plwn_pwn_mapping,\n",
    "    savepath=SYNONYMY_EMOVALUATIONS_PATH,\n",
    ")\n",
    "get_pwn_mappings(\n",
    "    values_mapper=plwn_en_emovaluations_hypo,\n",
    "    plwn_pwn_mapping=plwn_pwn_mapping,\n",
    "    savepath=HYPONYMY_EMOVALUATIONS_PATH,\n",
    ")"
   ],
   "metadata": {
    "collapsed": false,
    "pycharm": {
     "name": "#%%\n"
    }
   }
  }
 ],
 "metadata": {
  "kernelspec": {
   "display_name": "Python 3",
   "language": "python",
   "name": "python3"
  },
  "language_info": {
   "codemirror_mode": {
    "name": "ipython",
    "version": 2
   },
   "file_extension": ".py",
   "mimetype": "text/x-python",
   "name": "python",
   "nbconvert_exporter": "python",
   "pygments_lexer": "ipython2",
   "version": "2.7.6"
  }
 },
 "nbformat": 4,
 "nbformat_minor": 0
}